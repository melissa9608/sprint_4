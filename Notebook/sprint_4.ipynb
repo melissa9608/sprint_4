{
 "cells": [
  {
   "cell_type": "markdown",
   "metadata": {
    "id": "3rYiDeEH0q0f"
   },
   "source": [
    "# ¿Cuál es la mejor tarifa?\n",
    "\n",
    "Trabajas como analista para el operador de telecomunicaciones Megaline. La empresa ofrece a sus clientes dos tarifas de prepago, Surf y Ultimate. El departamento comercial quiere saber cuál de las tarifas genera más ingresos para poder ajustar el presupuesto de publicidad.\n",
    "\n",
    "Vas a realizar un análisis preliminar de las tarifas basado en una selección de clientes relativamente pequeña. Tendrás los datos de 500 clientes de Megaline: quiénes son los clientes, de dónde son, qué tarifa usan, así como la cantidad de llamadas que hicieron y los mensajes de texto que enviaron en 2018. Tu trabajo es analizar el comportamiento de los clientes y determinar qué tarifa de prepago genera más ingresos."
   ]
  },
  {
   "cell_type": "markdown",
   "metadata": {
    "id": "VNddPNRQ0q0w"
   },
   "source": [
    "[Te proporcionamos algunos comentarios para orientarte mientras completas este proyecto. Pero debes asegurarte de eliminar todos los comentarios entre corchetes antes de entregar tu proyecto.]\n",
    "\n",
    "[Antes de sumergirte en el análisis de datos, explica por tu propia cuenta el propósito del proyecto y las acciones que planeas realizar.]\n",
    "\n",
    "[Ten en cuenta que estudiar, modificar y analizar datos es un proceso iterativo. Es normal volver a los pasos anteriores y corregirlos/ampliarlos para permitir nuevos pasos.]"
   ]
  },
  {
   "cell_type": "markdown",
   "metadata": {
    "id": "MQi4IPy70q0y"
   },
   "source": [
    "## Inicialización"
   ]
  },
  {
   "cell_type": "code",
   "execution_count": 1,
   "metadata": {
    "id": "MtYIuBxu0q0z"
   },
   "outputs": [],
   "source": [
    "# Cargar todas las librerías\n",
    "import pandas as pd\n",
    "import numpy as np\n",
    "import matplotlib.pyplot as plt\n",
    "import scipy.stats as stats\n",
    "from scipy import stats as st\n",
    "import seaborn as sns"
   ]
  },
  {
   "cell_type": "markdown",
   "metadata": {
    "id": "4ysWWC5i0q00"
   },
   "source": [
    "## Cargar datos"
   ]
  },
  {
   "cell_type": "code",
   "execution_count": 2,
   "metadata": {
    "id": "CCqPW7rS0q01"
   },
   "outputs": [],
   "source": [
    "# Carga los archivos de datos en diferentes DataFrames\n",
    "calls = pd.read_csv('/datasets/megaline_calls.csv')\n",
    "internet = pd.read_csv('/datasets/megaline_internet.csv')\n",
    "messages = pd.read_csv('/datasets/megaline_messages.csv')\n",
    "plans = pd.read_csv('/datasets/megaline_plans.csv')\n",
    "users = pd.read_csv('/datasets/megaline_users.csv')"
   ]
  },
  {
   "cell_type": "markdown",
   "metadata": {
    "id": "69qqoJ3r0q01"
   },
   "source": [
    "## Preparar los datos"
   ]
  },
  {
   "cell_type": "markdown",
   "metadata": {
    "id": "vUuZw80S0q01"
   },
   "source": [
    "[Los datos para este proyecto se dividen en varias tablas. Explora cada una para tener una comprensión inicial de los datos. Si es necesario, haz las correcciones requeridas en cada tabla.]"
   ]
  },
  {
   "cell_type": "markdown",
   "metadata": {
    "id": "ohBhimvH0q01"
   },
   "source": [
    "## Tarifas"
   ]
  },
  {
   "cell_type": "code",
   "execution_count": 3,
   "metadata": {
    "id": "GptqP3Q40q02"
   },
   "outputs": [
    {
     "name": "stdout",
     "output_type": "stream",
     "text": [
      "<class 'pandas.core.frame.DataFrame'>\n",
      "RangeIndex: 2 entries, 0 to 1\n",
      "Data columns (total 8 columns):\n",
      " #   Column                 Non-Null Count  Dtype  \n",
      "---  ------                 --------------  -----  \n",
      " 0   messages_included      2 non-null      int64  \n",
      " 1   mb_per_month_included  2 non-null      int64  \n",
      " 2   minutes_included       2 non-null      int64  \n",
      " 3   usd_monthly_pay        2 non-null      int64  \n",
      " 4   usd_per_gb             2 non-null      int64  \n",
      " 5   usd_per_message        2 non-null      float64\n",
      " 6   usd_per_minute         2 non-null      float64\n",
      " 7   plan_name              2 non-null      object \n",
      "dtypes: float64(2), int64(5), object(1)\n",
      "memory usage: 256.0+ bytes\n"
     ]
    },
    {
     "data": {
      "text/plain": [
       "None"
      ]
     },
     "metadata": {},
     "output_type": "display_data"
    }
   ],
   "source": [
    "# Imprime la información general/resumida sobre el DataFrame de las tarifas\n",
    "display(plans.info())"
   ]
  },
  {
   "cell_type": "code",
   "execution_count": 4,
   "metadata": {
    "id": "64xzjwL70q02"
   },
   "outputs": [
    {
     "data": {
      "text/html": [
       "<div>\n",
       "<style scoped>\n",
       "    .dataframe tbody tr th:only-of-type {\n",
       "        vertical-align: middle;\n",
       "    }\n",
       "\n",
       "    .dataframe tbody tr th {\n",
       "        vertical-align: top;\n",
       "    }\n",
       "\n",
       "    .dataframe thead th {\n",
       "        text-align: right;\n",
       "    }\n",
       "</style>\n",
       "<table border=\"1\" class=\"dataframe\">\n",
       "  <thead>\n",
       "    <tr style=\"text-align: right;\">\n",
       "      <th></th>\n",
       "      <th>messages_included</th>\n",
       "      <th>mb_per_month_included</th>\n",
       "      <th>minutes_included</th>\n",
       "      <th>usd_monthly_pay</th>\n",
       "      <th>usd_per_gb</th>\n",
       "      <th>usd_per_message</th>\n",
       "      <th>usd_per_minute</th>\n",
       "      <th>plan_name</th>\n",
       "    </tr>\n",
       "  </thead>\n",
       "  <tbody>\n",
       "    <tr>\n",
       "      <th>0</th>\n",
       "      <td>50</td>\n",
       "      <td>15360</td>\n",
       "      <td>500</td>\n",
       "      <td>20</td>\n",
       "      <td>10</td>\n",
       "      <td>0.03</td>\n",
       "      <td>0.03</td>\n",
       "      <td>surf</td>\n",
       "    </tr>\n",
       "    <tr>\n",
       "      <th>1</th>\n",
       "      <td>1000</td>\n",
       "      <td>30720</td>\n",
       "      <td>3000</td>\n",
       "      <td>70</td>\n",
       "      <td>7</td>\n",
       "      <td>0.01</td>\n",
       "      <td>0.01</td>\n",
       "      <td>ultimate</td>\n",
       "    </tr>\n",
       "  </tbody>\n",
       "</table>\n",
       "</div>"
      ],
      "text/plain": [
       "   messages_included  mb_per_month_included  minutes_included  \\\n",
       "0                 50                  15360               500   \n",
       "1               1000                  30720              3000   \n",
       "\n",
       "   usd_monthly_pay  usd_per_gb  usd_per_message  usd_per_minute plan_name  \n",
       "0               20          10             0.03            0.03      surf  \n",
       "1               70           7             0.01            0.01  ultimate  "
      ]
     },
     "metadata": {},
     "output_type": "display_data"
    }
   ],
   "source": [
    "# Imprime una muestra de los datos para las tarifas\n",
    "display(plans.head())\n"
   ]
  },
  {
   "cell_type": "markdown",
   "metadata": {
    "id": "mEc_3_hs0q02"
   },
   "source": [
    "[Describe lo que ves y observas en la información general y en la muestra de datos impresa para el precio de datos anterior. ¿Hay algún problema (tipos de datos no adecuados, datos ausentes, etc.) que pudieran necesitar investigación y cambios adicionales? ¿Cómo se puede arreglar?]\n",
    "\n",
    "No hay valores duplicados ni valores ausentes. Los datos se observan bien y los tipos de datos están bien.\n",
    "\n",
    "Tipo de dato flotante para el valor de un mensaje y de un minuto.\n",
    "\n",
    "Tipo de dato entero para los mensajes, mb y minutos incluidos, además, para el valor a pagar mensual y el valor por Gb en doláres.\n",
    "\n",
    "Tipo de datos objeto para los nombres de cada uno de los planes."
   ]
  },
  {
   "cell_type": "markdown",
   "metadata": {
    "id": "R3C05i1l0q03"
   },
   "source": [
    "## Corregir datos"
   ]
  },
  {
   "cell_type": "markdown",
   "metadata": {
    "id": "bIi8StZI0q03"
   },
   "source": [
    "[Corrige los problemas obvios con los datos basándote en las observaciones iniciales.]"
   ]
  },
  {
   "cell_type": "code",
   "execution_count": 5,
   "metadata": {
    "id": "Y7SVmjGn0q03"
   },
   "outputs": [],
   "source": [
    "#No hay datos a corregir"
   ]
  },
  {
   "cell_type": "markdown",
   "metadata": {
    "id": "LJir7bml0q03"
   },
   "source": [
    "## Enriquecer los datos"
   ]
  },
  {
   "cell_type": "markdown",
   "metadata": {
    "id": "eqADpCfg0q04"
   },
   "source": [
    "[Agrega factores adicionales a los datos si crees que pudieran ser útiles.]"
   ]
  },
  {
   "cell_type": "code",
   "execution_count": 6,
   "metadata": {
    "id": "gfcIEuXV0q04"
   },
   "outputs": [
    {
     "data": {
      "text/html": [
       "<div>\n",
       "<style scoped>\n",
       "    .dataframe tbody tr th:only-of-type {\n",
       "        vertical-align: middle;\n",
       "    }\n",
       "\n",
       "    .dataframe tbody tr th {\n",
       "        vertical-align: top;\n",
       "    }\n",
       "\n",
       "    .dataframe thead th {\n",
       "        text-align: right;\n",
       "    }\n",
       "</style>\n",
       "<table border=\"1\" class=\"dataframe\">\n",
       "  <thead>\n",
       "    <tr style=\"text-align: right;\">\n",
       "      <th></th>\n",
       "      <th>messages_included</th>\n",
       "      <th>minutes_included</th>\n",
       "      <th>usd_monthly_pay</th>\n",
       "      <th>usd_per_gb</th>\n",
       "      <th>usd_per_message</th>\n",
       "      <th>usd_per_minute</th>\n",
       "      <th>plan_name</th>\n",
       "      <th>gb_per_month_included</th>\n",
       "    </tr>\n",
       "  </thead>\n",
       "  <tbody>\n",
       "    <tr>\n",
       "      <th>0</th>\n",
       "      <td>50</td>\n",
       "      <td>500</td>\n",
       "      <td>20</td>\n",
       "      <td>10</td>\n",
       "      <td>0.03</td>\n",
       "      <td>0.03</td>\n",
       "      <td>surf</td>\n",
       "      <td>15.0</td>\n",
       "    </tr>\n",
       "    <tr>\n",
       "      <th>1</th>\n",
       "      <td>1000</td>\n",
       "      <td>3000</td>\n",
       "      <td>70</td>\n",
       "      <td>7</td>\n",
       "      <td>0.01</td>\n",
       "      <td>0.01</td>\n",
       "      <td>ultimate</td>\n",
       "      <td>30.0</td>\n",
       "    </tr>\n",
       "  </tbody>\n",
       "</table>\n",
       "</div>"
      ],
      "text/plain": [
       "   messages_included  minutes_included  usd_monthly_pay  usd_per_gb  \\\n",
       "0                 50               500               20          10   \n",
       "1               1000              3000               70           7   \n",
       "\n",
       "   usd_per_message  usd_per_minute plan_name  gb_per_month_included  \n",
       "0             0.03            0.03      surf                   15.0  \n",
       "1             0.01            0.01  ultimate                   30.0  "
      ]
     },
     "metadata": {},
     "output_type": "display_data"
    }
   ],
   "source": [
    "#convertir las mb a gb\n",
    "plans['gb_per_month_included'] = plans['mb_per_month_included'] / 1024\n",
    "plans.drop('mb_per_month_included', axis =1 , inplace= True)\n",
    "\n",
    "display(plans.head())"
   ]
  },
  {
   "cell_type": "markdown",
   "metadata": {
    "id": "1n2X6WXf0q04"
   },
   "source": [
    "## Usuarios/as"
   ]
  },
  {
   "cell_type": "code",
   "execution_count": 7,
   "metadata": {
    "id": "2NgjWFqx0q05"
   },
   "outputs": [
    {
     "name": "stdout",
     "output_type": "stream",
     "text": [
      "<class 'pandas.core.frame.DataFrame'>\n",
      "RangeIndex: 500 entries, 0 to 499\n",
      "Data columns (total 8 columns):\n",
      " #   Column      Non-Null Count  Dtype \n",
      "---  ------      --------------  ----- \n",
      " 0   user_id     500 non-null    int64 \n",
      " 1   first_name  500 non-null    object\n",
      " 2   last_name   500 non-null    object\n",
      " 3   age         500 non-null    int64 \n",
      " 4   city        500 non-null    object\n",
      " 5   reg_date    500 non-null    object\n",
      " 6   plan        500 non-null    object\n",
      " 7   churn_date  34 non-null     object\n",
      "dtypes: int64(2), object(6)\n",
      "memory usage: 31.4+ KB\n"
     ]
    },
    {
     "data": {
      "text/plain": [
       "None"
      ]
     },
     "metadata": {},
     "output_type": "display_data"
    }
   ],
   "source": [
    "# Imprime la información general/resumida sobre el DataFrame de usuarios\n",
    "display(users.info())\n"
   ]
  },
  {
   "cell_type": "code",
   "execution_count": 8,
   "metadata": {
    "id": "1IN1L9uh0q05"
   },
   "outputs": [
    {
     "data": {
      "text/html": [
       "<div>\n",
       "<style scoped>\n",
       "    .dataframe tbody tr th:only-of-type {\n",
       "        vertical-align: middle;\n",
       "    }\n",
       "\n",
       "    .dataframe tbody tr th {\n",
       "        vertical-align: top;\n",
       "    }\n",
       "\n",
       "    .dataframe thead th {\n",
       "        text-align: right;\n",
       "    }\n",
       "</style>\n",
       "<table border=\"1\" class=\"dataframe\">\n",
       "  <thead>\n",
       "    <tr style=\"text-align: right;\">\n",
       "      <th></th>\n",
       "      <th>user_id</th>\n",
       "      <th>first_name</th>\n",
       "      <th>last_name</th>\n",
       "      <th>age</th>\n",
       "      <th>city</th>\n",
       "      <th>reg_date</th>\n",
       "      <th>plan</th>\n",
       "      <th>churn_date</th>\n",
       "    </tr>\n",
       "  </thead>\n",
       "  <tbody>\n",
       "    <tr>\n",
       "      <th>185</th>\n",
       "      <td>1185</td>\n",
       "      <td>Loria</td>\n",
       "      <td>Freeman</td>\n",
       "      <td>47</td>\n",
       "      <td>Louisville/Jefferson County, KY-IN MSA</td>\n",
       "      <td>2018-01-14</td>\n",
       "      <td>ultimate</td>\n",
       "      <td>NaN</td>\n",
       "    </tr>\n",
       "    <tr>\n",
       "      <th>464</th>\n",
       "      <td>1464</td>\n",
       "      <td>Burt</td>\n",
       "      <td>Burke</td>\n",
       "      <td>70</td>\n",
       "      <td>Providence-Warwick, RI-MA MSA</td>\n",
       "      <td>2018-11-07</td>\n",
       "      <td>surf</td>\n",
       "      <td>NaN</td>\n",
       "    </tr>\n",
       "    <tr>\n",
       "      <th>122</th>\n",
       "      <td>1122</td>\n",
       "      <td>Lashay</td>\n",
       "      <td>Reese</td>\n",
       "      <td>57</td>\n",
       "      <td>Miami-Fort Lauderdale-West Palm Beach, FL MSA</td>\n",
       "      <td>2018-03-04</td>\n",
       "      <td>surf</td>\n",
       "      <td>NaN</td>\n",
       "    </tr>\n",
       "    <tr>\n",
       "      <th>227</th>\n",
       "      <td>1227</td>\n",
       "      <td>Vanesa</td>\n",
       "      <td>Willis</td>\n",
       "      <td>29</td>\n",
       "      <td>Dallas-Fort Worth-Arlington, TX MSA</td>\n",
       "      <td>2018-01-17</td>\n",
       "      <td>surf</td>\n",
       "      <td>NaN</td>\n",
       "    </tr>\n",
       "    <tr>\n",
       "      <th>400</th>\n",
       "      <td>1400</td>\n",
       "      <td>Kenton</td>\n",
       "      <td>Hickman</td>\n",
       "      <td>72</td>\n",
       "      <td>Riverside-San Bernardino-Ontario, CA MSA</td>\n",
       "      <td>2018-03-08</td>\n",
       "      <td>surf</td>\n",
       "      <td>NaN</td>\n",
       "    </tr>\n",
       "    <tr>\n",
       "      <th>268</th>\n",
       "      <td>1268</td>\n",
       "      <td>Britni</td>\n",
       "      <td>Bowers</td>\n",
       "      <td>33</td>\n",
       "      <td>Fresno, CA MSA</td>\n",
       "      <td>2018-01-13</td>\n",
       "      <td>surf</td>\n",
       "      <td>NaN</td>\n",
       "    </tr>\n",
       "    <tr>\n",
       "      <th>364</th>\n",
       "      <td>1364</td>\n",
       "      <td>Clarine</td>\n",
       "      <td>Bonner</td>\n",
       "      <td>75</td>\n",
       "      <td>San Diego-Chula Vista-Carlsbad, CA MSA</td>\n",
       "      <td>2018-08-09</td>\n",
       "      <td>surf</td>\n",
       "      <td>NaN</td>\n",
       "    </tr>\n",
       "    <tr>\n",
       "      <th>348</th>\n",
       "      <td>1348</td>\n",
       "      <td>Carl</td>\n",
       "      <td>Rutledge</td>\n",
       "      <td>60</td>\n",
       "      <td>Detroit-Warren-Dearborn, MI MSA</td>\n",
       "      <td>2018-10-05</td>\n",
       "      <td>surf</td>\n",
       "      <td>NaN</td>\n",
       "    </tr>\n",
       "    <tr>\n",
       "      <th>146</th>\n",
       "      <td>1146</td>\n",
       "      <td>Loma</td>\n",
       "      <td>Mcneil</td>\n",
       "      <td>42</td>\n",
       "      <td>New York-Newark-Jersey City, NY-NJ-PA MSA</td>\n",
       "      <td>2018-10-13</td>\n",
       "      <td>surf</td>\n",
       "      <td>NaN</td>\n",
       "    </tr>\n",
       "    <tr>\n",
       "      <th>486</th>\n",
       "      <td>1486</td>\n",
       "      <td>Sang</td>\n",
       "      <td>Solis</td>\n",
       "      <td>29</td>\n",
       "      <td>Orlando-Kissimmee-Sanford, FL MSA</td>\n",
       "      <td>2018-12-05</td>\n",
       "      <td>surf</td>\n",
       "      <td>NaN</td>\n",
       "    </tr>\n",
       "    <tr>\n",
       "      <th>465</th>\n",
       "      <td>1465</td>\n",
       "      <td>Arianna</td>\n",
       "      <td>Morrison</td>\n",
       "      <td>73</td>\n",
       "      <td>Pittsburgh, PA MSA</td>\n",
       "      <td>2018-06-22</td>\n",
       "      <td>ultimate</td>\n",
       "      <td>NaN</td>\n",
       "    </tr>\n",
       "    <tr>\n",
       "      <th>100</th>\n",
       "      <td>1100</td>\n",
       "      <td>Aaron</td>\n",
       "      <td>Rowe</td>\n",
       "      <td>65</td>\n",
       "      <td>New York-Newark-Jersey City, NY-NJ-PA MSA</td>\n",
       "      <td>2018-02-13</td>\n",
       "      <td>surf</td>\n",
       "      <td>NaN</td>\n",
       "    </tr>\n",
       "    <tr>\n",
       "      <th>137</th>\n",
       "      <td>1137</td>\n",
       "      <td>Allegra</td>\n",
       "      <td>Hopkins</td>\n",
       "      <td>20</td>\n",
       "      <td>Chicago-Naperville-Elgin, IL-IN-WI MSA</td>\n",
       "      <td>2018-10-02</td>\n",
       "      <td>surf</td>\n",
       "      <td>NaN</td>\n",
       "    </tr>\n",
       "    <tr>\n",
       "      <th>140</th>\n",
       "      <td>1140</td>\n",
       "      <td>Randolph</td>\n",
       "      <td>Graves</td>\n",
       "      <td>53</td>\n",
       "      <td>New York-Newark-Jersey City, NY-NJ-PA MSA</td>\n",
       "      <td>2018-03-26</td>\n",
       "      <td>surf</td>\n",
       "      <td>NaN</td>\n",
       "    </tr>\n",
       "    <tr>\n",
       "      <th>391</th>\n",
       "      <td>1391</td>\n",
       "      <td>Errol</td>\n",
       "      <td>Cooke</td>\n",
       "      <td>52</td>\n",
       "      <td>New York-Newark-Jersey City, NY-NJ-PA MSA</td>\n",
       "      <td>2018-09-11</td>\n",
       "      <td>ultimate</td>\n",
       "      <td>NaN</td>\n",
       "    </tr>\n",
       "  </tbody>\n",
       "</table>\n",
       "</div>"
      ],
      "text/plain": [
       "     user_id first_name last_name  age  \\\n",
       "185     1185      Loria   Freeman   47   \n",
       "464     1464       Burt     Burke   70   \n",
       "122     1122     Lashay     Reese   57   \n",
       "227     1227     Vanesa    Willis   29   \n",
       "400     1400     Kenton   Hickman   72   \n",
       "268     1268     Britni    Bowers   33   \n",
       "364     1364    Clarine    Bonner   75   \n",
       "348     1348       Carl  Rutledge   60   \n",
       "146     1146       Loma    Mcneil   42   \n",
       "486     1486       Sang     Solis   29   \n",
       "465     1465    Arianna  Morrison   73   \n",
       "100     1100      Aaron      Rowe   65   \n",
       "137     1137    Allegra   Hopkins   20   \n",
       "140     1140   Randolph    Graves   53   \n",
       "391     1391      Errol     Cooke   52   \n",
       "\n",
       "                                              city    reg_date      plan  \\\n",
       "185         Louisville/Jefferson County, KY-IN MSA  2018-01-14  ultimate   \n",
       "464                  Providence-Warwick, RI-MA MSA  2018-11-07      surf   \n",
       "122  Miami-Fort Lauderdale-West Palm Beach, FL MSA  2018-03-04      surf   \n",
       "227            Dallas-Fort Worth-Arlington, TX MSA  2018-01-17      surf   \n",
       "400       Riverside-San Bernardino-Ontario, CA MSA  2018-03-08      surf   \n",
       "268                                 Fresno, CA MSA  2018-01-13      surf   \n",
       "364         San Diego-Chula Vista-Carlsbad, CA MSA  2018-08-09      surf   \n",
       "348                Detroit-Warren-Dearborn, MI MSA  2018-10-05      surf   \n",
       "146      New York-Newark-Jersey City, NY-NJ-PA MSA  2018-10-13      surf   \n",
       "486              Orlando-Kissimmee-Sanford, FL MSA  2018-12-05      surf   \n",
       "465                             Pittsburgh, PA MSA  2018-06-22  ultimate   \n",
       "100      New York-Newark-Jersey City, NY-NJ-PA MSA  2018-02-13      surf   \n",
       "137         Chicago-Naperville-Elgin, IL-IN-WI MSA  2018-10-02      surf   \n",
       "140      New York-Newark-Jersey City, NY-NJ-PA MSA  2018-03-26      surf   \n",
       "391      New York-Newark-Jersey City, NY-NJ-PA MSA  2018-09-11  ultimate   \n",
       "\n",
       "    churn_date  \n",
       "185        NaN  \n",
       "464        NaN  \n",
       "122        NaN  \n",
       "227        NaN  \n",
       "400        NaN  \n",
       "268        NaN  \n",
       "364        NaN  \n",
       "348        NaN  \n",
       "146        NaN  \n",
       "486        NaN  \n",
       "465        NaN  \n",
       "100        NaN  \n",
       "137        NaN  \n",
       "140        NaN  \n",
       "391        NaN  "
      ]
     },
     "metadata": {},
     "output_type": "display_data"
    },
    {
     "name": "stdout",
     "output_type": "stream",
     "text": [
      "\n",
      "Valores ausentes:\n",
      "user_id         0\n",
      "first_name      0\n",
      "last_name       0\n",
      "age             0\n",
      "city            0\n",
      "reg_date        0\n",
      "plan            0\n",
      "churn_date    466\n",
      "dtype: int64\n",
      "\n",
      "Valores duplicados:\n"
     ]
    },
    {
     "data": {
      "text/plain": [
       "1024    1\n",
       "1353    1\n",
       "1366    1\n",
       "1365    1\n",
       "1364    1\n",
       "       ..\n",
       "1185    1\n",
       "1184    1\n",
       "1183    1\n",
       "1182    1\n",
       "1023    1\n",
       "Name: user_id, Length: 500, dtype: int64"
      ]
     },
     "metadata": {},
     "output_type": "display_data"
    }
   ],
   "source": [
    "# Imprime una muestra de datos para usuarios\n",
    "\n",
    "display(users.sample(15))\n",
    "print()\n",
    "print('Valores ausentes:')\n",
    "print(users.isna().sum())\n",
    "print()\n",
    "print('Valores duplicados:')\n",
    "display(users['user_id'].value_counts())"
   ]
  },
  {
   "cell_type": "markdown",
   "metadata": {
    "id": "dCZoUq4f0q06"
   },
   "source": [
    "[Describe lo que ves y observas en la información general y en la muestra de datos impresa para el precio de datos anterior. ¿Hay algún problema (tipos de datos no adecuados, datos ausentes, etc.) que pudieran necesitar investigación y cambios adicionales? ¿Cómo se puede arreglar?]\n",
    "\n",
    "Hay 466 valores ausentes en la columna churn_date. Los valores ausentes NaN se van a procesar con fillna() con el valor de 0.\n",
    "No hay valores duplicados en el DataFrame.\n",
    "El tipo de datos se va a cambiar a tipo de dato fecha, ya que en este momento su tipo de dato es object\n",
    "\n",
    "Los tipos de datos para las columnas reg_date y churn_date aparecen como tipo objeto, sin embargo estos datos son fechas por lo que debe de cambiarse a  datetime64[ns]\n"
   ]
  },
  {
   "cell_type": "markdown",
   "metadata": {
    "id": "BX5FQh_I0q06"
   },
   "source": [
    "### Corregir los datos"
   ]
  },
  {
   "cell_type": "markdown",
   "metadata": {
    "id": "8OdKMwJv0q06"
   },
   "source": [
    "[Corrige los problemas obvios con los datos basándote en las observaciones iniciales.]"
   ]
  },
  {
   "cell_type": "code",
   "execution_count": 9,
   "metadata": {
    "id": "yUqX-K0C0q07"
   },
   "outputs": [
    {
     "name": "stdout",
     "output_type": "stream",
     "text": [
      "user_id       0\n",
      "first_name    0\n",
      "last_name     0\n",
      "age           0\n",
      "city          0\n",
      "reg_date      0\n",
      "plan          0\n",
      "churn_date    0\n",
      "dtype: int64\n",
      "\n"
     ]
    },
    {
     "data": {
      "text/html": [
       "<div>\n",
       "<style scoped>\n",
       "    .dataframe tbody tr th:only-of-type {\n",
       "        vertical-align: middle;\n",
       "    }\n",
       "\n",
       "    .dataframe tbody tr th {\n",
       "        vertical-align: top;\n",
       "    }\n",
       "\n",
       "    .dataframe thead th {\n",
       "        text-align: right;\n",
       "    }\n",
       "</style>\n",
       "<table border=\"1\" class=\"dataframe\">\n",
       "  <thead>\n",
       "    <tr style=\"text-align: right;\">\n",
       "      <th></th>\n",
       "      <th>user_id</th>\n",
       "      <th>first_name</th>\n",
       "      <th>last_name</th>\n",
       "      <th>age</th>\n",
       "      <th>city</th>\n",
       "      <th>reg_date</th>\n",
       "      <th>plan</th>\n",
       "      <th>churn_date</th>\n",
       "    </tr>\n",
       "  </thead>\n",
       "  <tbody>\n",
       "    <tr>\n",
       "      <th>367</th>\n",
       "      <td>1367</td>\n",
       "      <td>Minh</td>\n",
       "      <td>Fischer</td>\n",
       "      <td>18</td>\n",
       "      <td>Baltimore-Columbia-Towson, MD MSA</td>\n",
       "      <td>2018-07-23</td>\n",
       "      <td>surf</td>\n",
       "      <td>0</td>\n",
       "    </tr>\n",
       "    <tr>\n",
       "      <th>381</th>\n",
       "      <td>1381</td>\n",
       "      <td>German</td>\n",
       "      <td>Burris</td>\n",
       "      <td>44</td>\n",
       "      <td>Austin-Round Rock-Georgetown, TX MSA</td>\n",
       "      <td>2018-08-30</td>\n",
       "      <td>surf</td>\n",
       "      <td>0</td>\n",
       "    </tr>\n",
       "    <tr>\n",
       "      <th>453</th>\n",
       "      <td>1453</td>\n",
       "      <td>Robt</td>\n",
       "      <td>Tyler</td>\n",
       "      <td>51</td>\n",
       "      <td>Los Angeles-Long Beach-Anaheim, CA MSA</td>\n",
       "      <td>2018-07-09</td>\n",
       "      <td>ultimate</td>\n",
       "      <td>0</td>\n",
       "    </tr>\n",
       "    <tr>\n",
       "      <th>100</th>\n",
       "      <td>1100</td>\n",
       "      <td>Aaron</td>\n",
       "      <td>Rowe</td>\n",
       "      <td>65</td>\n",
       "      <td>New York-Newark-Jersey City, NY-NJ-PA MSA</td>\n",
       "      <td>2018-02-13</td>\n",
       "      <td>surf</td>\n",
       "      <td>0</td>\n",
       "    </tr>\n",
       "    <tr>\n",
       "      <th>395</th>\n",
       "      <td>1395</td>\n",
       "      <td>Leonard</td>\n",
       "      <td>Wooten</td>\n",
       "      <td>24</td>\n",
       "      <td>New York-Newark-Jersey City, NY-NJ-PA MSA</td>\n",
       "      <td>2018-06-19</td>\n",
       "      <td>ultimate</td>\n",
       "      <td>0</td>\n",
       "    </tr>\n",
       "    <tr>\n",
       "      <th>442</th>\n",
       "      <td>1442</td>\n",
       "      <td>Terrell</td>\n",
       "      <td>Caldwell</td>\n",
       "      <td>66</td>\n",
       "      <td>New York-Newark-Jersey City, NY-NJ-PA MSA</td>\n",
       "      <td>2018-05-25</td>\n",
       "      <td>ultimate</td>\n",
       "      <td>0</td>\n",
       "    </tr>\n",
       "    <tr>\n",
       "      <th>126</th>\n",
       "      <td>1126</td>\n",
       "      <td>Jermaine</td>\n",
       "      <td>Mcguire</td>\n",
       "      <td>68</td>\n",
       "      <td>Chicago-Naperville-Elgin, IL-IN-WI MSA</td>\n",
       "      <td>2018-06-02</td>\n",
       "      <td>ultimate</td>\n",
       "      <td>0</td>\n",
       "    </tr>\n",
       "    <tr>\n",
       "      <th>236</th>\n",
       "      <td>1236</td>\n",
       "      <td>Odell</td>\n",
       "      <td>Juarez</td>\n",
       "      <td>74</td>\n",
       "      <td>Minneapolis-St. Paul-Bloomington, MN-WI MSA</td>\n",
       "      <td>2018-04-04</td>\n",
       "      <td>ultimate</td>\n",
       "      <td>0</td>\n",
       "    </tr>\n",
       "    <tr>\n",
       "      <th>35</th>\n",
       "      <td>1035</td>\n",
       "      <td>Jeff</td>\n",
       "      <td>Cummings</td>\n",
       "      <td>67</td>\n",
       "      <td>Charlotte-Concord-Gastonia, NC-SC MSA</td>\n",
       "      <td>2018-12-08</td>\n",
       "      <td>surf</td>\n",
       "      <td>0</td>\n",
       "    </tr>\n",
       "    <tr>\n",
       "      <th>68</th>\n",
       "      <td>1068</td>\n",
       "      <td>Marcel</td>\n",
       "      <td>Jimenez</td>\n",
       "      <td>47</td>\n",
       "      <td>New York-Newark-Jersey City, NY-NJ-PA MSA</td>\n",
       "      <td>2018-01-29</td>\n",
       "      <td>surf</td>\n",
       "      <td>0</td>\n",
       "    </tr>\n",
       "    <tr>\n",
       "      <th>280</th>\n",
       "      <td>1280</td>\n",
       "      <td>Jasper</td>\n",
       "      <td>Berry</td>\n",
       "      <td>29</td>\n",
       "      <td>New York-Newark-Jersey City, NY-NJ-PA MSA</td>\n",
       "      <td>2018-06-23</td>\n",
       "      <td>surf</td>\n",
       "      <td>0</td>\n",
       "    </tr>\n",
       "    <tr>\n",
       "      <th>51</th>\n",
       "      <td>1051</td>\n",
       "      <td>Rosario</td>\n",
       "      <td>Gibbs</td>\n",
       "      <td>55</td>\n",
       "      <td>San Diego-Chula Vista-Carlsbad, CA MSA</td>\n",
       "      <td>2018-12-11</td>\n",
       "      <td>surf</td>\n",
       "      <td>0</td>\n",
       "    </tr>\n",
       "    <tr>\n",
       "      <th>477</th>\n",
       "      <td>1477</td>\n",
       "      <td>Magaly</td>\n",
       "      <td>Rivas</td>\n",
       "      <td>52</td>\n",
       "      <td>Riverside-San Bernardino-Ontario, CA MSA</td>\n",
       "      <td>2018-08-24</td>\n",
       "      <td>ultimate</td>\n",
       "      <td>0</td>\n",
       "    </tr>\n",
       "    <tr>\n",
       "      <th>180</th>\n",
       "      <td>1180</td>\n",
       "      <td>Wonda</td>\n",
       "      <td>Hays</td>\n",
       "      <td>24</td>\n",
       "      <td>New York-Newark-Jersey City, NY-NJ-PA MSA</td>\n",
       "      <td>2018-12-01</td>\n",
       "      <td>surf</td>\n",
       "      <td>2018-12-22</td>\n",
       "    </tr>\n",
       "    <tr>\n",
       "      <th>472</th>\n",
       "      <td>1472</td>\n",
       "      <td>Maximo</td>\n",
       "      <td>Mendoza</td>\n",
       "      <td>51</td>\n",
       "      <td>San Francisco-Oakland-Berkeley, CA MSA</td>\n",
       "      <td>2018-04-10</td>\n",
       "      <td>surf</td>\n",
       "      <td>0</td>\n",
       "    </tr>\n",
       "  </tbody>\n",
       "</table>\n",
       "</div>"
      ],
      "text/plain": [
       "     user_id first_name last_name  age  \\\n",
       "367     1367       Minh   Fischer   18   \n",
       "381     1381     German    Burris   44   \n",
       "453     1453       Robt     Tyler   51   \n",
       "100     1100      Aaron      Rowe   65   \n",
       "395     1395    Leonard    Wooten   24   \n",
       "442     1442    Terrell  Caldwell   66   \n",
       "126     1126   Jermaine   Mcguire   68   \n",
       "236     1236      Odell    Juarez   74   \n",
       "35      1035       Jeff  Cummings   67   \n",
       "68      1068     Marcel   Jimenez   47   \n",
       "280     1280     Jasper     Berry   29   \n",
       "51      1051    Rosario     Gibbs   55   \n",
       "477     1477     Magaly     Rivas   52   \n",
       "180     1180      Wonda      Hays   24   \n",
       "472     1472     Maximo   Mendoza   51   \n",
       "\n",
       "                                            city    reg_date      plan  \\\n",
       "367            Baltimore-Columbia-Towson, MD MSA  2018-07-23      surf   \n",
       "381         Austin-Round Rock-Georgetown, TX MSA  2018-08-30      surf   \n",
       "453       Los Angeles-Long Beach-Anaheim, CA MSA  2018-07-09  ultimate   \n",
       "100    New York-Newark-Jersey City, NY-NJ-PA MSA  2018-02-13      surf   \n",
       "395    New York-Newark-Jersey City, NY-NJ-PA MSA  2018-06-19  ultimate   \n",
       "442    New York-Newark-Jersey City, NY-NJ-PA MSA  2018-05-25  ultimate   \n",
       "126       Chicago-Naperville-Elgin, IL-IN-WI MSA  2018-06-02  ultimate   \n",
       "236  Minneapolis-St. Paul-Bloomington, MN-WI MSA  2018-04-04  ultimate   \n",
       "35         Charlotte-Concord-Gastonia, NC-SC MSA  2018-12-08      surf   \n",
       "68     New York-Newark-Jersey City, NY-NJ-PA MSA  2018-01-29      surf   \n",
       "280    New York-Newark-Jersey City, NY-NJ-PA MSA  2018-06-23      surf   \n",
       "51        San Diego-Chula Vista-Carlsbad, CA MSA  2018-12-11      surf   \n",
       "477     Riverside-San Bernardino-Ontario, CA MSA  2018-08-24  ultimate   \n",
       "180    New York-Newark-Jersey City, NY-NJ-PA MSA  2018-12-01      surf   \n",
       "472       San Francisco-Oakland-Berkeley, CA MSA  2018-04-10      surf   \n",
       "\n",
       "     churn_date  \n",
       "367           0  \n",
       "381           0  \n",
       "453           0  \n",
       "100           0  \n",
       "395           0  \n",
       "442           0  \n",
       "126           0  \n",
       "236           0  \n",
       "35            0  \n",
       "68            0  \n",
       "280           0  \n",
       "51            0  \n",
       "477           0  \n",
       "180  2018-12-22  \n",
       "472           0  "
      ]
     },
     "metadata": {},
     "output_type": "display_data"
    }
   ],
   "source": [
    "users['churn_date'] = users['churn_date'].fillna(0)\n",
    "print(users.isna().sum())\n",
    "print()\n",
    "display(users.sample(15))"
   ]
  },
  {
   "cell_type": "markdown",
   "metadata": {
    "id": "ycwuARJp0q07"
   },
   "source": [
    "### Enriquecer los datos"
   ]
  },
  {
   "cell_type": "markdown",
   "metadata": {
    "id": "96NIh4CJ0q08"
   },
   "source": [
    "[Agrega factores adicionales a los datos si crees que pudieran ser útiles.]"
   ]
  },
  {
   "cell_type": "code",
   "execution_count": 10,
   "metadata": {
    "id": "iq0AaBS90q08"
   },
   "outputs": [
    {
     "name": "stdout",
     "output_type": "stream",
     "text": [
      "<class 'pandas.core.frame.DataFrame'>\n",
      "RangeIndex: 500 entries, 0 to 499\n",
      "Data columns (total 8 columns):\n",
      " #   Column      Non-Null Count  Dtype         \n",
      "---  ------      --------------  -----         \n",
      " 0   user_id     500 non-null    int64         \n",
      " 1   first_name  500 non-null    object        \n",
      " 2   last_name   500 non-null    object        \n",
      " 3   age         500 non-null    int64         \n",
      " 4   city        500 non-null    object        \n",
      " 5   reg_date    500 non-null    datetime64[ns]\n",
      " 6   plan        500 non-null    object        \n",
      " 7   churn_date  500 non-null    datetime64[ns]\n",
      "dtypes: datetime64[ns](2), int64(2), object(4)\n",
      "memory usage: 31.4+ KB\n"
     ]
    },
    {
     "data": {
      "text/plain": [
       "None"
      ]
     },
     "metadata": {},
     "output_type": "display_data"
    }
   ],
   "source": [
    "users['reg_date'] = pd.to_datetime(users['reg_date'], format='%Y-%m-%d') \n",
    "users['churn_date'] = pd.to_datetime(users['churn_date'], format='%Y-%m-%d')  \n",
    "    \n",
    "display(users.info())"
   ]
  },
  {
   "cell_type": "markdown",
   "metadata": {
    "id": "o7MeKCid0q08"
   },
   "source": [
    "## Llamadas"
   ]
  },
  {
   "cell_type": "code",
   "execution_count": 11,
   "metadata": {
    "id": "6dDlnoDm0q08"
   },
   "outputs": [
    {
     "name": "stdout",
     "output_type": "stream",
     "text": [
      "<class 'pandas.core.frame.DataFrame'>\n",
      "RangeIndex: 137735 entries, 0 to 137734\n",
      "Data columns (total 4 columns):\n",
      " #   Column     Non-Null Count   Dtype  \n",
      "---  ------     --------------   -----  \n",
      " 0   id         137735 non-null  object \n",
      " 1   user_id    137735 non-null  int64  \n",
      " 2   call_date  137735 non-null  object \n",
      " 3   duration   137735 non-null  float64\n",
      "dtypes: float64(1), int64(1), object(2)\n",
      "memory usage: 4.2+ MB\n"
     ]
    },
    {
     "data": {
      "text/plain": [
       "None"
      ]
     },
     "metadata": {},
     "output_type": "display_data"
    }
   ],
   "source": [
    "# Imprime la información general/resumida sobre el DataFrame de las llamadas\n",
    "\n",
    "display(calls.info())"
   ]
  },
  {
   "cell_type": "code",
   "execution_count": 12,
   "metadata": {
    "id": "kuh1vlNB0q09"
   },
   "outputs": [
    {
     "data": {
      "text/html": [
       "<div>\n",
       "<style scoped>\n",
       "    .dataframe tbody tr th:only-of-type {\n",
       "        vertical-align: middle;\n",
       "    }\n",
       "\n",
       "    .dataframe tbody tr th {\n",
       "        vertical-align: top;\n",
       "    }\n",
       "\n",
       "    .dataframe thead th {\n",
       "        text-align: right;\n",
       "    }\n",
       "</style>\n",
       "<table border=\"1\" class=\"dataframe\">\n",
       "  <thead>\n",
       "    <tr style=\"text-align: right;\">\n",
       "      <th></th>\n",
       "      <th>id</th>\n",
       "      <th>user_id</th>\n",
       "      <th>call_date</th>\n",
       "      <th>duration</th>\n",
       "    </tr>\n",
       "  </thead>\n",
       "  <tbody>\n",
       "    <tr>\n",
       "      <th>98215</th>\n",
       "      <td>1352_680</td>\n",
       "      <td>1352</td>\n",
       "      <td>2018-11-01</td>\n",
       "      <td>15.62</td>\n",
       "    </tr>\n",
       "    <tr>\n",
       "      <th>23751</th>\n",
       "      <td>1088_217</td>\n",
       "      <td>1088</td>\n",
       "      <td>2018-12-02</td>\n",
       "      <td>10.45</td>\n",
       "    </tr>\n",
       "    <tr>\n",
       "      <th>92005</th>\n",
       "      <td>1330_42</td>\n",
       "      <td>1330</td>\n",
       "      <td>2018-12-12</td>\n",
       "      <td>12.21</td>\n",
       "    </tr>\n",
       "    <tr>\n",
       "      <th>79780</th>\n",
       "      <td>1285_281</td>\n",
       "      <td>1285</td>\n",
       "      <td>2018-08-26</td>\n",
       "      <td>7.56</td>\n",
       "    </tr>\n",
       "    <tr>\n",
       "      <th>32044</th>\n",
       "      <td>1120_475</td>\n",
       "      <td>1120</td>\n",
       "      <td>2018-07-15</td>\n",
       "      <td>11.02</td>\n",
       "    </tr>\n",
       "    <tr>\n",
       "      <th>92142</th>\n",
       "      <td>1331_33</td>\n",
       "      <td>1331</td>\n",
       "      <td>2018-09-19</td>\n",
       "      <td>1.83</td>\n",
       "    </tr>\n",
       "    <tr>\n",
       "      <th>31229</th>\n",
       "      <td>1117_203</td>\n",
       "      <td>1117</td>\n",
       "      <td>2018-05-29</td>\n",
       "      <td>0.00</td>\n",
       "    </tr>\n",
       "    <tr>\n",
       "      <th>115052</th>\n",
       "      <td>1403_126</td>\n",
       "      <td>1403</td>\n",
       "      <td>2018-06-05</td>\n",
       "      <td>8.57</td>\n",
       "    </tr>\n",
       "    <tr>\n",
       "      <th>130343</th>\n",
       "      <td>1468_99</td>\n",
       "      <td>1468</td>\n",
       "      <td>2018-11-09</td>\n",
       "      <td>0.44</td>\n",
       "    </tr>\n",
       "    <tr>\n",
       "      <th>101220</th>\n",
       "      <td>1361_322</td>\n",
       "      <td>1361</td>\n",
       "      <td>2018-10-11</td>\n",
       "      <td>11.63</td>\n",
       "    </tr>\n",
       "    <tr>\n",
       "      <th>65276</th>\n",
       "      <td>1236_576</td>\n",
       "      <td>1236</td>\n",
       "      <td>2018-10-31</td>\n",
       "      <td>0.25</td>\n",
       "    </tr>\n",
       "    <tr>\n",
       "      <th>136825</th>\n",
       "      <td>1495_283</td>\n",
       "      <td>1495</td>\n",
       "      <td>2018-09-13</td>\n",
       "      <td>3.88</td>\n",
       "    </tr>\n",
       "    <tr>\n",
       "      <th>101057</th>\n",
       "      <td>1361_159</td>\n",
       "      <td>1361</td>\n",
       "      <td>2018-10-29</td>\n",
       "      <td>13.52</td>\n",
       "    </tr>\n",
       "    <tr>\n",
       "      <th>31758</th>\n",
       "      <td>1120_100</td>\n",
       "      <td>1120</td>\n",
       "      <td>2018-09-20</td>\n",
       "      <td>6.21</td>\n",
       "    </tr>\n",
       "    <tr>\n",
       "      <th>82755</th>\n",
       "      <td>1299_413</td>\n",
       "      <td>1299</td>\n",
       "      <td>2018-10-09</td>\n",
       "      <td>6.18</td>\n",
       "    </tr>\n",
       "  </tbody>\n",
       "</table>\n",
       "</div>"
      ],
      "text/plain": [
       "              id  user_id   call_date  duration\n",
       "98215   1352_680     1352  2018-11-01     15.62\n",
       "23751   1088_217     1088  2018-12-02     10.45\n",
       "92005    1330_42     1330  2018-12-12     12.21\n",
       "79780   1285_281     1285  2018-08-26      7.56\n",
       "32044   1120_475     1120  2018-07-15     11.02\n",
       "92142    1331_33     1331  2018-09-19      1.83\n",
       "31229   1117_203     1117  2018-05-29      0.00\n",
       "115052  1403_126     1403  2018-06-05      8.57\n",
       "130343   1468_99     1468  2018-11-09      0.44\n",
       "101220  1361_322     1361  2018-10-11     11.63\n",
       "65276   1236_576     1236  2018-10-31      0.25\n",
       "136825  1495_283     1495  2018-09-13      3.88\n",
       "101057  1361_159     1361  2018-10-29     13.52\n",
       "31758   1120_100     1120  2018-09-20      6.21\n",
       "82755   1299_413     1299  2018-10-09      6.18"
      ]
     },
     "metadata": {},
     "output_type": "display_data"
    },
    {
     "name": "stdout",
     "output_type": "stream",
     "text": [
      "\n",
      "Valores duplicados: \n"
     ]
    },
    {
     "data": {
      "text/plain": [
       "id        user_id  call_date   duration\n",
       "1000_145  1000     2018-12-27  13.66       1\n",
       "1329_678  1329     2018-12-13  9.55        1\n",
       "1329_70   1329     2018-11-18  8.09        1\n",
       "1329_7    1329     2018-12-08  5.72        1\n",
       "1329_699  1329     2018-10-29  11.34       1\n",
       "                                          ..\n",
       "1166_90   1166     2018-12-07  14.68       1\n",
       "1166_9    1166     2018-11-10  0.00        1\n",
       "1166_89   1166     2018-10-13  0.00        1\n",
       "1166_88   1166     2018-10-21  0.00        1\n",
       "1499_99   1499     2018-10-04  0.00        1\n",
       "Length: 137735, dtype: int64"
      ]
     },
     "metadata": {},
     "output_type": "display_data"
    },
    {
     "name": "stdout",
     "output_type": "stream",
     "text": [
      "\n",
      "Valores ausentes: \n",
      "user_id       0\n",
      "first_name    0\n",
      "last_name     0\n",
      "age           0\n",
      "city          0\n",
      "reg_date      0\n",
      "plan          0\n",
      "churn_date    0\n",
      "dtype: int64\n"
     ]
    }
   ],
   "source": [
    "# Imprime una muestra de datos para las llamadas\n",
    "\n",
    "display(calls.sample(15))\n",
    "print()\n",
    "print('Valores duplicados: ')\n",
    "display(calls.value_counts())\n",
    "print()\n",
    "print('Valores ausentes: ')\n",
    "print(users.isna().sum())"
   ]
  },
  {
   "cell_type": "markdown",
   "metadata": {
    "id": "DOAxYJSx0q09"
   },
   "source": [
    "[Describe lo que ves y observas en la información general y en la muestra de datos impresa para el precio de datos anterior. ¿Hay algún problema (tipos de datos no adecuados, datos ausentes, etc.) que pudieran necesitar investigación y cambios adicionales? ¿Cómo se puede arreglar?]\n",
    "\n",
    "No hay valores ausentes \n",
    "\n",
    "No hay valores duplicados\n",
    "\n",
    "\n",
    "El tipo de dato de la columna  call_date es object, sin embargo este dato corresponde a una fecha, por lo que se hará el cambio de tipo de dato object a datetime64[ns].\n",
    "\n",
    "La duración de la llamada debe de darse en minutos y en números entero, por lo que se hará ese cambio también. "
   ]
  },
  {
   "cell_type": "markdown",
   "metadata": {
    "id": "S7hzxmbX0q0-"
   },
   "source": [
    "### Corregir los datos"
   ]
  },
  {
   "cell_type": "markdown",
   "metadata": {
    "id": "YxWyAjD20q0-"
   },
   "source": [
    "[Corrige los problemas obvios con los datos basándote en las observaciones iniciales.]"
   ]
  },
  {
   "cell_type": "code",
   "execution_count": 13,
   "metadata": {
    "id": "S2r8xA4f0q0-"
   },
   "outputs": [],
   "source": [
    "calls['call_date'] = pd.to_datetime(calls['call_date'], format = '%Y-%m-%d')"
   ]
  },
  {
   "cell_type": "markdown",
   "metadata": {
    "id": "KrMgTrlG0q0_"
   },
   "source": [
    "### Enriquecer los datos"
   ]
  },
  {
   "cell_type": "markdown",
   "metadata": {
    "id": "a9MbmEvE0q0_"
   },
   "source": [
    "[Agrega factores adicionales a los datos si crees que pudieran ser útiles.]"
   ]
  },
  {
   "cell_type": "code",
   "execution_count": 14,
   "metadata": {
    "id": "iZ1avpA_0q0_"
   },
   "outputs": [
    {
     "data": {
      "text/html": [
       "<div>\n",
       "<style scoped>\n",
       "    .dataframe tbody tr th:only-of-type {\n",
       "        vertical-align: middle;\n",
       "    }\n",
       "\n",
       "    .dataframe tbody tr th {\n",
       "        vertical-align: top;\n",
       "    }\n",
       "\n",
       "    .dataframe thead th {\n",
       "        text-align: right;\n",
       "    }\n",
       "</style>\n",
       "<table border=\"1\" class=\"dataframe\">\n",
       "  <thead>\n",
       "    <tr style=\"text-align: right;\">\n",
       "      <th></th>\n",
       "      <th>id</th>\n",
       "      <th>user_id</th>\n",
       "      <th>call_date</th>\n",
       "      <th>duration</th>\n",
       "      <th>month</th>\n",
       "    </tr>\n",
       "  </thead>\n",
       "  <tbody>\n",
       "    <tr>\n",
       "      <th>0</th>\n",
       "      <td>1000_93</td>\n",
       "      <td>1000</td>\n",
       "      <td>2018-12-27</td>\n",
       "      <td>8.52</td>\n",
       "      <td>12</td>\n",
       "    </tr>\n",
       "    <tr>\n",
       "      <th>1</th>\n",
       "      <td>1000_145</td>\n",
       "      <td>1000</td>\n",
       "      <td>2018-12-27</td>\n",
       "      <td>13.66</td>\n",
       "      <td>12</td>\n",
       "    </tr>\n",
       "    <tr>\n",
       "      <th>2</th>\n",
       "      <td>1000_247</td>\n",
       "      <td>1000</td>\n",
       "      <td>2018-12-27</td>\n",
       "      <td>14.48</td>\n",
       "      <td>12</td>\n",
       "    </tr>\n",
       "    <tr>\n",
       "      <th>3</th>\n",
       "      <td>1000_309</td>\n",
       "      <td>1000</td>\n",
       "      <td>2018-12-28</td>\n",
       "      <td>5.76</td>\n",
       "      <td>12</td>\n",
       "    </tr>\n",
       "    <tr>\n",
       "      <th>4</th>\n",
       "      <td>1000_380</td>\n",
       "      <td>1000</td>\n",
       "      <td>2018-12-30</td>\n",
       "      <td>4.22</td>\n",
       "      <td>12</td>\n",
       "    </tr>\n",
       "    <tr>\n",
       "      <th>...</th>\n",
       "      <td>...</td>\n",
       "      <td>...</td>\n",
       "      <td>...</td>\n",
       "      <td>...</td>\n",
       "      <td>...</td>\n",
       "    </tr>\n",
       "    <tr>\n",
       "      <th>137730</th>\n",
       "      <td>1499_199</td>\n",
       "      <td>1499</td>\n",
       "      <td>2018-11-21</td>\n",
       "      <td>8.72</td>\n",
       "      <td>11</td>\n",
       "    </tr>\n",
       "    <tr>\n",
       "      <th>137731</th>\n",
       "      <td>1499_200</td>\n",
       "      <td>1499</td>\n",
       "      <td>2018-10-20</td>\n",
       "      <td>10.89</td>\n",
       "      <td>10</td>\n",
       "    </tr>\n",
       "    <tr>\n",
       "      <th>137732</th>\n",
       "      <td>1499_201</td>\n",
       "      <td>1499</td>\n",
       "      <td>2018-09-21</td>\n",
       "      <td>8.12</td>\n",
       "      <td>9</td>\n",
       "    </tr>\n",
       "    <tr>\n",
       "      <th>137733</th>\n",
       "      <td>1499_202</td>\n",
       "      <td>1499</td>\n",
       "      <td>2018-10-10</td>\n",
       "      <td>0.37</td>\n",
       "      <td>10</td>\n",
       "    </tr>\n",
       "    <tr>\n",
       "      <th>137734</th>\n",
       "      <td>1499_203</td>\n",
       "      <td>1499</td>\n",
       "      <td>2018-12-29</td>\n",
       "      <td>13.86</td>\n",
       "      <td>12</td>\n",
       "    </tr>\n",
       "  </tbody>\n",
       "</table>\n",
       "<p>137735 rows × 5 columns</p>\n",
       "</div>"
      ],
      "text/plain": [
       "              id  user_id  call_date  duration  month\n",
       "0        1000_93     1000 2018-12-27      8.52     12\n",
       "1       1000_145     1000 2018-12-27     13.66     12\n",
       "2       1000_247     1000 2018-12-27     14.48     12\n",
       "3       1000_309     1000 2018-12-28      5.76     12\n",
       "4       1000_380     1000 2018-12-30      4.22     12\n",
       "...          ...      ...        ...       ...    ...\n",
       "137730  1499_199     1499 2018-11-21      8.72     11\n",
       "137731  1499_200     1499 2018-10-20     10.89     10\n",
       "137732  1499_201     1499 2018-09-21      8.12      9\n",
       "137733  1499_202     1499 2018-10-10      0.37     10\n",
       "137734  1499_203     1499 2018-12-29     13.86     12\n",
       "\n",
       "[137735 rows x 5 columns]"
      ]
     },
     "metadata": {},
     "output_type": "display_data"
    }
   ],
   "source": [
    "#Agregar columna month\n",
    "\n",
    "calls['month'] = calls['call_date'].dt.month\n",
    "display(calls)"
   ]
  },
  {
   "cell_type": "markdown",
   "metadata": {
    "id": "mOUZSi180q0_"
   },
   "source": [
    "## Mensajes"
   ]
  },
  {
   "cell_type": "code",
   "execution_count": 15,
   "metadata": {
    "id": "R-bYJpdV0q1A"
   },
   "outputs": [
    {
     "name": "stdout",
     "output_type": "stream",
     "text": [
      "<class 'pandas.core.frame.DataFrame'>\n",
      "RangeIndex: 76051 entries, 0 to 76050\n",
      "Data columns (total 3 columns):\n",
      " #   Column        Non-Null Count  Dtype \n",
      "---  ------        --------------  ----- \n",
      " 0   id            76051 non-null  object\n",
      " 1   user_id       76051 non-null  int64 \n",
      " 2   message_date  76051 non-null  object\n",
      "dtypes: int64(1), object(2)\n",
      "memory usage: 1.7+ MB\n"
     ]
    },
    {
     "data": {
      "text/plain": [
       "None"
      ]
     },
     "metadata": {},
     "output_type": "display_data"
    }
   ],
   "source": [
    "# Imprime la información general/resumida sobre el DataFrame de los mensajes\n",
    "display(messages.info())\n"
   ]
  },
  {
   "cell_type": "code",
   "execution_count": 16,
   "metadata": {
    "id": "mCEl2iGE0q1A"
   },
   "outputs": [
    {
     "data": {
      "text/html": [
       "<div>\n",
       "<style scoped>\n",
       "    .dataframe tbody tr th:only-of-type {\n",
       "        vertical-align: middle;\n",
       "    }\n",
       "\n",
       "    .dataframe tbody tr th {\n",
       "        vertical-align: top;\n",
       "    }\n",
       "\n",
       "    .dataframe thead th {\n",
       "        text-align: right;\n",
       "    }\n",
       "</style>\n",
       "<table border=\"1\" class=\"dataframe\">\n",
       "  <thead>\n",
       "    <tr style=\"text-align: right;\">\n",
       "      <th></th>\n",
       "      <th>id</th>\n",
       "      <th>user_id</th>\n",
       "      <th>message_date</th>\n",
       "    </tr>\n",
       "  </thead>\n",
       "  <tbody>\n",
       "    <tr>\n",
       "      <th>68810</th>\n",
       "      <td>1445_38</td>\n",
       "      <td>1445</td>\n",
       "      <td>2018-04-07</td>\n",
       "    </tr>\n",
       "    <tr>\n",
       "      <th>29364</th>\n",
       "      <td>1180_445</td>\n",
       "      <td>1180</td>\n",
       "      <td>2018-12-13</td>\n",
       "    </tr>\n",
       "    <tr>\n",
       "      <th>10819</th>\n",
       "      <td>1077_90</td>\n",
       "      <td>1077</td>\n",
       "      <td>2018-10-27</td>\n",
       "    </tr>\n",
       "    <tr>\n",
       "      <th>56989</th>\n",
       "      <td>1362_54</td>\n",
       "      <td>1362</td>\n",
       "      <td>2018-06-30</td>\n",
       "    </tr>\n",
       "    <tr>\n",
       "      <th>74573</th>\n",
       "      <td>1480_328</td>\n",
       "      <td>1480</td>\n",
       "      <td>2018-12-18</td>\n",
       "    </tr>\n",
       "    <tr>\n",
       "      <th>20871</th>\n",
       "      <td>1131_210</td>\n",
       "      <td>1131</td>\n",
       "      <td>2018-08-07</td>\n",
       "    </tr>\n",
       "    <tr>\n",
       "      <th>31197</th>\n",
       "      <td>1195_64</td>\n",
       "      <td>1195</td>\n",
       "      <td>2018-12-07</td>\n",
       "    </tr>\n",
       "    <tr>\n",
       "      <th>14272</th>\n",
       "      <td>1098_291</td>\n",
       "      <td>1098</td>\n",
       "      <td>2018-10-05</td>\n",
       "    </tr>\n",
       "    <tr>\n",
       "      <th>58556</th>\n",
       "      <td>1372_28</td>\n",
       "      <td>1372</td>\n",
       "      <td>2018-12-29</td>\n",
       "    </tr>\n",
       "    <tr>\n",
       "      <th>52528</th>\n",
       "      <td>1336_527</td>\n",
       "      <td>1336</td>\n",
       "      <td>2018-08-14</td>\n",
       "    </tr>\n",
       "    <tr>\n",
       "      <th>36561</th>\n",
       "      <td>1243_41</td>\n",
       "      <td>1243</td>\n",
       "      <td>2018-11-25</td>\n",
       "    </tr>\n",
       "    <tr>\n",
       "      <th>38483</th>\n",
       "      <td>1253_17</td>\n",
       "      <td>1253</td>\n",
       "      <td>2018-10-05</td>\n",
       "    </tr>\n",
       "    <tr>\n",
       "      <th>38670</th>\n",
       "      <td>1254_202</td>\n",
       "      <td>1254</td>\n",
       "      <td>2018-11-15</td>\n",
       "    </tr>\n",
       "    <tr>\n",
       "      <th>39879</th>\n",
       "      <td>1258_336</td>\n",
       "      <td>1258</td>\n",
       "      <td>2018-12-03</td>\n",
       "    </tr>\n",
       "    <tr>\n",
       "      <th>70252</th>\n",
       "      <td>1456_189</td>\n",
       "      <td>1456</td>\n",
       "      <td>2018-07-06</td>\n",
       "    </tr>\n",
       "  </tbody>\n",
       "</table>\n",
       "</div>"
      ],
      "text/plain": [
       "             id  user_id message_date\n",
       "68810   1445_38     1445   2018-04-07\n",
       "29364  1180_445     1180   2018-12-13\n",
       "10819   1077_90     1077   2018-10-27\n",
       "56989   1362_54     1362   2018-06-30\n",
       "74573  1480_328     1480   2018-12-18\n",
       "20871  1131_210     1131   2018-08-07\n",
       "31197   1195_64     1195   2018-12-07\n",
       "14272  1098_291     1098   2018-10-05\n",
       "58556   1372_28     1372   2018-12-29\n",
       "52528  1336_527     1336   2018-08-14\n",
       "36561   1243_41     1243   2018-11-25\n",
       "38483   1253_17     1253   2018-10-05\n",
       "38670  1254_202     1254   2018-11-15\n",
       "39879  1258_336     1258   2018-12-03\n",
       "70252  1456_189     1456   2018-07-06"
      ]
     },
     "metadata": {},
     "output_type": "display_data"
    },
    {
     "name": "stdout",
     "output_type": "stream",
     "text": [
      "\n",
      "Valores duplicados: \n"
     ]
    },
    {
     "data": {
      "text/plain": [
       "id        user_id  message_date\n",
       "1000_125  1000     2018-12-27      1\n",
       "1330_192  1330     2018-12-26      1\n",
       "1330_189  1330     2018-12-28      1\n",
       "1330_185  1330     2018-12-16      1\n",
       "1330_184  1330     2018-11-18      1\n",
       "                                  ..\n",
       "1151_38   1151     2018-11-03      1\n",
       "1151_37   1151     2018-09-16      1\n",
       "1151_36   1151     2018-11-11      1\n",
       "1151_35   1151     2018-08-24      1\n",
       "1497_68   1497     2018-12-21      1\n",
       "Length: 76051, dtype: int64"
      ]
     },
     "metadata": {},
     "output_type": "display_data"
    },
    {
     "name": "stdout",
     "output_type": "stream",
     "text": [
      "\n",
      "Valores ausentes: \n",
      "id              0\n",
      "user_id         0\n",
      "message_date    0\n",
      "dtype: int64\n"
     ]
    }
   ],
   "source": [
    "# Imprime una muestra de datos para los mensajes\n",
    "\n",
    "display(messages.sample(15))\n",
    "print()\n",
    "print('Valores duplicados: ')\n",
    "display(messages.value_counts())\n",
    "print()\n",
    "print('Valores ausentes: ')\n",
    "print(messages.isna().sum())"
   ]
  },
  {
   "cell_type": "markdown",
   "metadata": {
    "id": "04xDj7KH0q1A"
   },
   "source": [
    "[Describe lo que ves y observas en la información general y en la muestra de datos impresa para el precio de datos anterior. ¿Hay algún problema (tipos de datos no adecuados, datos ausentes, etc.) que pudieran necesitar investigación y cambios adicionales? ¿Cómo se puede arreglar?]\n",
    "\n",
    "\n",
    "No hay valores ausentes \n",
    "\n",
    "No hay valores duplicados\n",
    "\n",
    "El tipo de dato de la columna  message_date es object, sin embargo este dato corresponde a una fecha, por lo que se hará el cambio de tipo de dato object a datetime64[ns]."
   ]
  },
  {
   "cell_type": "markdown",
   "metadata": {
    "id": "Sprfak900q1B"
   },
   "source": [
    "### Corregir los datos"
   ]
  },
  {
   "cell_type": "markdown",
   "metadata": {
    "id": "eGw7d9j10q1B"
   },
   "source": [
    "[Corrige los problemas obvios con los datos basándote en las observaciones iniciales.]"
   ]
  },
  {
   "cell_type": "code",
   "execution_count": 17,
   "metadata": {
    "id": "vsllvkoa0q1B"
   },
   "outputs": [
    {
     "name": "stdout",
     "output_type": "stream",
     "text": [
      "<class 'pandas.core.frame.DataFrame'>\n",
      "RangeIndex: 76051 entries, 0 to 76050\n",
      "Data columns (total 3 columns):\n",
      " #   Column        Non-Null Count  Dtype         \n",
      "---  ------        --------------  -----         \n",
      " 0   id            76051 non-null  object        \n",
      " 1   user_id       76051 non-null  int64         \n",
      " 2   message_date  76051 non-null  datetime64[ns]\n",
      "dtypes: datetime64[ns](1), int64(1), object(1)\n",
      "memory usage: 1.7+ MB\n",
      "None\n"
     ]
    }
   ],
   "source": [
    "messages['message_date'] = pd.to_datetime(messages['message_date'], format = '%Y-%m-%d')\n",
    "print(messages.info())"
   ]
  },
  {
   "cell_type": "markdown",
   "metadata": {
    "id": "HvLid7iD0q1B"
   },
   "source": [
    "### Enriquecer los datos"
   ]
  },
  {
   "cell_type": "markdown",
   "metadata": {
    "id": "8nhPFKIe0q1C"
   },
   "source": [
    "[Agrega factores adicionales a los datos si crees que pudieran ser útiles.]"
   ]
  },
  {
   "cell_type": "code",
   "execution_count": 18,
   "metadata": {
    "id": "zYEXZac10q1C"
   },
   "outputs": [
    {
     "data": {
      "text/html": [
       "<div>\n",
       "<style scoped>\n",
       "    .dataframe tbody tr th:only-of-type {\n",
       "        vertical-align: middle;\n",
       "    }\n",
       "\n",
       "    .dataframe tbody tr th {\n",
       "        vertical-align: top;\n",
       "    }\n",
       "\n",
       "    .dataframe thead th {\n",
       "        text-align: right;\n",
       "    }\n",
       "</style>\n",
       "<table border=\"1\" class=\"dataframe\">\n",
       "  <thead>\n",
       "    <tr style=\"text-align: right;\">\n",
       "      <th></th>\n",
       "      <th>id</th>\n",
       "      <th>user_id</th>\n",
       "      <th>message_date</th>\n",
       "      <th>month</th>\n",
       "    </tr>\n",
       "  </thead>\n",
       "  <tbody>\n",
       "    <tr>\n",
       "      <th>0</th>\n",
       "      <td>1000_125</td>\n",
       "      <td>1000</td>\n",
       "      <td>2018-12-27</td>\n",
       "      <td>12</td>\n",
       "    </tr>\n",
       "    <tr>\n",
       "      <th>1</th>\n",
       "      <td>1000_160</td>\n",
       "      <td>1000</td>\n",
       "      <td>2018-12-31</td>\n",
       "      <td>12</td>\n",
       "    </tr>\n",
       "    <tr>\n",
       "      <th>2</th>\n",
       "      <td>1000_223</td>\n",
       "      <td>1000</td>\n",
       "      <td>2018-12-31</td>\n",
       "      <td>12</td>\n",
       "    </tr>\n",
       "    <tr>\n",
       "      <th>3</th>\n",
       "      <td>1000_251</td>\n",
       "      <td>1000</td>\n",
       "      <td>2018-12-27</td>\n",
       "      <td>12</td>\n",
       "    </tr>\n",
       "    <tr>\n",
       "      <th>4</th>\n",
       "      <td>1000_255</td>\n",
       "      <td>1000</td>\n",
       "      <td>2018-12-26</td>\n",
       "      <td>12</td>\n",
       "    </tr>\n",
       "    <tr>\n",
       "      <th>...</th>\n",
       "      <td>...</td>\n",
       "      <td>...</td>\n",
       "      <td>...</td>\n",
       "      <td>...</td>\n",
       "    </tr>\n",
       "    <tr>\n",
       "      <th>76046</th>\n",
       "      <td>1497_526</td>\n",
       "      <td>1497</td>\n",
       "      <td>2018-12-24</td>\n",
       "      <td>12</td>\n",
       "    </tr>\n",
       "    <tr>\n",
       "      <th>76047</th>\n",
       "      <td>1497_536</td>\n",
       "      <td>1497</td>\n",
       "      <td>2018-12-24</td>\n",
       "      <td>12</td>\n",
       "    </tr>\n",
       "    <tr>\n",
       "      <th>76048</th>\n",
       "      <td>1497_547</td>\n",
       "      <td>1497</td>\n",
       "      <td>2018-12-31</td>\n",
       "      <td>12</td>\n",
       "    </tr>\n",
       "    <tr>\n",
       "      <th>76049</th>\n",
       "      <td>1497_558</td>\n",
       "      <td>1497</td>\n",
       "      <td>2018-12-24</td>\n",
       "      <td>12</td>\n",
       "    </tr>\n",
       "    <tr>\n",
       "      <th>76050</th>\n",
       "      <td>1497_613</td>\n",
       "      <td>1497</td>\n",
       "      <td>2018-12-23</td>\n",
       "      <td>12</td>\n",
       "    </tr>\n",
       "  </tbody>\n",
       "</table>\n",
       "<p>76051 rows × 4 columns</p>\n",
       "</div>"
      ],
      "text/plain": [
       "             id  user_id message_date  month\n",
       "0      1000_125     1000   2018-12-27     12\n",
       "1      1000_160     1000   2018-12-31     12\n",
       "2      1000_223     1000   2018-12-31     12\n",
       "3      1000_251     1000   2018-12-27     12\n",
       "4      1000_255     1000   2018-12-26     12\n",
       "...         ...      ...          ...    ...\n",
       "76046  1497_526     1497   2018-12-24     12\n",
       "76047  1497_536     1497   2018-12-24     12\n",
       "76048  1497_547     1497   2018-12-31     12\n",
       "76049  1497_558     1497   2018-12-24     12\n",
       "76050  1497_613     1497   2018-12-23     12\n",
       "\n",
       "[76051 rows x 4 columns]"
      ]
     },
     "metadata": {},
     "output_type": "display_data"
    }
   ],
   "source": [
    "#Agregar la columna month\n",
    "messages['month'] = messages['message_date'].dt.month\n",
    "display(messages)"
   ]
  },
  {
   "cell_type": "markdown",
   "metadata": {
    "id": "bStkaxn40q1C"
   },
   "source": [
    "## Internet"
   ]
  },
  {
   "cell_type": "code",
   "execution_count": 19,
   "metadata": {
    "id": "e-Uz5qyn0q1C"
   },
   "outputs": [
    {
     "name": "stdout",
     "output_type": "stream",
     "text": [
      "<class 'pandas.core.frame.DataFrame'>\n",
      "RangeIndex: 104825 entries, 0 to 104824\n",
      "Data columns (total 4 columns):\n",
      " #   Column        Non-Null Count   Dtype  \n",
      "---  ------        --------------   -----  \n",
      " 0   id            104825 non-null  object \n",
      " 1   user_id       104825 non-null  int64  \n",
      " 2   session_date  104825 non-null  object \n",
      " 3   mb_used       104825 non-null  float64\n",
      "dtypes: float64(1), int64(1), object(2)\n",
      "memory usage: 3.2+ MB\n"
     ]
    },
    {
     "data": {
      "text/plain": [
       "None"
      ]
     },
     "metadata": {},
     "output_type": "display_data"
    }
   ],
   "source": [
    "# Imprime la información general/resumida sobre el DataFrame de internet\n",
    "\n",
    "display(internet.info())"
   ]
  },
  {
   "cell_type": "code",
   "execution_count": 20,
   "metadata": {
    "id": "9r3x_XLw0q1C"
   },
   "outputs": [
    {
     "data": {
      "text/html": [
       "<div>\n",
       "<style scoped>\n",
       "    .dataframe tbody tr th:only-of-type {\n",
       "        vertical-align: middle;\n",
       "    }\n",
       "\n",
       "    .dataframe tbody tr th {\n",
       "        vertical-align: top;\n",
       "    }\n",
       "\n",
       "    .dataframe thead th {\n",
       "        text-align: right;\n",
       "    }\n",
       "</style>\n",
       "<table border=\"1\" class=\"dataframe\">\n",
       "  <thead>\n",
       "    <tr style=\"text-align: right;\">\n",
       "      <th></th>\n",
       "      <th>id</th>\n",
       "      <th>user_id</th>\n",
       "      <th>session_date</th>\n",
       "      <th>mb_used</th>\n",
       "    </tr>\n",
       "  </thead>\n",
       "  <tbody>\n",
       "    <tr>\n",
       "      <th>2400</th>\n",
       "      <td>1011_140</td>\n",
       "      <td>1011</td>\n",
       "      <td>2018-06-26</td>\n",
       "      <td>0.00</td>\n",
       "    </tr>\n",
       "    <tr>\n",
       "      <th>76683</th>\n",
       "      <td>1359_370</td>\n",
       "      <td>1359</td>\n",
       "      <td>2018-05-02</td>\n",
       "      <td>523.78</td>\n",
       "    </tr>\n",
       "    <tr>\n",
       "      <th>17668</th>\n",
       "      <td>1079_273</td>\n",
       "      <td>1079</td>\n",
       "      <td>2018-11-29</td>\n",
       "      <td>313.10</td>\n",
       "    </tr>\n",
       "    <tr>\n",
       "      <th>98579</th>\n",
       "      <td>1466_60</td>\n",
       "      <td>1466</td>\n",
       "      <td>2018-09-18</td>\n",
       "      <td>432.21</td>\n",
       "    </tr>\n",
       "    <tr>\n",
       "      <th>58658</th>\n",
       "      <td>1263_462</td>\n",
       "      <td>1263</td>\n",
       "      <td>2018-09-27</td>\n",
       "      <td>177.28</td>\n",
       "    </tr>\n",
       "    <tr>\n",
       "      <th>96200</th>\n",
       "      <td>1449_140</td>\n",
       "      <td>1449</td>\n",
       "      <td>2018-11-17</td>\n",
       "      <td>459.05</td>\n",
       "    </tr>\n",
       "    <tr>\n",
       "      <th>68187</th>\n",
       "      <td>1318_75</td>\n",
       "      <td>1318</td>\n",
       "      <td>2018-12-11</td>\n",
       "      <td>248.30</td>\n",
       "    </tr>\n",
       "    <tr>\n",
       "      <th>99037</th>\n",
       "      <td>1467_174</td>\n",
       "      <td>1467</td>\n",
       "      <td>2018-05-13</td>\n",
       "      <td>477.91</td>\n",
       "    </tr>\n",
       "    <tr>\n",
       "      <th>37512</th>\n",
       "      <td>1170_204</td>\n",
       "      <td>1170</td>\n",
       "      <td>2018-10-24</td>\n",
       "      <td>452.00</td>\n",
       "    </tr>\n",
       "    <tr>\n",
       "      <th>6698</th>\n",
       "      <td>1038_186</td>\n",
       "      <td>1038</td>\n",
       "      <td>2018-11-23</td>\n",
       "      <td>791.92</td>\n",
       "    </tr>\n",
       "    <tr>\n",
       "      <th>61437</th>\n",
       "      <td>1279_51</td>\n",
       "      <td>1279</td>\n",
       "      <td>2018-10-17</td>\n",
       "      <td>0.00</td>\n",
       "    </tr>\n",
       "    <tr>\n",
       "      <th>64804</th>\n",
       "      <td>1299_92</td>\n",
       "      <td>1299</td>\n",
       "      <td>2018-11-14</td>\n",
       "      <td>382.92</td>\n",
       "    </tr>\n",
       "    <tr>\n",
       "      <th>88013</th>\n",
       "      <td>1406_330</td>\n",
       "      <td>1406</td>\n",
       "      <td>2018-10-28</td>\n",
       "      <td>122.36</td>\n",
       "    </tr>\n",
       "    <tr>\n",
       "      <th>35431</th>\n",
       "      <td>1160_135</td>\n",
       "      <td>1160</td>\n",
       "      <td>2018-10-12</td>\n",
       "      <td>0.00</td>\n",
       "    </tr>\n",
       "    <tr>\n",
       "      <th>98953</th>\n",
       "      <td>1467_90</td>\n",
       "      <td>1467</td>\n",
       "      <td>2018-07-29</td>\n",
       "      <td>461.08</td>\n",
       "    </tr>\n",
       "  </tbody>\n",
       "</table>\n",
       "</div>"
      ],
      "text/plain": [
       "             id  user_id session_date  mb_used\n",
       "2400   1011_140     1011   2018-06-26     0.00\n",
       "76683  1359_370     1359   2018-05-02   523.78\n",
       "17668  1079_273     1079   2018-11-29   313.10\n",
       "98579   1466_60     1466   2018-09-18   432.21\n",
       "58658  1263_462     1263   2018-09-27   177.28\n",
       "96200  1449_140     1449   2018-11-17   459.05\n",
       "68187   1318_75     1318   2018-12-11   248.30\n",
       "99037  1467_174     1467   2018-05-13   477.91\n",
       "37512  1170_204     1170   2018-10-24   452.00\n",
       "6698   1038_186     1038   2018-11-23   791.92\n",
       "61437   1279_51     1279   2018-10-17     0.00\n",
       "64804   1299_92     1299   2018-11-14   382.92\n",
       "88013  1406_330     1406   2018-10-28   122.36\n",
       "35431  1160_135     1160   2018-10-12     0.00\n",
       "98953   1467_90     1467   2018-07-29   461.08"
      ]
     },
     "metadata": {},
     "output_type": "display_data"
    },
    {
     "name": "stdout",
     "output_type": "stream",
     "text": [
      "\n",
      "Valores duplicados: \n"
     ]
    },
    {
     "data": {
      "text/plain": [
       "id        user_id  session_date  mb_used\n",
       "1000_13   1000     2018-12-29    89.86      1\n",
       "1327_116  1327     2018-12-13    317.05     1\n",
       "1327_125  1327     2018-10-07    0.00       1\n",
       "1327_124  1327     2018-10-10    602.05     1\n",
       "1327_123  1327     2018-09-09    196.49     1\n",
       "                                           ..\n",
       "1157_121  1157     2018-09-01    587.62     1\n",
       "1157_120  1157     2018-10-07    318.58     1\n",
       "1157_12   1157     2018-10-08    0.00       1\n",
       "1157_119  1157     2018-07-29    0.00       1\n",
       "1499_99   1499     2018-09-21    179.22     1\n",
       "Length: 104825, dtype: int64"
      ]
     },
     "metadata": {},
     "output_type": "display_data"
    },
    {
     "name": "stdout",
     "output_type": "stream",
     "text": [
      "\n",
      "Valores ausentes: \n",
      "id              0\n",
      "user_id         0\n",
      "session_date    0\n",
      "mb_used         0\n",
      "dtype: int64\n"
     ]
    }
   ],
   "source": [
    "# Imprime una muestra de datos para el tráfico de internet\n",
    "\n",
    "display(internet.sample(15))\n",
    "print()\n",
    "print('Valores duplicados: ')\n",
    "display(internet.value_counts())\n",
    "print()\n",
    "print('Valores ausentes: ')\n",
    "print(internet.isna().sum())"
   ]
  },
  {
   "cell_type": "markdown",
   "metadata": {
    "id": "EzOG5ik30q1D"
   },
   "source": [
    "[Describe lo que ves y observas en la información general y en la muestra de datos impresa para el precio de datos anterior. ¿Hay algún problema (tipos de datos no adecuados, datos ausentes, etc.) que pudieran necesitar investigación y cambios adicionales? ¿Cómo se puede arreglar?]\n",
    "\n",
    "\n",
    "No hay valores ausentes \n",
    "\n",
    "No hay valores duplicados\n",
    "\n",
    "El tipo de dato de la columna  session_date es object, sin embargo este dato corresponde a una fecha, por lo que se hará el cambio de tipo de dato object a datetime64[ns]."
   ]
  },
  {
   "cell_type": "markdown",
   "metadata": {
    "id": "yA0tkPFg0q1D"
   },
   "source": [
    "### Corregir los datos"
   ]
  },
  {
   "cell_type": "markdown",
   "metadata": {
    "id": "zlZMuIEK0q1D"
   },
   "source": [
    "[Corrige los problemas obvios con los datos basándote en las observaciones iniciales.]"
   ]
  },
  {
   "cell_type": "code",
   "execution_count": 21,
   "metadata": {
    "id": "zVeanzdd0q1E"
   },
   "outputs": [
    {
     "name": "stdout",
     "output_type": "stream",
     "text": [
      "<class 'pandas.core.frame.DataFrame'>\n",
      "RangeIndex: 104825 entries, 0 to 104824\n",
      "Data columns (total 4 columns):\n",
      " #   Column        Non-Null Count   Dtype         \n",
      "---  ------        --------------   -----         \n",
      " 0   id            104825 non-null  object        \n",
      " 1   user_id       104825 non-null  int64         \n",
      " 2   session_date  104825 non-null  datetime64[ns]\n",
      " 3   mb_used       104825 non-null  float64       \n",
      "dtypes: datetime64[ns](1), float64(1), int64(1), object(1)\n",
      "memory usage: 3.2+ MB\n",
      "None\n"
     ]
    }
   ],
   "source": [
    "internet['session_date'] = pd.to_datetime(internet['session_date'], format = '%Y-%m-%d')\n",
    "print(internet.info())"
   ]
  },
  {
   "cell_type": "markdown",
   "metadata": {
    "id": "e8_mLF4a0q1E"
   },
   "source": [
    "### Enriquecer los datos"
   ]
  },
  {
   "cell_type": "markdown",
   "metadata": {
    "id": "xhNdn2tE0q1E"
   },
   "source": [
    "[Agrega factores adicionales a los datos si crees que pudieran ser útiles.]"
   ]
  },
  {
   "cell_type": "code",
   "execution_count": 22,
   "metadata": {
    "id": "ESiYPIEK0q1E"
   },
   "outputs": [
    {
     "data": {
      "text/html": [
       "<div>\n",
       "<style scoped>\n",
       "    .dataframe tbody tr th:only-of-type {\n",
       "        vertical-align: middle;\n",
       "    }\n",
       "\n",
       "    .dataframe tbody tr th {\n",
       "        vertical-align: top;\n",
       "    }\n",
       "\n",
       "    .dataframe thead th {\n",
       "        text-align: right;\n",
       "    }\n",
       "</style>\n",
       "<table border=\"1\" class=\"dataframe\">\n",
       "  <thead>\n",
       "    <tr style=\"text-align: right;\">\n",
       "      <th></th>\n",
       "      <th>id</th>\n",
       "      <th>user_id</th>\n",
       "      <th>session_date</th>\n",
       "      <th>mb_used</th>\n",
       "      <th>month</th>\n",
       "    </tr>\n",
       "  </thead>\n",
       "  <tbody>\n",
       "    <tr>\n",
       "      <th>0</th>\n",
       "      <td>1000_13</td>\n",
       "      <td>1000</td>\n",
       "      <td>2018-12-29</td>\n",
       "      <td>89.86</td>\n",
       "      <td>12</td>\n",
       "    </tr>\n",
       "    <tr>\n",
       "      <th>1</th>\n",
       "      <td>1000_204</td>\n",
       "      <td>1000</td>\n",
       "      <td>2018-12-31</td>\n",
       "      <td>0.00</td>\n",
       "      <td>12</td>\n",
       "    </tr>\n",
       "    <tr>\n",
       "      <th>2</th>\n",
       "      <td>1000_379</td>\n",
       "      <td>1000</td>\n",
       "      <td>2018-12-28</td>\n",
       "      <td>660.40</td>\n",
       "      <td>12</td>\n",
       "    </tr>\n",
       "    <tr>\n",
       "      <th>3</th>\n",
       "      <td>1000_413</td>\n",
       "      <td>1000</td>\n",
       "      <td>2018-12-26</td>\n",
       "      <td>270.99</td>\n",
       "      <td>12</td>\n",
       "    </tr>\n",
       "    <tr>\n",
       "      <th>4</th>\n",
       "      <td>1000_442</td>\n",
       "      <td>1000</td>\n",
       "      <td>2018-12-27</td>\n",
       "      <td>880.22</td>\n",
       "      <td>12</td>\n",
       "    </tr>\n",
       "    <tr>\n",
       "      <th>...</th>\n",
       "      <td>...</td>\n",
       "      <td>...</td>\n",
       "      <td>...</td>\n",
       "      <td>...</td>\n",
       "      <td>...</td>\n",
       "    </tr>\n",
       "    <tr>\n",
       "      <th>104820</th>\n",
       "      <td>1499_215</td>\n",
       "      <td>1499</td>\n",
       "      <td>2018-10-20</td>\n",
       "      <td>218.06</td>\n",
       "      <td>10</td>\n",
       "    </tr>\n",
       "    <tr>\n",
       "      <th>104821</th>\n",
       "      <td>1499_216</td>\n",
       "      <td>1499</td>\n",
       "      <td>2018-12-30</td>\n",
       "      <td>304.72</td>\n",
       "      <td>12</td>\n",
       "    </tr>\n",
       "    <tr>\n",
       "      <th>104822</th>\n",
       "      <td>1499_217</td>\n",
       "      <td>1499</td>\n",
       "      <td>2018-09-22</td>\n",
       "      <td>292.75</td>\n",
       "      <td>9</td>\n",
       "    </tr>\n",
       "    <tr>\n",
       "      <th>104823</th>\n",
       "      <td>1499_218</td>\n",
       "      <td>1499</td>\n",
       "      <td>2018-12-07</td>\n",
       "      <td>0.00</td>\n",
       "      <td>12</td>\n",
       "    </tr>\n",
       "    <tr>\n",
       "      <th>104824</th>\n",
       "      <td>1499_219</td>\n",
       "      <td>1499</td>\n",
       "      <td>2018-12-24</td>\n",
       "      <td>758.31</td>\n",
       "      <td>12</td>\n",
       "    </tr>\n",
       "  </tbody>\n",
       "</table>\n",
       "<p>104825 rows × 5 columns</p>\n",
       "</div>"
      ],
      "text/plain": [
       "              id  user_id session_date  mb_used  month\n",
       "0        1000_13     1000   2018-12-29    89.86     12\n",
       "1       1000_204     1000   2018-12-31     0.00     12\n",
       "2       1000_379     1000   2018-12-28   660.40     12\n",
       "3       1000_413     1000   2018-12-26   270.99     12\n",
       "4       1000_442     1000   2018-12-27   880.22     12\n",
       "...          ...      ...          ...      ...    ...\n",
       "104820  1499_215     1499   2018-10-20   218.06     10\n",
       "104821  1499_216     1499   2018-12-30   304.72     12\n",
       "104822  1499_217     1499   2018-09-22   292.75      9\n",
       "104823  1499_218     1499   2018-12-07     0.00     12\n",
       "104824  1499_219     1499   2018-12-24   758.31     12\n",
       "\n",
       "[104825 rows x 5 columns]"
      ]
     },
     "metadata": {},
     "output_type": "display_data"
    }
   ],
   "source": [
    "#Agregar columna month\n",
    "\n",
    "internet['month'] = internet['session_date'].dt.month\n",
    "display(internet)\n",
    "\n",
    "\n"
   ]
  },
  {
   "cell_type": "markdown",
   "metadata": {
    "id": "3UA2cqIW0q1E"
   },
   "source": [
    "## Estudiar las condiciones de las tarifas"
   ]
  },
  {
   "cell_type": "markdown",
   "metadata": {
    "id": "T86Sqltq0q1F"
   },
   "source": [
    "[Es sumamente importante entender cómo funcionan las tarifas, cómo se les cobra a los usuarios en función de su plan de suscripción. Así que te sugerimos imprimir la información de la tarifa para ver una vez más sus condiciones.]"
   ]
  },
  {
   "cell_type": "code",
   "execution_count": 23,
   "metadata": {
    "id": "i409op8p0q1F"
   },
   "outputs": [
    {
     "data": {
      "text/html": [
       "<div>\n",
       "<style scoped>\n",
       "    .dataframe tbody tr th:only-of-type {\n",
       "        vertical-align: middle;\n",
       "    }\n",
       "\n",
       "    .dataframe tbody tr th {\n",
       "        vertical-align: top;\n",
       "    }\n",
       "\n",
       "    .dataframe thead th {\n",
       "        text-align: right;\n",
       "    }\n",
       "</style>\n",
       "<table border=\"1\" class=\"dataframe\">\n",
       "  <thead>\n",
       "    <tr style=\"text-align: right;\">\n",
       "      <th></th>\n",
       "      <th>messages_included</th>\n",
       "      <th>minutes_included</th>\n",
       "      <th>usd_monthly_pay</th>\n",
       "      <th>usd_per_gb</th>\n",
       "      <th>usd_per_message</th>\n",
       "      <th>usd_per_minute</th>\n",
       "      <th>plan_name</th>\n",
       "      <th>gb_per_month_included</th>\n",
       "    </tr>\n",
       "  </thead>\n",
       "  <tbody>\n",
       "    <tr>\n",
       "      <th>0</th>\n",
       "      <td>50</td>\n",
       "      <td>500</td>\n",
       "      <td>20</td>\n",
       "      <td>10</td>\n",
       "      <td>0.03</td>\n",
       "      <td>0.03</td>\n",
       "      <td>surf</td>\n",
       "      <td>15.0</td>\n",
       "    </tr>\n",
       "    <tr>\n",
       "      <th>1</th>\n",
       "      <td>1000</td>\n",
       "      <td>3000</td>\n",
       "      <td>70</td>\n",
       "      <td>7</td>\n",
       "      <td>0.01</td>\n",
       "      <td>0.01</td>\n",
       "      <td>ultimate</td>\n",
       "      <td>30.0</td>\n",
       "    </tr>\n",
       "  </tbody>\n",
       "</table>\n",
       "</div>"
      ],
      "text/plain": [
       "   messages_included  minutes_included  usd_monthly_pay  usd_per_gb  \\\n",
       "0                 50               500               20          10   \n",
       "1               1000              3000               70           7   \n",
       "\n",
       "   usd_per_message  usd_per_minute plan_name  gb_per_month_included  \n",
       "0             0.03            0.03      surf                   15.0  \n",
       "1             0.01            0.01  ultimate                   30.0  "
      ]
     },
     "metadata": {},
     "output_type": "display_data"
    }
   ],
   "source": [
    "# Imprime las condiciones de la tarifa y asegúrate de que te quedan claras\n",
    "\n",
    "display(plans.head())"
   ]
  },
  {
   "cell_type": "markdown",
   "metadata": {
    "id": "hMR1tP5d0q1F"
   },
   "source": [
    "## Agregar datos por usuario\n",
    "\n",
    "[Ahora que los datos están limpios, agrega los datos por usuario y por periodo para que solo haya un registro por usuario y por periodo. Esto facilitará mucho el análisis posterior.]"
   ]
  },
  {
   "cell_type": "code",
   "execution_count": 24,
   "metadata": {
    "id": "A332cedB0q1G"
   },
   "outputs": [
    {
     "data": {
      "text/html": [
       "<div>\n",
       "<style scoped>\n",
       "    .dataframe tbody tr th:only-of-type {\n",
       "        vertical-align: middle;\n",
       "    }\n",
       "\n",
       "    .dataframe tbody tr th {\n",
       "        vertical-align: top;\n",
       "    }\n",
       "\n",
       "    .dataframe thead th {\n",
       "        text-align: right;\n",
       "    }\n",
       "</style>\n",
       "<table border=\"1\" class=\"dataframe\">\n",
       "  <thead>\n",
       "    <tr style=\"text-align: right;\">\n",
       "      <th></th>\n",
       "      <th>user_id</th>\n",
       "      <th>month</th>\n",
       "      <th>calls_made</th>\n",
       "    </tr>\n",
       "  </thead>\n",
       "  <tbody>\n",
       "    <tr>\n",
       "      <th>0</th>\n",
       "      <td>1000</td>\n",
       "      <td>12</td>\n",
       "      <td>16</td>\n",
       "    </tr>\n",
       "    <tr>\n",
       "      <th>1</th>\n",
       "      <td>1001</td>\n",
       "      <td>8</td>\n",
       "      <td>27</td>\n",
       "    </tr>\n",
       "    <tr>\n",
       "      <th>2</th>\n",
       "      <td>1001</td>\n",
       "      <td>9</td>\n",
       "      <td>49</td>\n",
       "    </tr>\n",
       "    <tr>\n",
       "      <th>3</th>\n",
       "      <td>1001</td>\n",
       "      <td>10</td>\n",
       "      <td>65</td>\n",
       "    </tr>\n",
       "    <tr>\n",
       "      <th>4</th>\n",
       "      <td>1001</td>\n",
       "      <td>11</td>\n",
       "      <td>64</td>\n",
       "    </tr>\n",
       "    <tr>\n",
       "      <th>5</th>\n",
       "      <td>1001</td>\n",
       "      <td>12</td>\n",
       "      <td>56</td>\n",
       "    </tr>\n",
       "    <tr>\n",
       "      <th>6</th>\n",
       "      <td>1002</td>\n",
       "      <td>10</td>\n",
       "      <td>11</td>\n",
       "    </tr>\n",
       "    <tr>\n",
       "      <th>7</th>\n",
       "      <td>1002</td>\n",
       "      <td>11</td>\n",
       "      <td>55</td>\n",
       "    </tr>\n",
       "    <tr>\n",
       "      <th>8</th>\n",
       "      <td>1002</td>\n",
       "      <td>12</td>\n",
       "      <td>47</td>\n",
       "    </tr>\n",
       "    <tr>\n",
       "      <th>9</th>\n",
       "      <td>1003</td>\n",
       "      <td>12</td>\n",
       "      <td>149</td>\n",
       "    </tr>\n",
       "    <tr>\n",
       "      <th>10</th>\n",
       "      <td>1004</td>\n",
       "      <td>5</td>\n",
       "      <td>21</td>\n",
       "    </tr>\n",
       "    <tr>\n",
       "      <th>11</th>\n",
       "      <td>1004</td>\n",
       "      <td>6</td>\n",
       "      <td>44</td>\n",
       "    </tr>\n",
       "    <tr>\n",
       "      <th>12</th>\n",
       "      <td>1004</td>\n",
       "      <td>7</td>\n",
       "      <td>49</td>\n",
       "    </tr>\n",
       "    <tr>\n",
       "      <th>13</th>\n",
       "      <td>1004</td>\n",
       "      <td>8</td>\n",
       "      <td>49</td>\n",
       "    </tr>\n",
       "    <tr>\n",
       "      <th>14</th>\n",
       "      <td>1004</td>\n",
       "      <td>9</td>\n",
       "      <td>42</td>\n",
       "    </tr>\n",
       "  </tbody>\n",
       "</table>\n",
       "</div>"
      ],
      "text/plain": [
       "    user_id  month  calls_made\n",
       "0      1000     12          16\n",
       "1      1001      8          27\n",
       "2      1001      9          49\n",
       "3      1001     10          65\n",
       "4      1001     11          64\n",
       "5      1001     12          56\n",
       "6      1002     10          11\n",
       "7      1002     11          55\n",
       "8      1002     12          47\n",
       "9      1003     12         149\n",
       "10     1004      5          21\n",
       "11     1004      6          44\n",
       "12     1004      7          49\n",
       "13     1004      8          49\n",
       "14     1004      9          42"
      ]
     },
     "metadata": {},
     "output_type": "display_data"
    }
   ],
   "source": [
    "# Calcula el número de llamadas hechas por cada usuario al mes. Guarda el resultado.\n",
    "\n",
    "\n",
    "merged_user_info = pd.merge(calls, users, on='user_id', how='left')\n",
    "\n",
    "calls_month = merged_user_info.groupby(['user_id', 'month'])['user_id'].count().reset_index(name='calls_made')\n",
    "\n",
    "\n",
    "display(calls_month.head(15))\n",
    "\n"
   ]
  },
  {
   "cell_type": "code",
   "execution_count": 25,
   "metadata": {
    "id": "aw2cmuql0q1G"
   },
   "outputs": [
    {
     "data": {
      "text/html": [
       "<div>\n",
       "<style scoped>\n",
       "    .dataframe tbody tr th:only-of-type {\n",
       "        vertical-align: middle;\n",
       "    }\n",
       "\n",
       "    .dataframe tbody tr th {\n",
       "        vertical-align: top;\n",
       "    }\n",
       "\n",
       "    .dataframe thead th {\n",
       "        text-align: right;\n",
       "    }\n",
       "</style>\n",
       "<table border=\"1\" class=\"dataframe\">\n",
       "  <thead>\n",
       "    <tr style=\"text-align: right;\">\n",
       "      <th></th>\n",
       "      <th>user_id</th>\n",
       "      <th>month</th>\n",
       "      <th>calls_duration</th>\n",
       "    </tr>\n",
       "  </thead>\n",
       "  <tbody>\n",
       "    <tr>\n",
       "      <th>0</th>\n",
       "      <td>1000</td>\n",
       "      <td>12</td>\n",
       "      <td>116.83</td>\n",
       "    </tr>\n",
       "    <tr>\n",
       "      <th>1</th>\n",
       "      <td>1001</td>\n",
       "      <td>8</td>\n",
       "      <td>171.14</td>\n",
       "    </tr>\n",
       "    <tr>\n",
       "      <th>2</th>\n",
       "      <td>1001</td>\n",
       "      <td>9</td>\n",
       "      <td>297.69</td>\n",
       "    </tr>\n",
       "    <tr>\n",
       "      <th>3</th>\n",
       "      <td>1001</td>\n",
       "      <td>10</td>\n",
       "      <td>374.11</td>\n",
       "    </tr>\n",
       "    <tr>\n",
       "      <th>4</th>\n",
       "      <td>1001</td>\n",
       "      <td>11</td>\n",
       "      <td>404.59</td>\n",
       "    </tr>\n",
       "    <tr>\n",
       "      <th>5</th>\n",
       "      <td>1001</td>\n",
       "      <td>12</td>\n",
       "      <td>392.93</td>\n",
       "    </tr>\n",
       "    <tr>\n",
       "      <th>6</th>\n",
       "      <td>1002</td>\n",
       "      <td>10</td>\n",
       "      <td>54.13</td>\n",
       "    </tr>\n",
       "    <tr>\n",
       "      <th>7</th>\n",
       "      <td>1002</td>\n",
       "      <td>11</td>\n",
       "      <td>359.76</td>\n",
       "    </tr>\n",
       "    <tr>\n",
       "      <th>8</th>\n",
       "      <td>1002</td>\n",
       "      <td>12</td>\n",
       "      <td>363.24</td>\n",
       "    </tr>\n",
       "    <tr>\n",
       "      <th>9</th>\n",
       "      <td>1003</td>\n",
       "      <td>12</td>\n",
       "      <td>1041.00</td>\n",
       "    </tr>\n",
       "    <tr>\n",
       "      <th>10</th>\n",
       "      <td>1004</td>\n",
       "      <td>5</td>\n",
       "      <td>181.58</td>\n",
       "    </tr>\n",
       "    <tr>\n",
       "      <th>11</th>\n",
       "      <td>1004</td>\n",
       "      <td>6</td>\n",
       "      <td>261.32</td>\n",
       "    </tr>\n",
       "    <tr>\n",
       "      <th>12</th>\n",
       "      <td>1004</td>\n",
       "      <td>7</td>\n",
       "      <td>358.45</td>\n",
       "    </tr>\n",
       "    <tr>\n",
       "      <th>13</th>\n",
       "      <td>1004</td>\n",
       "      <td>8</td>\n",
       "      <td>334.86</td>\n",
       "    </tr>\n",
       "    <tr>\n",
       "      <th>14</th>\n",
       "      <td>1004</td>\n",
       "      <td>9</td>\n",
       "      <td>284.60</td>\n",
       "    </tr>\n",
       "  </tbody>\n",
       "</table>\n",
       "</div>"
      ],
      "text/plain": [
       "    user_id  month  calls_duration\n",
       "0      1000     12          116.83\n",
       "1      1001      8          171.14\n",
       "2      1001      9          297.69\n",
       "3      1001     10          374.11\n",
       "4      1001     11          404.59\n",
       "5      1001     12          392.93\n",
       "6      1002     10           54.13\n",
       "7      1002     11          359.76\n",
       "8      1002     12          363.24\n",
       "9      1003     12         1041.00\n",
       "10     1004      5          181.58\n",
       "11     1004      6          261.32\n",
       "12     1004      7          358.45\n",
       "13     1004      8          334.86\n",
       "14     1004      9          284.60"
      ]
     },
     "metadata": {},
     "output_type": "display_data"
    }
   ],
   "source": [
    "# Calcula la cantidad de minutos usados por cada usuario al mes. Guarda el resultado.\n",
    "\n",
    "min_month =merged_user_info.groupby(['user_id','month'])['duration'].sum().reset_index(name='calls_duration')\n",
    "\n",
    "display(min_month.head(15))\n"
   ]
  },
  {
   "cell_type": "code",
   "execution_count": 26,
   "metadata": {
    "id": "CcQvNHn60q1G"
   },
   "outputs": [
    {
     "data": {
      "text/html": [
       "<div>\n",
       "<style scoped>\n",
       "    .dataframe tbody tr th:only-of-type {\n",
       "        vertical-align: middle;\n",
       "    }\n",
       "\n",
       "    .dataframe tbody tr th {\n",
       "        vertical-align: top;\n",
       "    }\n",
       "\n",
       "    .dataframe thead th {\n",
       "        text-align: right;\n",
       "    }\n",
       "</style>\n",
       "<table border=\"1\" class=\"dataframe\">\n",
       "  <thead>\n",
       "    <tr style=\"text-align: right;\">\n",
       "      <th></th>\n",
       "      <th>user_id</th>\n",
       "      <th>month</th>\n",
       "      <th>messages_per_month</th>\n",
       "    </tr>\n",
       "  </thead>\n",
       "  <tbody>\n",
       "    <tr>\n",
       "      <th>0</th>\n",
       "      <td>1000</td>\n",
       "      <td>12</td>\n",
       "      <td>11</td>\n",
       "    </tr>\n",
       "    <tr>\n",
       "      <th>1</th>\n",
       "      <td>1001</td>\n",
       "      <td>8</td>\n",
       "      <td>30</td>\n",
       "    </tr>\n",
       "    <tr>\n",
       "      <th>2</th>\n",
       "      <td>1001</td>\n",
       "      <td>9</td>\n",
       "      <td>44</td>\n",
       "    </tr>\n",
       "    <tr>\n",
       "      <th>3</th>\n",
       "      <td>1001</td>\n",
       "      <td>10</td>\n",
       "      <td>53</td>\n",
       "    </tr>\n",
       "    <tr>\n",
       "      <th>4</th>\n",
       "      <td>1001</td>\n",
       "      <td>11</td>\n",
       "      <td>36</td>\n",
       "    </tr>\n",
       "    <tr>\n",
       "      <th>5</th>\n",
       "      <td>1001</td>\n",
       "      <td>12</td>\n",
       "      <td>44</td>\n",
       "    </tr>\n",
       "    <tr>\n",
       "      <th>6</th>\n",
       "      <td>1002</td>\n",
       "      <td>10</td>\n",
       "      <td>15</td>\n",
       "    </tr>\n",
       "    <tr>\n",
       "      <th>7</th>\n",
       "      <td>1002</td>\n",
       "      <td>11</td>\n",
       "      <td>32</td>\n",
       "    </tr>\n",
       "    <tr>\n",
       "      <th>8</th>\n",
       "      <td>1002</td>\n",
       "      <td>12</td>\n",
       "      <td>41</td>\n",
       "    </tr>\n",
       "    <tr>\n",
       "      <th>9</th>\n",
       "      <td>1003</td>\n",
       "      <td>12</td>\n",
       "      <td>50</td>\n",
       "    </tr>\n",
       "    <tr>\n",
       "      <th>10</th>\n",
       "      <td>1004</td>\n",
       "      <td>5</td>\n",
       "      <td>7</td>\n",
       "    </tr>\n",
       "    <tr>\n",
       "      <th>11</th>\n",
       "      <td>1004</td>\n",
       "      <td>6</td>\n",
       "      <td>18</td>\n",
       "    </tr>\n",
       "    <tr>\n",
       "      <th>12</th>\n",
       "      <td>1004</td>\n",
       "      <td>7</td>\n",
       "      <td>26</td>\n",
       "    </tr>\n",
       "    <tr>\n",
       "      <th>13</th>\n",
       "      <td>1004</td>\n",
       "      <td>8</td>\n",
       "      <td>25</td>\n",
       "    </tr>\n",
       "    <tr>\n",
       "      <th>14</th>\n",
       "      <td>1004</td>\n",
       "      <td>9</td>\n",
       "      <td>21</td>\n",
       "    </tr>\n",
       "  </tbody>\n",
       "</table>\n",
       "</div>"
      ],
      "text/plain": [
       "    user_id  month  messages_per_month\n",
       "0      1000     12                  11\n",
       "1      1001      8                  30\n",
       "2      1001      9                  44\n",
       "3      1001     10                  53\n",
       "4      1001     11                  36\n",
       "5      1001     12                  44\n",
       "6      1002     10                  15\n",
       "7      1002     11                  32\n",
       "8      1002     12                  41\n",
       "9      1003     12                  50\n",
       "10     1004      5                   7\n",
       "11     1004      6                  18\n",
       "12     1004      7                  26\n",
       "13     1004      8                  25\n",
       "14     1004      9                  21"
      ]
     },
     "metadata": {},
     "output_type": "display_data"
    }
   ],
   "source": [
    "# Calcula el número de mensajes enviados por cada usuario al mes. Guarda el resultado.\n",
    "\n",
    "merged_message_info = pd.merge(messages, users, on='user_id', how='left')\n",
    "\n",
    "message_month = merged_message_info.groupby(['user_id', 'month'])['user_id'].count().reset_index(name = 'messages_per_month')\n",
    "\n",
    "display(message_month.head(15))\n"
   ]
  },
  {
   "cell_type": "code",
   "execution_count": 27,
   "metadata": {
    "id": "H1AqN2eG0q1H"
   },
   "outputs": [
    {
     "data": {
      "text/html": [
       "<div>\n",
       "<style scoped>\n",
       "    .dataframe tbody tr th:only-of-type {\n",
       "        vertical-align: middle;\n",
       "    }\n",
       "\n",
       "    .dataframe tbody tr th {\n",
       "        vertical-align: top;\n",
       "    }\n",
       "\n",
       "    .dataframe thead th {\n",
       "        text-align: right;\n",
       "    }\n",
       "</style>\n",
       "<table border=\"1\" class=\"dataframe\">\n",
       "  <thead>\n",
       "    <tr style=\"text-align: right;\">\n",
       "      <th></th>\n",
       "      <th>user_id</th>\n",
       "      <th>month</th>\n",
       "      <th>mb_used_per_month</th>\n",
       "      <th>gb_used_per_month</th>\n",
       "    </tr>\n",
       "  </thead>\n",
       "  <tbody>\n",
       "    <tr>\n",
       "      <th>0</th>\n",
       "      <td>1000</td>\n",
       "      <td>12</td>\n",
       "      <td>1901.47</td>\n",
       "      <td>2</td>\n",
       "    </tr>\n",
       "    <tr>\n",
       "      <th>1</th>\n",
       "      <td>1001</td>\n",
       "      <td>8</td>\n",
       "      <td>6919.15</td>\n",
       "      <td>7</td>\n",
       "    </tr>\n",
       "    <tr>\n",
       "      <th>2</th>\n",
       "      <td>1001</td>\n",
       "      <td>9</td>\n",
       "      <td>13314.82</td>\n",
       "      <td>14</td>\n",
       "    </tr>\n",
       "    <tr>\n",
       "      <th>3</th>\n",
       "      <td>1001</td>\n",
       "      <td>10</td>\n",
       "      <td>22330.49</td>\n",
       "      <td>22</td>\n",
       "    </tr>\n",
       "    <tr>\n",
       "      <th>4</th>\n",
       "      <td>1001</td>\n",
       "      <td>11</td>\n",
       "      <td>18504.30</td>\n",
       "      <td>19</td>\n",
       "    </tr>\n",
       "    <tr>\n",
       "      <th>5</th>\n",
       "      <td>1001</td>\n",
       "      <td>12</td>\n",
       "      <td>19369.18</td>\n",
       "      <td>19</td>\n",
       "    </tr>\n",
       "    <tr>\n",
       "      <th>6</th>\n",
       "      <td>1002</td>\n",
       "      <td>10</td>\n",
       "      <td>6552.01</td>\n",
       "      <td>7</td>\n",
       "    </tr>\n",
       "    <tr>\n",
       "      <th>7</th>\n",
       "      <td>1002</td>\n",
       "      <td>11</td>\n",
       "      <td>19345.08</td>\n",
       "      <td>19</td>\n",
       "    </tr>\n",
       "    <tr>\n",
       "      <th>8</th>\n",
       "      <td>1002</td>\n",
       "      <td>12</td>\n",
       "      <td>14396.24</td>\n",
       "      <td>15</td>\n",
       "    </tr>\n",
       "    <tr>\n",
       "      <th>9</th>\n",
       "      <td>1003</td>\n",
       "      <td>12</td>\n",
       "      <td>27044.14</td>\n",
       "      <td>27</td>\n",
       "    </tr>\n",
       "    <tr>\n",
       "      <th>10</th>\n",
       "      <td>1004</td>\n",
       "      <td>5</td>\n",
       "      <td>6547.21</td>\n",
       "      <td>7</td>\n",
       "    </tr>\n",
       "    <tr>\n",
       "      <th>11</th>\n",
       "      <td>1004</td>\n",
       "      <td>6</td>\n",
       "      <td>20672.82</td>\n",
       "      <td>21</td>\n",
       "    </tr>\n",
       "    <tr>\n",
       "      <th>12</th>\n",
       "      <td>1004</td>\n",
       "      <td>7</td>\n",
       "      <td>24516.62</td>\n",
       "      <td>24</td>\n",
       "    </tr>\n",
       "    <tr>\n",
       "      <th>13</th>\n",
       "      <td>1004</td>\n",
       "      <td>8</td>\n",
       "      <td>27981.74</td>\n",
       "      <td>28</td>\n",
       "    </tr>\n",
       "    <tr>\n",
       "      <th>14</th>\n",
       "      <td>1004</td>\n",
       "      <td>9</td>\n",
       "      <td>18852.72</td>\n",
       "      <td>19</td>\n",
       "    </tr>\n",
       "  </tbody>\n",
       "</table>\n",
       "</div>"
      ],
      "text/plain": [
       "    user_id  month  mb_used_per_month  gb_used_per_month\n",
       "0      1000     12            1901.47                  2\n",
       "1      1001      8            6919.15                  7\n",
       "2      1001      9           13314.82                 14\n",
       "3      1001     10           22330.49                 22\n",
       "4      1001     11           18504.30                 19\n",
       "5      1001     12           19369.18                 19\n",
       "6      1002     10            6552.01                  7\n",
       "7      1002     11           19345.08                 19\n",
       "8      1002     12           14396.24                 15\n",
       "9      1003     12           27044.14                 27\n",
       "10     1004      5            6547.21                  7\n",
       "11     1004      6           20672.82                 21\n",
       "12     1004      7           24516.62                 24\n",
       "13     1004      8           27981.74                 28\n",
       "14     1004      9           18852.72                 19"
      ]
     },
     "metadata": {},
     "output_type": "display_data"
    }
   ],
   "source": [
    "# Calcula el volumen del tráfico de Internet usado por cada usuario al mes. Guarda el resultado.\n",
    "\n",
    "internet['month'] = internet['session_date'].dt.month\n",
    "\n",
    "merged_internet_info = pd.merge(internet, users, on = 'user_id', how = 'left')\n",
    "\n",
    "internet_month = merged_internet_info.groupby(['user_id', 'month'])['mb_used'].sum().reset_index(name = 'mb_used_per_month')\n",
    "\n",
    "internet_month['gb_used_per_month'] = internet_month['mb_used_per_month'] / 1024\n",
    "internet_month['gb_used_per_month'] = np.ceil(internet_month['gb_used_per_month'])\n",
    "internet.drop('mb_used', axis =1 , inplace= True)\n",
    "\n",
    "internet_month['gb_used_per_month'] = internet_month['gb_used_per_month'].astype('int')\n",
    "\n",
    "\n",
    "\n",
    "display(internet_month.head(15))"
   ]
  },
  {
   "cell_type": "markdown",
   "metadata": {
    "id": "VDfYXnj80q1H"
   },
   "source": [
    "[Junta los datos agregados en un DataFrame para que haya un registro que represente lo que consumió un usuario único en un mes determinado.]"
   ]
  },
  {
   "cell_type": "code",
   "execution_count": 28,
   "metadata": {
    "id": "FW99ykyf0q1H"
   },
   "outputs": [
    {
     "data": {
      "text/html": [
       "<div>\n",
       "<style scoped>\n",
       "    .dataframe tbody tr th:only-of-type {\n",
       "        vertical-align: middle;\n",
       "    }\n",
       "\n",
       "    .dataframe tbody tr th {\n",
       "        vertical-align: top;\n",
       "    }\n",
       "\n",
       "    .dataframe thead th {\n",
       "        text-align: right;\n",
       "    }\n",
       "</style>\n",
       "<table border=\"1\" class=\"dataframe\">\n",
       "  <thead>\n",
       "    <tr style=\"text-align: right;\">\n",
       "      <th></th>\n",
       "      <th>user_id</th>\n",
       "      <th>month</th>\n",
       "      <th>calls_made</th>\n",
       "      <th>calls_duration</th>\n",
       "      <th>messages_per_month</th>\n",
       "      <th>mb_used_per_month</th>\n",
       "      <th>gb_used_per_month</th>\n",
       "    </tr>\n",
       "  </thead>\n",
       "  <tbody>\n",
       "    <tr>\n",
       "      <th>0</th>\n",
       "      <td>1000</td>\n",
       "      <td>12</td>\n",
       "      <td>16.0</td>\n",
       "      <td>116.83</td>\n",
       "      <td>11.0</td>\n",
       "      <td>1901.47</td>\n",
       "      <td>2.0</td>\n",
       "    </tr>\n",
       "    <tr>\n",
       "      <th>1</th>\n",
       "      <td>1001</td>\n",
       "      <td>8</td>\n",
       "      <td>27.0</td>\n",
       "      <td>171.14</td>\n",
       "      <td>30.0</td>\n",
       "      <td>6919.15</td>\n",
       "      <td>7.0</td>\n",
       "    </tr>\n",
       "    <tr>\n",
       "      <th>2</th>\n",
       "      <td>1001</td>\n",
       "      <td>9</td>\n",
       "      <td>49.0</td>\n",
       "      <td>297.69</td>\n",
       "      <td>44.0</td>\n",
       "      <td>13314.82</td>\n",
       "      <td>14.0</td>\n",
       "    </tr>\n",
       "    <tr>\n",
       "      <th>3</th>\n",
       "      <td>1001</td>\n",
       "      <td>10</td>\n",
       "      <td>65.0</td>\n",
       "      <td>374.11</td>\n",
       "      <td>53.0</td>\n",
       "      <td>22330.49</td>\n",
       "      <td>22.0</td>\n",
       "    </tr>\n",
       "    <tr>\n",
       "      <th>4</th>\n",
       "      <td>1001</td>\n",
       "      <td>11</td>\n",
       "      <td>64.0</td>\n",
       "      <td>404.59</td>\n",
       "      <td>36.0</td>\n",
       "      <td>18504.30</td>\n",
       "      <td>19.0</td>\n",
       "    </tr>\n",
       "    <tr>\n",
       "      <th>5</th>\n",
       "      <td>1001</td>\n",
       "      <td>12</td>\n",
       "      <td>56.0</td>\n",
       "      <td>392.93</td>\n",
       "      <td>44.0</td>\n",
       "      <td>19369.18</td>\n",
       "      <td>19.0</td>\n",
       "    </tr>\n",
       "    <tr>\n",
       "      <th>6</th>\n",
       "      <td>1002</td>\n",
       "      <td>10</td>\n",
       "      <td>11.0</td>\n",
       "      <td>54.13</td>\n",
       "      <td>15.0</td>\n",
       "      <td>6552.01</td>\n",
       "      <td>7.0</td>\n",
       "    </tr>\n",
       "    <tr>\n",
       "      <th>7</th>\n",
       "      <td>1002</td>\n",
       "      <td>11</td>\n",
       "      <td>55.0</td>\n",
       "      <td>359.76</td>\n",
       "      <td>32.0</td>\n",
       "      <td>19345.08</td>\n",
       "      <td>19.0</td>\n",
       "    </tr>\n",
       "    <tr>\n",
       "      <th>8</th>\n",
       "      <td>1002</td>\n",
       "      <td>12</td>\n",
       "      <td>47.0</td>\n",
       "      <td>363.24</td>\n",
       "      <td>41.0</td>\n",
       "      <td>14396.24</td>\n",
       "      <td>15.0</td>\n",
       "    </tr>\n",
       "    <tr>\n",
       "      <th>9</th>\n",
       "      <td>1003</td>\n",
       "      <td>12</td>\n",
       "      <td>149.0</td>\n",
       "      <td>1041.00</td>\n",
       "      <td>50.0</td>\n",
       "      <td>27044.14</td>\n",
       "      <td>27.0</td>\n",
       "    </tr>\n",
       "    <tr>\n",
       "      <th>10</th>\n",
       "      <td>1004</td>\n",
       "      <td>5</td>\n",
       "      <td>21.0</td>\n",
       "      <td>181.58</td>\n",
       "      <td>7.0</td>\n",
       "      <td>6547.21</td>\n",
       "      <td>7.0</td>\n",
       "    </tr>\n",
       "    <tr>\n",
       "      <th>11</th>\n",
       "      <td>1004</td>\n",
       "      <td>6</td>\n",
       "      <td>44.0</td>\n",
       "      <td>261.32</td>\n",
       "      <td>18.0</td>\n",
       "      <td>20672.82</td>\n",
       "      <td>21.0</td>\n",
       "    </tr>\n",
       "    <tr>\n",
       "      <th>12</th>\n",
       "      <td>1004</td>\n",
       "      <td>7</td>\n",
       "      <td>49.0</td>\n",
       "      <td>358.45</td>\n",
       "      <td>26.0</td>\n",
       "      <td>24516.62</td>\n",
       "      <td>24.0</td>\n",
       "    </tr>\n",
       "    <tr>\n",
       "      <th>13</th>\n",
       "      <td>1004</td>\n",
       "      <td>8</td>\n",
       "      <td>49.0</td>\n",
       "      <td>334.86</td>\n",
       "      <td>25.0</td>\n",
       "      <td>27981.74</td>\n",
       "      <td>28.0</td>\n",
       "    </tr>\n",
       "    <tr>\n",
       "      <th>14</th>\n",
       "      <td>1004</td>\n",
       "      <td>9</td>\n",
       "      <td>42.0</td>\n",
       "      <td>284.60</td>\n",
       "      <td>21.0</td>\n",
       "      <td>18852.72</td>\n",
       "      <td>19.0</td>\n",
       "    </tr>\n",
       "  </tbody>\n",
       "</table>\n",
       "</div>"
      ],
      "text/plain": [
       "    user_id  month  calls_made  calls_duration  messages_per_month  \\\n",
       "0      1000     12        16.0          116.83                11.0   \n",
       "1      1001      8        27.0          171.14                30.0   \n",
       "2      1001      9        49.0          297.69                44.0   \n",
       "3      1001     10        65.0          374.11                53.0   \n",
       "4      1001     11        64.0          404.59                36.0   \n",
       "5      1001     12        56.0          392.93                44.0   \n",
       "6      1002     10        11.0           54.13                15.0   \n",
       "7      1002     11        55.0          359.76                32.0   \n",
       "8      1002     12        47.0          363.24                41.0   \n",
       "9      1003     12       149.0         1041.00                50.0   \n",
       "10     1004      5        21.0          181.58                 7.0   \n",
       "11     1004      6        44.0          261.32                18.0   \n",
       "12     1004      7        49.0          358.45                26.0   \n",
       "13     1004      8        49.0          334.86                25.0   \n",
       "14     1004      9        42.0          284.60                21.0   \n",
       "\n",
       "    mb_used_per_month  gb_used_per_month  \n",
       "0             1901.47                2.0  \n",
       "1             6919.15                7.0  \n",
       "2            13314.82               14.0  \n",
       "3            22330.49               22.0  \n",
       "4            18504.30               19.0  \n",
       "5            19369.18               19.0  \n",
       "6             6552.01                7.0  \n",
       "7            19345.08               19.0  \n",
       "8            14396.24               15.0  \n",
       "9            27044.14               27.0  \n",
       "10            6547.21                7.0  \n",
       "11           20672.82               21.0  \n",
       "12           24516.62               24.0  \n",
       "13           27981.74               28.0  \n",
       "14           18852.72               19.0  "
      ]
     },
     "metadata": {},
     "output_type": "display_data"
    }
   ],
   "source": [
    "# Fusiona los datos de llamadas, minutos, mensajes e Internet con base en user_id y month\n",
    "\n",
    "#fusionar llamadas y minutos\n",
    "\n",
    "month_data_users = pd.merge(calls_month, min_month, on=['user_id', 'month'], how = 'outer')\n",
    "\n",
    "#fusionar merged_data con messages\n",
    "\n",
    "month_data_users = pd.merge(month_data_users, message_month, on=['user_id', 'month'], how = 'outer')\n",
    "\n",
    "#Fusionar lo anterior con el internet\n",
    "\n",
    "month_data_users = pd.merge(month_data_users, internet_month, on=['user_id', 'month'], how = 'outer')\n",
    "\n",
    "display(month_data_users.head(15))\n"
   ]
  },
  {
   "cell_type": "code",
   "execution_count": 29,
   "metadata": {
    "id": "0dNOXHag0q1H"
   },
   "outputs": [
    {
     "data": {
      "text/html": [
       "<div>\n",
       "<style scoped>\n",
       "    .dataframe tbody tr th:only-of-type {\n",
       "        vertical-align: middle;\n",
       "    }\n",
       "\n",
       "    .dataframe tbody tr th {\n",
       "        vertical-align: top;\n",
       "    }\n",
       "\n",
       "    .dataframe thead th {\n",
       "        text-align: right;\n",
       "    }\n",
       "</style>\n",
       "<table border=\"1\" class=\"dataframe\">\n",
       "  <thead>\n",
       "    <tr style=\"text-align: right;\">\n",
       "      <th></th>\n",
       "      <th>user_id</th>\n",
       "      <th>month</th>\n",
       "      <th>calls_made</th>\n",
       "      <th>calls_duration</th>\n",
       "      <th>messages_per_month</th>\n",
       "      <th>mb_used_per_month</th>\n",
       "      <th>gb_used_per_month</th>\n",
       "      <th>first_name</th>\n",
       "      <th>last_name</th>\n",
       "      <th>age</th>\n",
       "      <th>...</th>\n",
       "      <th>plan</th>\n",
       "      <th>churn_date</th>\n",
       "      <th>messages_included</th>\n",
       "      <th>minutes_included</th>\n",
       "      <th>usd_monthly_pay</th>\n",
       "      <th>usd_per_gb</th>\n",
       "      <th>usd_per_message</th>\n",
       "      <th>usd_per_minute</th>\n",
       "      <th>plan_name</th>\n",
       "      <th>gb_per_month_included</th>\n",
       "    </tr>\n",
       "  </thead>\n",
       "  <tbody>\n",
       "    <tr>\n",
       "      <th>0</th>\n",
       "      <td>1000</td>\n",
       "      <td>12.0</td>\n",
       "      <td>16.0</td>\n",
       "      <td>116.83</td>\n",
       "      <td>11.0</td>\n",
       "      <td>1901.47</td>\n",
       "      <td>2.0</td>\n",
       "      <td>Anamaria</td>\n",
       "      <td>Bauer</td>\n",
       "      <td>45</td>\n",
       "      <td>...</td>\n",
       "      <td>ultimate</td>\n",
       "      <td>1970-01-01</td>\n",
       "      <td>1000</td>\n",
       "      <td>3000</td>\n",
       "      <td>70</td>\n",
       "      <td>7</td>\n",
       "      <td>0.01</td>\n",
       "      <td>0.01</td>\n",
       "      <td>ultimate</td>\n",
       "      <td>30.0</td>\n",
       "    </tr>\n",
       "    <tr>\n",
       "      <th>1</th>\n",
       "      <td>1001</td>\n",
       "      <td>8.0</td>\n",
       "      <td>27.0</td>\n",
       "      <td>171.14</td>\n",
       "      <td>30.0</td>\n",
       "      <td>6919.15</td>\n",
       "      <td>7.0</td>\n",
       "      <td>Mickey</td>\n",
       "      <td>Wilkerson</td>\n",
       "      <td>28</td>\n",
       "      <td>...</td>\n",
       "      <td>surf</td>\n",
       "      <td>1970-01-01</td>\n",
       "      <td>50</td>\n",
       "      <td>500</td>\n",
       "      <td>20</td>\n",
       "      <td>10</td>\n",
       "      <td>0.03</td>\n",
       "      <td>0.03</td>\n",
       "      <td>surf</td>\n",
       "      <td>15.0</td>\n",
       "    </tr>\n",
       "    <tr>\n",
       "      <th>2</th>\n",
       "      <td>1001</td>\n",
       "      <td>9.0</td>\n",
       "      <td>49.0</td>\n",
       "      <td>297.69</td>\n",
       "      <td>44.0</td>\n",
       "      <td>13314.82</td>\n",
       "      <td>14.0</td>\n",
       "      <td>Mickey</td>\n",
       "      <td>Wilkerson</td>\n",
       "      <td>28</td>\n",
       "      <td>...</td>\n",
       "      <td>surf</td>\n",
       "      <td>1970-01-01</td>\n",
       "      <td>50</td>\n",
       "      <td>500</td>\n",
       "      <td>20</td>\n",
       "      <td>10</td>\n",
       "      <td>0.03</td>\n",
       "      <td>0.03</td>\n",
       "      <td>surf</td>\n",
       "      <td>15.0</td>\n",
       "    </tr>\n",
       "    <tr>\n",
       "      <th>3</th>\n",
       "      <td>1001</td>\n",
       "      <td>10.0</td>\n",
       "      <td>65.0</td>\n",
       "      <td>374.11</td>\n",
       "      <td>53.0</td>\n",
       "      <td>22330.49</td>\n",
       "      <td>22.0</td>\n",
       "      <td>Mickey</td>\n",
       "      <td>Wilkerson</td>\n",
       "      <td>28</td>\n",
       "      <td>...</td>\n",
       "      <td>surf</td>\n",
       "      <td>1970-01-01</td>\n",
       "      <td>50</td>\n",
       "      <td>500</td>\n",
       "      <td>20</td>\n",
       "      <td>10</td>\n",
       "      <td>0.03</td>\n",
       "      <td>0.03</td>\n",
       "      <td>surf</td>\n",
       "      <td>15.0</td>\n",
       "    </tr>\n",
       "    <tr>\n",
       "      <th>4</th>\n",
       "      <td>1001</td>\n",
       "      <td>11.0</td>\n",
       "      <td>64.0</td>\n",
       "      <td>404.59</td>\n",
       "      <td>36.0</td>\n",
       "      <td>18504.30</td>\n",
       "      <td>19.0</td>\n",
       "      <td>Mickey</td>\n",
       "      <td>Wilkerson</td>\n",
       "      <td>28</td>\n",
       "      <td>...</td>\n",
       "      <td>surf</td>\n",
       "      <td>1970-01-01</td>\n",
       "      <td>50</td>\n",
       "      <td>500</td>\n",
       "      <td>20</td>\n",
       "      <td>10</td>\n",
       "      <td>0.03</td>\n",
       "      <td>0.03</td>\n",
       "      <td>surf</td>\n",
       "      <td>15.0</td>\n",
       "    </tr>\n",
       "    <tr>\n",
       "      <th>5</th>\n",
       "      <td>1001</td>\n",
       "      <td>12.0</td>\n",
       "      <td>56.0</td>\n",
       "      <td>392.93</td>\n",
       "      <td>44.0</td>\n",
       "      <td>19369.18</td>\n",
       "      <td>19.0</td>\n",
       "      <td>Mickey</td>\n",
       "      <td>Wilkerson</td>\n",
       "      <td>28</td>\n",
       "      <td>...</td>\n",
       "      <td>surf</td>\n",
       "      <td>1970-01-01</td>\n",
       "      <td>50</td>\n",
       "      <td>500</td>\n",
       "      <td>20</td>\n",
       "      <td>10</td>\n",
       "      <td>0.03</td>\n",
       "      <td>0.03</td>\n",
       "      <td>surf</td>\n",
       "      <td>15.0</td>\n",
       "    </tr>\n",
       "    <tr>\n",
       "      <th>6</th>\n",
       "      <td>1002</td>\n",
       "      <td>10.0</td>\n",
       "      <td>11.0</td>\n",
       "      <td>54.13</td>\n",
       "      <td>15.0</td>\n",
       "      <td>6552.01</td>\n",
       "      <td>7.0</td>\n",
       "      <td>Carlee</td>\n",
       "      <td>Hoffman</td>\n",
       "      <td>36</td>\n",
       "      <td>...</td>\n",
       "      <td>surf</td>\n",
       "      <td>1970-01-01</td>\n",
       "      <td>50</td>\n",
       "      <td>500</td>\n",
       "      <td>20</td>\n",
       "      <td>10</td>\n",
       "      <td>0.03</td>\n",
       "      <td>0.03</td>\n",
       "      <td>surf</td>\n",
       "      <td>15.0</td>\n",
       "    </tr>\n",
       "    <tr>\n",
       "      <th>7</th>\n",
       "      <td>1002</td>\n",
       "      <td>11.0</td>\n",
       "      <td>55.0</td>\n",
       "      <td>359.76</td>\n",
       "      <td>32.0</td>\n",
       "      <td>19345.08</td>\n",
       "      <td>19.0</td>\n",
       "      <td>Carlee</td>\n",
       "      <td>Hoffman</td>\n",
       "      <td>36</td>\n",
       "      <td>...</td>\n",
       "      <td>surf</td>\n",
       "      <td>1970-01-01</td>\n",
       "      <td>50</td>\n",
       "      <td>500</td>\n",
       "      <td>20</td>\n",
       "      <td>10</td>\n",
       "      <td>0.03</td>\n",
       "      <td>0.03</td>\n",
       "      <td>surf</td>\n",
       "      <td>15.0</td>\n",
       "    </tr>\n",
       "    <tr>\n",
       "      <th>8</th>\n",
       "      <td>1002</td>\n",
       "      <td>12.0</td>\n",
       "      <td>47.0</td>\n",
       "      <td>363.24</td>\n",
       "      <td>41.0</td>\n",
       "      <td>14396.24</td>\n",
       "      <td>15.0</td>\n",
       "      <td>Carlee</td>\n",
       "      <td>Hoffman</td>\n",
       "      <td>36</td>\n",
       "      <td>...</td>\n",
       "      <td>surf</td>\n",
       "      <td>1970-01-01</td>\n",
       "      <td>50</td>\n",
       "      <td>500</td>\n",
       "      <td>20</td>\n",
       "      <td>10</td>\n",
       "      <td>0.03</td>\n",
       "      <td>0.03</td>\n",
       "      <td>surf</td>\n",
       "      <td>15.0</td>\n",
       "    </tr>\n",
       "    <tr>\n",
       "      <th>9</th>\n",
       "      <td>1003</td>\n",
       "      <td>12.0</td>\n",
       "      <td>149.0</td>\n",
       "      <td>1041.00</td>\n",
       "      <td>50.0</td>\n",
       "      <td>27044.14</td>\n",
       "      <td>27.0</td>\n",
       "      <td>Reynaldo</td>\n",
       "      <td>Jenkins</td>\n",
       "      <td>52</td>\n",
       "      <td>...</td>\n",
       "      <td>surf</td>\n",
       "      <td>1970-01-01</td>\n",
       "      <td>50</td>\n",
       "      <td>500</td>\n",
       "      <td>20</td>\n",
       "      <td>10</td>\n",
       "      <td>0.03</td>\n",
       "      <td>0.03</td>\n",
       "      <td>surf</td>\n",
       "      <td>15.0</td>\n",
       "    </tr>\n",
       "    <tr>\n",
       "      <th>10</th>\n",
       "      <td>1004</td>\n",
       "      <td>5.0</td>\n",
       "      <td>21.0</td>\n",
       "      <td>181.58</td>\n",
       "      <td>7.0</td>\n",
       "      <td>6547.21</td>\n",
       "      <td>7.0</td>\n",
       "      <td>Leonila</td>\n",
       "      <td>Thompson</td>\n",
       "      <td>40</td>\n",
       "      <td>...</td>\n",
       "      <td>surf</td>\n",
       "      <td>1970-01-01</td>\n",
       "      <td>50</td>\n",
       "      <td>500</td>\n",
       "      <td>20</td>\n",
       "      <td>10</td>\n",
       "      <td>0.03</td>\n",
       "      <td>0.03</td>\n",
       "      <td>surf</td>\n",
       "      <td>15.0</td>\n",
       "    </tr>\n",
       "    <tr>\n",
       "      <th>11</th>\n",
       "      <td>1004</td>\n",
       "      <td>6.0</td>\n",
       "      <td>44.0</td>\n",
       "      <td>261.32</td>\n",
       "      <td>18.0</td>\n",
       "      <td>20672.82</td>\n",
       "      <td>21.0</td>\n",
       "      <td>Leonila</td>\n",
       "      <td>Thompson</td>\n",
       "      <td>40</td>\n",
       "      <td>...</td>\n",
       "      <td>surf</td>\n",
       "      <td>1970-01-01</td>\n",
       "      <td>50</td>\n",
       "      <td>500</td>\n",
       "      <td>20</td>\n",
       "      <td>10</td>\n",
       "      <td>0.03</td>\n",
       "      <td>0.03</td>\n",
       "      <td>surf</td>\n",
       "      <td>15.0</td>\n",
       "    </tr>\n",
       "    <tr>\n",
       "      <th>12</th>\n",
       "      <td>1004</td>\n",
       "      <td>7.0</td>\n",
       "      <td>49.0</td>\n",
       "      <td>358.45</td>\n",
       "      <td>26.0</td>\n",
       "      <td>24516.62</td>\n",
       "      <td>24.0</td>\n",
       "      <td>Leonila</td>\n",
       "      <td>Thompson</td>\n",
       "      <td>40</td>\n",
       "      <td>...</td>\n",
       "      <td>surf</td>\n",
       "      <td>1970-01-01</td>\n",
       "      <td>50</td>\n",
       "      <td>500</td>\n",
       "      <td>20</td>\n",
       "      <td>10</td>\n",
       "      <td>0.03</td>\n",
       "      <td>0.03</td>\n",
       "      <td>surf</td>\n",
       "      <td>15.0</td>\n",
       "    </tr>\n",
       "    <tr>\n",
       "      <th>13</th>\n",
       "      <td>1004</td>\n",
       "      <td>8.0</td>\n",
       "      <td>49.0</td>\n",
       "      <td>334.86</td>\n",
       "      <td>25.0</td>\n",
       "      <td>27981.74</td>\n",
       "      <td>28.0</td>\n",
       "      <td>Leonila</td>\n",
       "      <td>Thompson</td>\n",
       "      <td>40</td>\n",
       "      <td>...</td>\n",
       "      <td>surf</td>\n",
       "      <td>1970-01-01</td>\n",
       "      <td>50</td>\n",
       "      <td>500</td>\n",
       "      <td>20</td>\n",
       "      <td>10</td>\n",
       "      <td>0.03</td>\n",
       "      <td>0.03</td>\n",
       "      <td>surf</td>\n",
       "      <td>15.0</td>\n",
       "    </tr>\n",
       "    <tr>\n",
       "      <th>14</th>\n",
       "      <td>1004</td>\n",
       "      <td>9.0</td>\n",
       "      <td>42.0</td>\n",
       "      <td>284.60</td>\n",
       "      <td>21.0</td>\n",
       "      <td>18852.72</td>\n",
       "      <td>19.0</td>\n",
       "      <td>Leonila</td>\n",
       "      <td>Thompson</td>\n",
       "      <td>40</td>\n",
       "      <td>...</td>\n",
       "      <td>surf</td>\n",
       "      <td>1970-01-01</td>\n",
       "      <td>50</td>\n",
       "      <td>500</td>\n",
       "      <td>20</td>\n",
       "      <td>10</td>\n",
       "      <td>0.03</td>\n",
       "      <td>0.03</td>\n",
       "      <td>surf</td>\n",
       "      <td>15.0</td>\n",
       "    </tr>\n",
       "  </tbody>\n",
       "</table>\n",
       "<p>15 rows × 22 columns</p>\n",
       "</div>"
      ],
      "text/plain": [
       "    user_id  month  calls_made  calls_duration  messages_per_month  \\\n",
       "0      1000   12.0        16.0          116.83                11.0   \n",
       "1      1001    8.0        27.0          171.14                30.0   \n",
       "2      1001    9.0        49.0          297.69                44.0   \n",
       "3      1001   10.0        65.0          374.11                53.0   \n",
       "4      1001   11.0        64.0          404.59                36.0   \n",
       "5      1001   12.0        56.0          392.93                44.0   \n",
       "6      1002   10.0        11.0           54.13                15.0   \n",
       "7      1002   11.0        55.0          359.76                32.0   \n",
       "8      1002   12.0        47.0          363.24                41.0   \n",
       "9      1003   12.0       149.0         1041.00                50.0   \n",
       "10     1004    5.0        21.0          181.58                 7.0   \n",
       "11     1004    6.0        44.0          261.32                18.0   \n",
       "12     1004    7.0        49.0          358.45                26.0   \n",
       "13     1004    8.0        49.0          334.86                25.0   \n",
       "14     1004    9.0        42.0          284.60                21.0   \n",
       "\n",
       "    mb_used_per_month  gb_used_per_month first_name  last_name  age  ...  \\\n",
       "0             1901.47                2.0   Anamaria      Bauer   45  ...   \n",
       "1             6919.15                7.0     Mickey  Wilkerson   28  ...   \n",
       "2            13314.82               14.0     Mickey  Wilkerson   28  ...   \n",
       "3            22330.49               22.0     Mickey  Wilkerson   28  ...   \n",
       "4            18504.30               19.0     Mickey  Wilkerson   28  ...   \n",
       "5            19369.18               19.0     Mickey  Wilkerson   28  ...   \n",
       "6             6552.01                7.0     Carlee    Hoffman   36  ...   \n",
       "7            19345.08               19.0     Carlee    Hoffman   36  ...   \n",
       "8            14396.24               15.0     Carlee    Hoffman   36  ...   \n",
       "9            27044.14               27.0   Reynaldo    Jenkins   52  ...   \n",
       "10            6547.21                7.0    Leonila   Thompson   40  ...   \n",
       "11           20672.82               21.0    Leonila   Thompson   40  ...   \n",
       "12           24516.62               24.0    Leonila   Thompson   40  ...   \n",
       "13           27981.74               28.0    Leonila   Thompson   40  ...   \n",
       "14           18852.72               19.0    Leonila   Thompson   40  ...   \n",
       "\n",
       "        plan churn_date messages_included minutes_included  usd_monthly_pay  \\\n",
       "0   ultimate 1970-01-01              1000             3000               70   \n",
       "1       surf 1970-01-01                50              500               20   \n",
       "2       surf 1970-01-01                50              500               20   \n",
       "3       surf 1970-01-01                50              500               20   \n",
       "4       surf 1970-01-01                50              500               20   \n",
       "5       surf 1970-01-01                50              500               20   \n",
       "6       surf 1970-01-01                50              500               20   \n",
       "7       surf 1970-01-01                50              500               20   \n",
       "8       surf 1970-01-01                50              500               20   \n",
       "9       surf 1970-01-01                50              500               20   \n",
       "10      surf 1970-01-01                50              500               20   \n",
       "11      surf 1970-01-01                50              500               20   \n",
       "12      surf 1970-01-01                50              500               20   \n",
       "13      surf 1970-01-01                50              500               20   \n",
       "14      surf 1970-01-01                50              500               20   \n",
       "\n",
       "    usd_per_gb  usd_per_message  usd_per_minute  plan_name  \\\n",
       "0            7             0.01            0.01   ultimate   \n",
       "1           10             0.03            0.03       surf   \n",
       "2           10             0.03            0.03       surf   \n",
       "3           10             0.03            0.03       surf   \n",
       "4           10             0.03            0.03       surf   \n",
       "5           10             0.03            0.03       surf   \n",
       "6           10             0.03            0.03       surf   \n",
       "7           10             0.03            0.03       surf   \n",
       "8           10             0.03            0.03       surf   \n",
       "9           10             0.03            0.03       surf   \n",
       "10          10             0.03            0.03       surf   \n",
       "11          10             0.03            0.03       surf   \n",
       "12          10             0.03            0.03       surf   \n",
       "13          10             0.03            0.03       surf   \n",
       "14          10             0.03            0.03       surf   \n",
       "\n",
       "    gb_per_month_included  \n",
       "0                    30.0  \n",
       "1                    15.0  \n",
       "2                    15.0  \n",
       "3                    15.0  \n",
       "4                    15.0  \n",
       "5                    15.0  \n",
       "6                    15.0  \n",
       "7                    15.0  \n",
       "8                    15.0  \n",
       "9                    15.0  \n",
       "10                   15.0  \n",
       "11                   15.0  \n",
       "12                   15.0  \n",
       "13                   15.0  \n",
       "14                   15.0  \n",
       "\n",
       "[15 rows x 22 columns]"
      ]
     },
     "metadata": {},
     "output_type": "display_data"
    }
   ],
   "source": [
    "# Añade la información de la tarifa\n",
    "\n",
    "plan_used = pd.merge(users, plans, left_on='plan', right_on='plan_name', how='left')\n",
    "\n",
    "month_data_users = pd.merge(month_data_users, plan_used, on=['user_id'], how = 'outer')\n",
    "\n",
    "\n",
    "\n",
    "\n",
    "display(month_data_users.head(15))"
   ]
  },
  {
   "cell_type": "markdown",
   "metadata": {
    "id": "1IwGo4wg0q1I"
   },
   "source": [
    "[Calcula los ingresos mensuales por usuario (resta el límite del paquete gratuito del número total de llamadas, mensajes de texto y datos; multiplica el resultado por el valor del plan de llamadas; añade la tarifa mensual en función del plan de llamadas). Nota: Dadas las condiciones del plan, ¡esto podría no ser tan trivial como un par de líneas! Así que no pasa nada si dedicas algo de tiempo a ello.]"
   ]
  },
  {
   "cell_type": "code",
   "execution_count": 30,
   "metadata": {
    "id": "5FGCf_c60q1I"
   },
   "outputs": [
    {
     "data": {
      "text/html": [
       "<div>\n",
       "<style scoped>\n",
       "    .dataframe tbody tr th:only-of-type {\n",
       "        vertical-align: middle;\n",
       "    }\n",
       "\n",
       "    .dataframe tbody tr th {\n",
       "        vertical-align: top;\n",
       "    }\n",
       "\n",
       "    .dataframe thead th {\n",
       "        text-align: right;\n",
       "    }\n",
       "</style>\n",
       "<table border=\"1\" class=\"dataframe\">\n",
       "  <thead>\n",
       "    <tr style=\"text-align: right;\">\n",
       "      <th></th>\n",
       "      <th>user_id</th>\n",
       "      <th>month</th>\n",
       "      <th>calls_made</th>\n",
       "      <th>calls_duration</th>\n",
       "      <th>messages_per_month</th>\n",
       "      <th>mb_used_per_month</th>\n",
       "      <th>gb_used_per_month</th>\n",
       "      <th>first_name</th>\n",
       "      <th>last_name</th>\n",
       "      <th>age</th>\n",
       "      <th>...</th>\n",
       "      <th>usd_monthly_pay</th>\n",
       "      <th>usd_per_gb</th>\n",
       "      <th>usd_per_message</th>\n",
       "      <th>usd_per_minute</th>\n",
       "      <th>plan_name</th>\n",
       "      <th>gb_per_month_included</th>\n",
       "      <th>dif_minutes</th>\n",
       "      <th>dif_messages</th>\n",
       "      <th>dif_gb</th>\n",
       "      <th>total_extra_cost</th>\n",
       "    </tr>\n",
       "  </thead>\n",
       "  <tbody>\n",
       "    <tr>\n",
       "      <th>0</th>\n",
       "      <td>1000</td>\n",
       "      <td>12.0</td>\n",
       "      <td>16.0</td>\n",
       "      <td>116.83</td>\n",
       "      <td>11.0</td>\n",
       "      <td>1901.47</td>\n",
       "      <td>2.0</td>\n",
       "      <td>Anamaria</td>\n",
       "      <td>Bauer</td>\n",
       "      <td>45</td>\n",
       "      <td>...</td>\n",
       "      <td>70</td>\n",
       "      <td>7</td>\n",
       "      <td>0.01</td>\n",
       "      <td>0.01</td>\n",
       "      <td>ultimate</td>\n",
       "      <td>30.0</td>\n",
       "      <td>0.0</td>\n",
       "      <td>0.0</td>\n",
       "      <td>0.0</td>\n",
       "      <td>0.00</td>\n",
       "    </tr>\n",
       "    <tr>\n",
       "      <th>1</th>\n",
       "      <td>1001</td>\n",
       "      <td>8.0</td>\n",
       "      <td>27.0</td>\n",
       "      <td>171.14</td>\n",
       "      <td>30.0</td>\n",
       "      <td>6919.15</td>\n",
       "      <td>7.0</td>\n",
       "      <td>Mickey</td>\n",
       "      <td>Wilkerson</td>\n",
       "      <td>28</td>\n",
       "      <td>...</td>\n",
       "      <td>20</td>\n",
       "      <td>10</td>\n",
       "      <td>0.03</td>\n",
       "      <td>0.03</td>\n",
       "      <td>surf</td>\n",
       "      <td>15.0</td>\n",
       "      <td>0.0</td>\n",
       "      <td>0.0</td>\n",
       "      <td>0.0</td>\n",
       "      <td>0.00</td>\n",
       "    </tr>\n",
       "    <tr>\n",
       "      <th>2</th>\n",
       "      <td>1001</td>\n",
       "      <td>9.0</td>\n",
       "      <td>49.0</td>\n",
       "      <td>297.69</td>\n",
       "      <td>44.0</td>\n",
       "      <td>13314.82</td>\n",
       "      <td>14.0</td>\n",
       "      <td>Mickey</td>\n",
       "      <td>Wilkerson</td>\n",
       "      <td>28</td>\n",
       "      <td>...</td>\n",
       "      <td>20</td>\n",
       "      <td>10</td>\n",
       "      <td>0.03</td>\n",
       "      <td>0.03</td>\n",
       "      <td>surf</td>\n",
       "      <td>15.0</td>\n",
       "      <td>0.0</td>\n",
       "      <td>0.0</td>\n",
       "      <td>0.0</td>\n",
       "      <td>0.00</td>\n",
       "    </tr>\n",
       "    <tr>\n",
       "      <th>3</th>\n",
       "      <td>1001</td>\n",
       "      <td>10.0</td>\n",
       "      <td>65.0</td>\n",
       "      <td>374.11</td>\n",
       "      <td>53.0</td>\n",
       "      <td>22330.49</td>\n",
       "      <td>22.0</td>\n",
       "      <td>Mickey</td>\n",
       "      <td>Wilkerson</td>\n",
       "      <td>28</td>\n",
       "      <td>...</td>\n",
       "      <td>20</td>\n",
       "      <td>10</td>\n",
       "      <td>0.03</td>\n",
       "      <td>0.03</td>\n",
       "      <td>surf</td>\n",
       "      <td>15.0</td>\n",
       "      <td>0.0</td>\n",
       "      <td>3.0</td>\n",
       "      <td>7.0</td>\n",
       "      <td>70.09</td>\n",
       "    </tr>\n",
       "    <tr>\n",
       "      <th>4</th>\n",
       "      <td>1001</td>\n",
       "      <td>11.0</td>\n",
       "      <td>64.0</td>\n",
       "      <td>404.59</td>\n",
       "      <td>36.0</td>\n",
       "      <td>18504.30</td>\n",
       "      <td>19.0</td>\n",
       "      <td>Mickey</td>\n",
       "      <td>Wilkerson</td>\n",
       "      <td>28</td>\n",
       "      <td>...</td>\n",
       "      <td>20</td>\n",
       "      <td>10</td>\n",
       "      <td>0.03</td>\n",
       "      <td>0.03</td>\n",
       "      <td>surf</td>\n",
       "      <td>15.0</td>\n",
       "      <td>0.0</td>\n",
       "      <td>0.0</td>\n",
       "      <td>4.0</td>\n",
       "      <td>40.00</td>\n",
       "    </tr>\n",
       "    <tr>\n",
       "      <th>5</th>\n",
       "      <td>1001</td>\n",
       "      <td>12.0</td>\n",
       "      <td>56.0</td>\n",
       "      <td>392.93</td>\n",
       "      <td>44.0</td>\n",
       "      <td>19369.18</td>\n",
       "      <td>19.0</td>\n",
       "      <td>Mickey</td>\n",
       "      <td>Wilkerson</td>\n",
       "      <td>28</td>\n",
       "      <td>...</td>\n",
       "      <td>20</td>\n",
       "      <td>10</td>\n",
       "      <td>0.03</td>\n",
       "      <td>0.03</td>\n",
       "      <td>surf</td>\n",
       "      <td>15.0</td>\n",
       "      <td>0.0</td>\n",
       "      <td>0.0</td>\n",
       "      <td>4.0</td>\n",
       "      <td>40.00</td>\n",
       "    </tr>\n",
       "    <tr>\n",
       "      <th>6</th>\n",
       "      <td>1002</td>\n",
       "      <td>10.0</td>\n",
       "      <td>11.0</td>\n",
       "      <td>54.13</td>\n",
       "      <td>15.0</td>\n",
       "      <td>6552.01</td>\n",
       "      <td>7.0</td>\n",
       "      <td>Carlee</td>\n",
       "      <td>Hoffman</td>\n",
       "      <td>36</td>\n",
       "      <td>...</td>\n",
       "      <td>20</td>\n",
       "      <td>10</td>\n",
       "      <td>0.03</td>\n",
       "      <td>0.03</td>\n",
       "      <td>surf</td>\n",
       "      <td>15.0</td>\n",
       "      <td>0.0</td>\n",
       "      <td>0.0</td>\n",
       "      <td>0.0</td>\n",
       "      <td>0.00</td>\n",
       "    </tr>\n",
       "    <tr>\n",
       "      <th>7</th>\n",
       "      <td>1002</td>\n",
       "      <td>11.0</td>\n",
       "      <td>55.0</td>\n",
       "      <td>359.76</td>\n",
       "      <td>32.0</td>\n",
       "      <td>19345.08</td>\n",
       "      <td>19.0</td>\n",
       "      <td>Carlee</td>\n",
       "      <td>Hoffman</td>\n",
       "      <td>36</td>\n",
       "      <td>...</td>\n",
       "      <td>20</td>\n",
       "      <td>10</td>\n",
       "      <td>0.03</td>\n",
       "      <td>0.03</td>\n",
       "      <td>surf</td>\n",
       "      <td>15.0</td>\n",
       "      <td>0.0</td>\n",
       "      <td>0.0</td>\n",
       "      <td>4.0</td>\n",
       "      <td>40.00</td>\n",
       "    </tr>\n",
       "    <tr>\n",
       "      <th>8</th>\n",
       "      <td>1002</td>\n",
       "      <td>12.0</td>\n",
       "      <td>47.0</td>\n",
       "      <td>363.24</td>\n",
       "      <td>41.0</td>\n",
       "      <td>14396.24</td>\n",
       "      <td>15.0</td>\n",
       "      <td>Carlee</td>\n",
       "      <td>Hoffman</td>\n",
       "      <td>36</td>\n",
       "      <td>...</td>\n",
       "      <td>20</td>\n",
       "      <td>10</td>\n",
       "      <td>0.03</td>\n",
       "      <td>0.03</td>\n",
       "      <td>surf</td>\n",
       "      <td>15.0</td>\n",
       "      <td>0.0</td>\n",
       "      <td>0.0</td>\n",
       "      <td>0.0</td>\n",
       "      <td>0.00</td>\n",
       "    </tr>\n",
       "    <tr>\n",
       "      <th>9</th>\n",
       "      <td>1003</td>\n",
       "      <td>12.0</td>\n",
       "      <td>149.0</td>\n",
       "      <td>1041.00</td>\n",
       "      <td>50.0</td>\n",
       "      <td>27044.14</td>\n",
       "      <td>27.0</td>\n",
       "      <td>Reynaldo</td>\n",
       "      <td>Jenkins</td>\n",
       "      <td>52</td>\n",
       "      <td>...</td>\n",
       "      <td>20</td>\n",
       "      <td>10</td>\n",
       "      <td>0.03</td>\n",
       "      <td>0.03</td>\n",
       "      <td>surf</td>\n",
       "      <td>15.0</td>\n",
       "      <td>541.0</td>\n",
       "      <td>0.0</td>\n",
       "      <td>12.0</td>\n",
       "      <td>136.23</td>\n",
       "    </tr>\n",
       "    <tr>\n",
       "      <th>10</th>\n",
       "      <td>1004</td>\n",
       "      <td>5.0</td>\n",
       "      <td>21.0</td>\n",
       "      <td>181.58</td>\n",
       "      <td>7.0</td>\n",
       "      <td>6547.21</td>\n",
       "      <td>7.0</td>\n",
       "      <td>Leonila</td>\n",
       "      <td>Thompson</td>\n",
       "      <td>40</td>\n",
       "      <td>...</td>\n",
       "      <td>20</td>\n",
       "      <td>10</td>\n",
       "      <td>0.03</td>\n",
       "      <td>0.03</td>\n",
       "      <td>surf</td>\n",
       "      <td>15.0</td>\n",
       "      <td>0.0</td>\n",
       "      <td>0.0</td>\n",
       "      <td>0.0</td>\n",
       "      <td>0.00</td>\n",
       "    </tr>\n",
       "    <tr>\n",
       "      <th>11</th>\n",
       "      <td>1004</td>\n",
       "      <td>6.0</td>\n",
       "      <td>44.0</td>\n",
       "      <td>261.32</td>\n",
       "      <td>18.0</td>\n",
       "      <td>20672.82</td>\n",
       "      <td>21.0</td>\n",
       "      <td>Leonila</td>\n",
       "      <td>Thompson</td>\n",
       "      <td>40</td>\n",
       "      <td>...</td>\n",
       "      <td>20</td>\n",
       "      <td>10</td>\n",
       "      <td>0.03</td>\n",
       "      <td>0.03</td>\n",
       "      <td>surf</td>\n",
       "      <td>15.0</td>\n",
       "      <td>0.0</td>\n",
       "      <td>0.0</td>\n",
       "      <td>6.0</td>\n",
       "      <td>60.00</td>\n",
       "    </tr>\n",
       "    <tr>\n",
       "      <th>12</th>\n",
       "      <td>1004</td>\n",
       "      <td>7.0</td>\n",
       "      <td>49.0</td>\n",
       "      <td>358.45</td>\n",
       "      <td>26.0</td>\n",
       "      <td>24516.62</td>\n",
       "      <td>24.0</td>\n",
       "      <td>Leonila</td>\n",
       "      <td>Thompson</td>\n",
       "      <td>40</td>\n",
       "      <td>...</td>\n",
       "      <td>20</td>\n",
       "      <td>10</td>\n",
       "      <td>0.03</td>\n",
       "      <td>0.03</td>\n",
       "      <td>surf</td>\n",
       "      <td>15.0</td>\n",
       "      <td>0.0</td>\n",
       "      <td>0.0</td>\n",
       "      <td>9.0</td>\n",
       "      <td>90.00</td>\n",
       "    </tr>\n",
       "    <tr>\n",
       "      <th>13</th>\n",
       "      <td>1004</td>\n",
       "      <td>8.0</td>\n",
       "      <td>49.0</td>\n",
       "      <td>334.86</td>\n",
       "      <td>25.0</td>\n",
       "      <td>27981.74</td>\n",
       "      <td>28.0</td>\n",
       "      <td>Leonila</td>\n",
       "      <td>Thompson</td>\n",
       "      <td>40</td>\n",
       "      <td>...</td>\n",
       "      <td>20</td>\n",
       "      <td>10</td>\n",
       "      <td>0.03</td>\n",
       "      <td>0.03</td>\n",
       "      <td>surf</td>\n",
       "      <td>15.0</td>\n",
       "      <td>0.0</td>\n",
       "      <td>0.0</td>\n",
       "      <td>13.0</td>\n",
       "      <td>130.00</td>\n",
       "    </tr>\n",
       "    <tr>\n",
       "      <th>14</th>\n",
       "      <td>1004</td>\n",
       "      <td>9.0</td>\n",
       "      <td>42.0</td>\n",
       "      <td>284.60</td>\n",
       "      <td>21.0</td>\n",
       "      <td>18852.72</td>\n",
       "      <td>19.0</td>\n",
       "      <td>Leonila</td>\n",
       "      <td>Thompson</td>\n",
       "      <td>40</td>\n",
       "      <td>...</td>\n",
       "      <td>20</td>\n",
       "      <td>10</td>\n",
       "      <td>0.03</td>\n",
       "      <td>0.03</td>\n",
       "      <td>surf</td>\n",
       "      <td>15.0</td>\n",
       "      <td>0.0</td>\n",
       "      <td>0.0</td>\n",
       "      <td>4.0</td>\n",
       "      <td>40.00</td>\n",
       "    </tr>\n",
       "  </tbody>\n",
       "</table>\n",
       "<p>15 rows × 26 columns</p>\n",
       "</div>"
      ],
      "text/plain": [
       "    user_id  month  calls_made  calls_duration  messages_per_month  \\\n",
       "0      1000   12.0        16.0          116.83                11.0   \n",
       "1      1001    8.0        27.0          171.14                30.0   \n",
       "2      1001    9.0        49.0          297.69                44.0   \n",
       "3      1001   10.0        65.0          374.11                53.0   \n",
       "4      1001   11.0        64.0          404.59                36.0   \n",
       "5      1001   12.0        56.0          392.93                44.0   \n",
       "6      1002   10.0        11.0           54.13                15.0   \n",
       "7      1002   11.0        55.0          359.76                32.0   \n",
       "8      1002   12.0        47.0          363.24                41.0   \n",
       "9      1003   12.0       149.0         1041.00                50.0   \n",
       "10     1004    5.0        21.0          181.58                 7.0   \n",
       "11     1004    6.0        44.0          261.32                18.0   \n",
       "12     1004    7.0        49.0          358.45                26.0   \n",
       "13     1004    8.0        49.0          334.86                25.0   \n",
       "14     1004    9.0        42.0          284.60                21.0   \n",
       "\n",
       "    mb_used_per_month  gb_used_per_month first_name  last_name  age  ...  \\\n",
       "0             1901.47                2.0   Anamaria      Bauer   45  ...   \n",
       "1             6919.15                7.0     Mickey  Wilkerson   28  ...   \n",
       "2            13314.82               14.0     Mickey  Wilkerson   28  ...   \n",
       "3            22330.49               22.0     Mickey  Wilkerson   28  ...   \n",
       "4            18504.30               19.0     Mickey  Wilkerson   28  ...   \n",
       "5            19369.18               19.0     Mickey  Wilkerson   28  ...   \n",
       "6             6552.01                7.0     Carlee    Hoffman   36  ...   \n",
       "7            19345.08               19.0     Carlee    Hoffman   36  ...   \n",
       "8            14396.24               15.0     Carlee    Hoffman   36  ...   \n",
       "9            27044.14               27.0   Reynaldo    Jenkins   52  ...   \n",
       "10            6547.21                7.0    Leonila   Thompson   40  ...   \n",
       "11           20672.82               21.0    Leonila   Thompson   40  ...   \n",
       "12           24516.62               24.0    Leonila   Thompson   40  ...   \n",
       "13           27981.74               28.0    Leonila   Thompson   40  ...   \n",
       "14           18852.72               19.0    Leonila   Thompson   40  ...   \n",
       "\n",
       "   usd_monthly_pay usd_per_gb usd_per_message usd_per_minute  plan_name  \\\n",
       "0               70          7            0.01           0.01   ultimate   \n",
       "1               20         10            0.03           0.03       surf   \n",
       "2               20         10            0.03           0.03       surf   \n",
       "3               20         10            0.03           0.03       surf   \n",
       "4               20         10            0.03           0.03       surf   \n",
       "5               20         10            0.03           0.03       surf   \n",
       "6               20         10            0.03           0.03       surf   \n",
       "7               20         10            0.03           0.03       surf   \n",
       "8               20         10            0.03           0.03       surf   \n",
       "9               20         10            0.03           0.03       surf   \n",
       "10              20         10            0.03           0.03       surf   \n",
       "11              20         10            0.03           0.03       surf   \n",
       "12              20         10            0.03           0.03       surf   \n",
       "13              20         10            0.03           0.03       surf   \n",
       "14              20         10            0.03           0.03       surf   \n",
       "\n",
       "    gb_per_month_included  dif_minutes  dif_messages  dif_gb  total_extra_cost  \n",
       "0                    30.0          0.0           0.0     0.0              0.00  \n",
       "1                    15.0          0.0           0.0     0.0              0.00  \n",
       "2                    15.0          0.0           0.0     0.0              0.00  \n",
       "3                    15.0          0.0           3.0     7.0             70.09  \n",
       "4                    15.0          0.0           0.0     4.0             40.00  \n",
       "5                    15.0          0.0           0.0     4.0             40.00  \n",
       "6                    15.0          0.0           0.0     0.0              0.00  \n",
       "7                    15.0          0.0           0.0     4.0             40.00  \n",
       "8                    15.0          0.0           0.0     0.0              0.00  \n",
       "9                    15.0        541.0           0.0    12.0            136.23  \n",
       "10                   15.0          0.0           0.0     0.0              0.00  \n",
       "11                   15.0          0.0           0.0     6.0             60.00  \n",
       "12                   15.0          0.0           0.0     9.0             90.00  \n",
       "13                   15.0          0.0           0.0    13.0            130.00  \n",
       "14                   15.0          0.0           0.0     4.0             40.00  \n",
       "\n",
       "[15 rows x 26 columns]"
      ]
     },
     "metadata": {},
     "output_type": "display_data"
    },
    {
     "data": {
      "text/html": [
       "<div>\n",
       "<style scoped>\n",
       "    .dataframe tbody tr th:only-of-type {\n",
       "        vertical-align: middle;\n",
       "    }\n",
       "\n",
       "    .dataframe tbody tr th {\n",
       "        vertical-align: top;\n",
       "    }\n",
       "\n",
       "    .dataframe thead th {\n",
       "        text-align: right;\n",
       "    }\n",
       "</style>\n",
       "<table border=\"1\" class=\"dataframe\">\n",
       "  <thead>\n",
       "    <tr style=\"text-align: right;\">\n",
       "      <th></th>\n",
       "      <th>user_id</th>\n",
       "      <th>month</th>\n",
       "      <th>calls_made</th>\n",
       "      <th>calls_duration</th>\n",
       "      <th>messages_per_month</th>\n",
       "      <th>mb_used_per_month</th>\n",
       "      <th>gb_used_per_month</th>\n",
       "      <th>first_name</th>\n",
       "      <th>last_name</th>\n",
       "      <th>age</th>\n",
       "      <th>...</th>\n",
       "      <th>usd_per_gb</th>\n",
       "      <th>usd_per_message</th>\n",
       "      <th>usd_per_minute</th>\n",
       "      <th>plan_name</th>\n",
       "      <th>gb_per_month_included</th>\n",
       "      <th>dif_minutes</th>\n",
       "      <th>dif_messages</th>\n",
       "      <th>dif_gb</th>\n",
       "      <th>total_extra_cost</th>\n",
       "      <th>total_plan</th>\n",
       "    </tr>\n",
       "  </thead>\n",
       "  <tbody>\n",
       "    <tr>\n",
       "      <th>0</th>\n",
       "      <td>1000</td>\n",
       "      <td>12.0</td>\n",
       "      <td>16.0</td>\n",
       "      <td>116.83</td>\n",
       "      <td>11.0</td>\n",
       "      <td>1901.47</td>\n",
       "      <td>2.0</td>\n",
       "      <td>Anamaria</td>\n",
       "      <td>Bauer</td>\n",
       "      <td>45</td>\n",
       "      <td>...</td>\n",
       "      <td>7</td>\n",
       "      <td>0.01</td>\n",
       "      <td>0.01</td>\n",
       "      <td>ultimate</td>\n",
       "      <td>30.0</td>\n",
       "      <td>0.0</td>\n",
       "      <td>0.0</td>\n",
       "      <td>0.0</td>\n",
       "      <td>0.00</td>\n",
       "      <td>70.00</td>\n",
       "    </tr>\n",
       "    <tr>\n",
       "      <th>1</th>\n",
       "      <td>1001</td>\n",
       "      <td>8.0</td>\n",
       "      <td>27.0</td>\n",
       "      <td>171.14</td>\n",
       "      <td>30.0</td>\n",
       "      <td>6919.15</td>\n",
       "      <td>7.0</td>\n",
       "      <td>Mickey</td>\n",
       "      <td>Wilkerson</td>\n",
       "      <td>28</td>\n",
       "      <td>...</td>\n",
       "      <td>10</td>\n",
       "      <td>0.03</td>\n",
       "      <td>0.03</td>\n",
       "      <td>surf</td>\n",
       "      <td>15.0</td>\n",
       "      <td>0.0</td>\n",
       "      <td>0.0</td>\n",
       "      <td>0.0</td>\n",
       "      <td>0.00</td>\n",
       "      <td>20.00</td>\n",
       "    </tr>\n",
       "    <tr>\n",
       "      <th>2</th>\n",
       "      <td>1001</td>\n",
       "      <td>9.0</td>\n",
       "      <td>49.0</td>\n",
       "      <td>297.69</td>\n",
       "      <td>44.0</td>\n",
       "      <td>13314.82</td>\n",
       "      <td>14.0</td>\n",
       "      <td>Mickey</td>\n",
       "      <td>Wilkerson</td>\n",
       "      <td>28</td>\n",
       "      <td>...</td>\n",
       "      <td>10</td>\n",
       "      <td>0.03</td>\n",
       "      <td>0.03</td>\n",
       "      <td>surf</td>\n",
       "      <td>15.0</td>\n",
       "      <td>0.0</td>\n",
       "      <td>0.0</td>\n",
       "      <td>0.0</td>\n",
       "      <td>0.00</td>\n",
       "      <td>20.00</td>\n",
       "    </tr>\n",
       "    <tr>\n",
       "      <th>3</th>\n",
       "      <td>1001</td>\n",
       "      <td>10.0</td>\n",
       "      <td>65.0</td>\n",
       "      <td>374.11</td>\n",
       "      <td>53.0</td>\n",
       "      <td>22330.49</td>\n",
       "      <td>22.0</td>\n",
       "      <td>Mickey</td>\n",
       "      <td>Wilkerson</td>\n",
       "      <td>28</td>\n",
       "      <td>...</td>\n",
       "      <td>10</td>\n",
       "      <td>0.03</td>\n",
       "      <td>0.03</td>\n",
       "      <td>surf</td>\n",
       "      <td>15.0</td>\n",
       "      <td>0.0</td>\n",
       "      <td>3.0</td>\n",
       "      <td>7.0</td>\n",
       "      <td>70.09</td>\n",
       "      <td>90.09</td>\n",
       "    </tr>\n",
       "    <tr>\n",
       "      <th>4</th>\n",
       "      <td>1001</td>\n",
       "      <td>11.0</td>\n",
       "      <td>64.0</td>\n",
       "      <td>404.59</td>\n",
       "      <td>36.0</td>\n",
       "      <td>18504.30</td>\n",
       "      <td>19.0</td>\n",
       "      <td>Mickey</td>\n",
       "      <td>Wilkerson</td>\n",
       "      <td>28</td>\n",
       "      <td>...</td>\n",
       "      <td>10</td>\n",
       "      <td>0.03</td>\n",
       "      <td>0.03</td>\n",
       "      <td>surf</td>\n",
       "      <td>15.0</td>\n",
       "      <td>0.0</td>\n",
       "      <td>0.0</td>\n",
       "      <td>4.0</td>\n",
       "      <td>40.00</td>\n",
       "      <td>60.00</td>\n",
       "    </tr>\n",
       "    <tr>\n",
       "      <th>5</th>\n",
       "      <td>1001</td>\n",
       "      <td>12.0</td>\n",
       "      <td>56.0</td>\n",
       "      <td>392.93</td>\n",
       "      <td>44.0</td>\n",
       "      <td>19369.18</td>\n",
       "      <td>19.0</td>\n",
       "      <td>Mickey</td>\n",
       "      <td>Wilkerson</td>\n",
       "      <td>28</td>\n",
       "      <td>...</td>\n",
       "      <td>10</td>\n",
       "      <td>0.03</td>\n",
       "      <td>0.03</td>\n",
       "      <td>surf</td>\n",
       "      <td>15.0</td>\n",
       "      <td>0.0</td>\n",
       "      <td>0.0</td>\n",
       "      <td>4.0</td>\n",
       "      <td>40.00</td>\n",
       "      <td>60.00</td>\n",
       "    </tr>\n",
       "    <tr>\n",
       "      <th>6</th>\n",
       "      <td>1002</td>\n",
       "      <td>10.0</td>\n",
       "      <td>11.0</td>\n",
       "      <td>54.13</td>\n",
       "      <td>15.0</td>\n",
       "      <td>6552.01</td>\n",
       "      <td>7.0</td>\n",
       "      <td>Carlee</td>\n",
       "      <td>Hoffman</td>\n",
       "      <td>36</td>\n",
       "      <td>...</td>\n",
       "      <td>10</td>\n",
       "      <td>0.03</td>\n",
       "      <td>0.03</td>\n",
       "      <td>surf</td>\n",
       "      <td>15.0</td>\n",
       "      <td>0.0</td>\n",
       "      <td>0.0</td>\n",
       "      <td>0.0</td>\n",
       "      <td>0.00</td>\n",
       "      <td>20.00</td>\n",
       "    </tr>\n",
       "    <tr>\n",
       "      <th>7</th>\n",
       "      <td>1002</td>\n",
       "      <td>11.0</td>\n",
       "      <td>55.0</td>\n",
       "      <td>359.76</td>\n",
       "      <td>32.0</td>\n",
       "      <td>19345.08</td>\n",
       "      <td>19.0</td>\n",
       "      <td>Carlee</td>\n",
       "      <td>Hoffman</td>\n",
       "      <td>36</td>\n",
       "      <td>...</td>\n",
       "      <td>10</td>\n",
       "      <td>0.03</td>\n",
       "      <td>0.03</td>\n",
       "      <td>surf</td>\n",
       "      <td>15.0</td>\n",
       "      <td>0.0</td>\n",
       "      <td>0.0</td>\n",
       "      <td>4.0</td>\n",
       "      <td>40.00</td>\n",
       "      <td>60.00</td>\n",
       "    </tr>\n",
       "    <tr>\n",
       "      <th>8</th>\n",
       "      <td>1002</td>\n",
       "      <td>12.0</td>\n",
       "      <td>47.0</td>\n",
       "      <td>363.24</td>\n",
       "      <td>41.0</td>\n",
       "      <td>14396.24</td>\n",
       "      <td>15.0</td>\n",
       "      <td>Carlee</td>\n",
       "      <td>Hoffman</td>\n",
       "      <td>36</td>\n",
       "      <td>...</td>\n",
       "      <td>10</td>\n",
       "      <td>0.03</td>\n",
       "      <td>0.03</td>\n",
       "      <td>surf</td>\n",
       "      <td>15.0</td>\n",
       "      <td>0.0</td>\n",
       "      <td>0.0</td>\n",
       "      <td>0.0</td>\n",
       "      <td>0.00</td>\n",
       "      <td>20.00</td>\n",
       "    </tr>\n",
       "    <tr>\n",
       "      <th>9</th>\n",
       "      <td>1003</td>\n",
       "      <td>12.0</td>\n",
       "      <td>149.0</td>\n",
       "      <td>1041.00</td>\n",
       "      <td>50.0</td>\n",
       "      <td>27044.14</td>\n",
       "      <td>27.0</td>\n",
       "      <td>Reynaldo</td>\n",
       "      <td>Jenkins</td>\n",
       "      <td>52</td>\n",
       "      <td>...</td>\n",
       "      <td>10</td>\n",
       "      <td>0.03</td>\n",
       "      <td>0.03</td>\n",
       "      <td>surf</td>\n",
       "      <td>15.0</td>\n",
       "      <td>541.0</td>\n",
       "      <td>0.0</td>\n",
       "      <td>12.0</td>\n",
       "      <td>136.23</td>\n",
       "      <td>156.23</td>\n",
       "    </tr>\n",
       "    <tr>\n",
       "      <th>10</th>\n",
       "      <td>1004</td>\n",
       "      <td>5.0</td>\n",
       "      <td>21.0</td>\n",
       "      <td>181.58</td>\n",
       "      <td>7.0</td>\n",
       "      <td>6547.21</td>\n",
       "      <td>7.0</td>\n",
       "      <td>Leonila</td>\n",
       "      <td>Thompson</td>\n",
       "      <td>40</td>\n",
       "      <td>...</td>\n",
       "      <td>10</td>\n",
       "      <td>0.03</td>\n",
       "      <td>0.03</td>\n",
       "      <td>surf</td>\n",
       "      <td>15.0</td>\n",
       "      <td>0.0</td>\n",
       "      <td>0.0</td>\n",
       "      <td>0.0</td>\n",
       "      <td>0.00</td>\n",
       "      <td>20.00</td>\n",
       "    </tr>\n",
       "    <tr>\n",
       "      <th>11</th>\n",
       "      <td>1004</td>\n",
       "      <td>6.0</td>\n",
       "      <td>44.0</td>\n",
       "      <td>261.32</td>\n",
       "      <td>18.0</td>\n",
       "      <td>20672.82</td>\n",
       "      <td>21.0</td>\n",
       "      <td>Leonila</td>\n",
       "      <td>Thompson</td>\n",
       "      <td>40</td>\n",
       "      <td>...</td>\n",
       "      <td>10</td>\n",
       "      <td>0.03</td>\n",
       "      <td>0.03</td>\n",
       "      <td>surf</td>\n",
       "      <td>15.0</td>\n",
       "      <td>0.0</td>\n",
       "      <td>0.0</td>\n",
       "      <td>6.0</td>\n",
       "      <td>60.00</td>\n",
       "      <td>80.00</td>\n",
       "    </tr>\n",
       "    <tr>\n",
       "      <th>12</th>\n",
       "      <td>1004</td>\n",
       "      <td>7.0</td>\n",
       "      <td>49.0</td>\n",
       "      <td>358.45</td>\n",
       "      <td>26.0</td>\n",
       "      <td>24516.62</td>\n",
       "      <td>24.0</td>\n",
       "      <td>Leonila</td>\n",
       "      <td>Thompson</td>\n",
       "      <td>40</td>\n",
       "      <td>...</td>\n",
       "      <td>10</td>\n",
       "      <td>0.03</td>\n",
       "      <td>0.03</td>\n",
       "      <td>surf</td>\n",
       "      <td>15.0</td>\n",
       "      <td>0.0</td>\n",
       "      <td>0.0</td>\n",
       "      <td>9.0</td>\n",
       "      <td>90.00</td>\n",
       "      <td>110.00</td>\n",
       "    </tr>\n",
       "    <tr>\n",
       "      <th>13</th>\n",
       "      <td>1004</td>\n",
       "      <td>8.0</td>\n",
       "      <td>49.0</td>\n",
       "      <td>334.86</td>\n",
       "      <td>25.0</td>\n",
       "      <td>27981.74</td>\n",
       "      <td>28.0</td>\n",
       "      <td>Leonila</td>\n",
       "      <td>Thompson</td>\n",
       "      <td>40</td>\n",
       "      <td>...</td>\n",
       "      <td>10</td>\n",
       "      <td>0.03</td>\n",
       "      <td>0.03</td>\n",
       "      <td>surf</td>\n",
       "      <td>15.0</td>\n",
       "      <td>0.0</td>\n",
       "      <td>0.0</td>\n",
       "      <td>13.0</td>\n",
       "      <td>130.00</td>\n",
       "      <td>150.00</td>\n",
       "    </tr>\n",
       "    <tr>\n",
       "      <th>14</th>\n",
       "      <td>1004</td>\n",
       "      <td>9.0</td>\n",
       "      <td>42.0</td>\n",
       "      <td>284.60</td>\n",
       "      <td>21.0</td>\n",
       "      <td>18852.72</td>\n",
       "      <td>19.0</td>\n",
       "      <td>Leonila</td>\n",
       "      <td>Thompson</td>\n",
       "      <td>40</td>\n",
       "      <td>...</td>\n",
       "      <td>10</td>\n",
       "      <td>0.03</td>\n",
       "      <td>0.03</td>\n",
       "      <td>surf</td>\n",
       "      <td>15.0</td>\n",
       "      <td>0.0</td>\n",
       "      <td>0.0</td>\n",
       "      <td>4.0</td>\n",
       "      <td>40.00</td>\n",
       "      <td>60.00</td>\n",
       "    </tr>\n",
       "  </tbody>\n",
       "</table>\n",
       "<p>15 rows × 27 columns</p>\n",
       "</div>"
      ],
      "text/plain": [
       "    user_id  month  calls_made  calls_duration  messages_per_month  \\\n",
       "0      1000   12.0        16.0          116.83                11.0   \n",
       "1      1001    8.0        27.0          171.14                30.0   \n",
       "2      1001    9.0        49.0          297.69                44.0   \n",
       "3      1001   10.0        65.0          374.11                53.0   \n",
       "4      1001   11.0        64.0          404.59                36.0   \n",
       "5      1001   12.0        56.0          392.93                44.0   \n",
       "6      1002   10.0        11.0           54.13                15.0   \n",
       "7      1002   11.0        55.0          359.76                32.0   \n",
       "8      1002   12.0        47.0          363.24                41.0   \n",
       "9      1003   12.0       149.0         1041.00                50.0   \n",
       "10     1004    5.0        21.0          181.58                 7.0   \n",
       "11     1004    6.0        44.0          261.32                18.0   \n",
       "12     1004    7.0        49.0          358.45                26.0   \n",
       "13     1004    8.0        49.0          334.86                25.0   \n",
       "14     1004    9.0        42.0          284.60                21.0   \n",
       "\n",
       "    mb_used_per_month  gb_used_per_month first_name  last_name  age  ...  \\\n",
       "0             1901.47                2.0   Anamaria      Bauer   45  ...   \n",
       "1             6919.15                7.0     Mickey  Wilkerson   28  ...   \n",
       "2            13314.82               14.0     Mickey  Wilkerson   28  ...   \n",
       "3            22330.49               22.0     Mickey  Wilkerson   28  ...   \n",
       "4            18504.30               19.0     Mickey  Wilkerson   28  ...   \n",
       "5            19369.18               19.0     Mickey  Wilkerson   28  ...   \n",
       "6             6552.01                7.0     Carlee    Hoffman   36  ...   \n",
       "7            19345.08               19.0     Carlee    Hoffman   36  ...   \n",
       "8            14396.24               15.0     Carlee    Hoffman   36  ...   \n",
       "9            27044.14               27.0   Reynaldo    Jenkins   52  ...   \n",
       "10            6547.21                7.0    Leonila   Thompson   40  ...   \n",
       "11           20672.82               21.0    Leonila   Thompson   40  ...   \n",
       "12           24516.62               24.0    Leonila   Thompson   40  ...   \n",
       "13           27981.74               28.0    Leonila   Thompson   40  ...   \n",
       "14           18852.72               19.0    Leonila   Thompson   40  ...   \n",
       "\n",
       "   usd_per_gb usd_per_message usd_per_minute plan_name  gb_per_month_included  \\\n",
       "0           7            0.01           0.01  ultimate                   30.0   \n",
       "1          10            0.03           0.03      surf                   15.0   \n",
       "2          10            0.03           0.03      surf                   15.0   \n",
       "3          10            0.03           0.03      surf                   15.0   \n",
       "4          10            0.03           0.03      surf                   15.0   \n",
       "5          10            0.03           0.03      surf                   15.0   \n",
       "6          10            0.03           0.03      surf                   15.0   \n",
       "7          10            0.03           0.03      surf                   15.0   \n",
       "8          10            0.03           0.03      surf                   15.0   \n",
       "9          10            0.03           0.03      surf                   15.0   \n",
       "10         10            0.03           0.03      surf                   15.0   \n",
       "11         10            0.03           0.03      surf                   15.0   \n",
       "12         10            0.03           0.03      surf                   15.0   \n",
       "13         10            0.03           0.03      surf                   15.0   \n",
       "14         10            0.03           0.03      surf                   15.0   \n",
       "\n",
       "    dif_minutes  dif_messages  dif_gb  total_extra_cost  total_plan  \n",
       "0           0.0           0.0     0.0              0.00       70.00  \n",
       "1           0.0           0.0     0.0              0.00       20.00  \n",
       "2           0.0           0.0     0.0              0.00       20.00  \n",
       "3           0.0           3.0     7.0             70.09       90.09  \n",
       "4           0.0           0.0     4.0             40.00       60.00  \n",
       "5           0.0           0.0     4.0             40.00       60.00  \n",
       "6           0.0           0.0     0.0              0.00       20.00  \n",
       "7           0.0           0.0     4.0             40.00       60.00  \n",
       "8           0.0           0.0     0.0              0.00       20.00  \n",
       "9         541.0           0.0    12.0            136.23      156.23  \n",
       "10          0.0           0.0     0.0              0.00       20.00  \n",
       "11          0.0           0.0     6.0             60.00       80.00  \n",
       "12          0.0           0.0     9.0             90.00      110.00  \n",
       "13          0.0           0.0    13.0            130.00      150.00  \n",
       "14          0.0           0.0     4.0             40.00       60.00  \n",
       "\n",
       "[15 rows x 27 columns]"
      ]
     },
     "metadata": {},
     "output_type": "display_data"
    }
   ],
   "source": [
    "# Calcula el ingreso mensual para cada usuario\n",
    "\n",
    "#Minutos en exceso\n",
    "month_data_users['dif_minutes'] = month_data_users['calls_duration'] - month_data_users['minutes_included']\n",
    "month_data_users['dif_minutes'] = month_data_users['dif_minutes'].apply(lambda x: max(x,0))\n",
    "\n",
    "#Mensajes en exceso\n",
    "month_data_users['dif_messages'] = month_data_users['messages_per_month'] - month_data_users['messages_included']\n",
    "month_data_users['dif_messages'] = month_data_users['dif_messages'].apply(lambda x: max(x,0))\n",
    "\n",
    "#Gb en exceso\n",
    "month_data_users['dif_gb'] = month_data_users['gb_used_per_month'] - month_data_users['gb_per_month_included']\n",
    "month_data_users['dif_gb'] = month_data_users['dif_gb'].apply(lambda x: max(x,0))\n",
    "\n",
    "#Valor a pagar por el exceso\n",
    "\n",
    "\n",
    "# Calcular el costo adicional para los minutos, mensajes y GB\n",
    "def extra_cost(row):\n",
    "    if row['plan'] == 'Ultimate':\n",
    "        minute_extra = 0.01\n",
    "        message_extra = 0.01\n",
    "        gb_extra = 7\n",
    "    else:  \n",
    "        minute_extra = 0.03\n",
    "        message_extra = 0.03\n",
    "        gb_extra = 10\n",
    "    \n",
    "    total_cost = row['dif_minutes'] * minute_extra + row['dif_messages'] * message_extra + row['dif_gb'] * gb_extra\n",
    "    return total_cost\n",
    "\n",
    "month_data_users['total_extra_cost'] = month_data_users.apply(extra_cost, axis=1)\n",
    "\n",
    "display(month_data_users.head(15))\n",
    "\n",
    "\n",
    "# Calcular el costo total por ususario\n",
    "def total_monthly_cost(row1):\n",
    "    if row1['plan'] == 'ultimate':\n",
    "        plan_cost = 70\n",
    "    else:  \n",
    "        plan_cost = 20\n",
    "    \n",
    "    total_plan_cost = plan_cost + row1['total_extra_cost']\n",
    "    return total_plan_cost\n",
    "\n",
    "month_data_users['total_plan'] = month_data_users.apply(total_monthly_cost, axis=1)\n",
    "\n",
    "\n",
    "\n",
    "display(month_data_users.head(15))\n"
   ]
  },
  {
   "cell_type": "markdown",
   "metadata": {
    "id": "-jtyHzJb0q1I"
   },
   "source": [
    "## Estudia el comportamiento de usuario"
   ]
  },
  {
   "cell_type": "markdown",
   "metadata": {
    "id": "AxU3Y0N70q1J"
   },
   "source": [
    "[Calcula algunas estadísticas descriptivas para los datos agregados y fusionados que nos sean útiles y que muestren un panorama general captado por los datos. Dibuja gráficos útiles para facilitar la comprensión. Dado que la tarea principal es comparar las tarifas y decidir cuál es más rentable, las estadísticas y gráficas deben calcularse por tarifa.]\n",
    "\n",
    "[En los comentarios hallarás pistas relevantes para las llamadas, pero no las hay para los mensajes e Internet. Sin embargo, el principio del estudio estadístico que se aplica para ellos es el mismo que para las llamadas.]"
   ]
  },
  {
   "cell_type": "markdown",
   "metadata": {
    "id": "vtW4CJEe0q1J"
   },
   "source": [
    "### Llamadas"
   ]
  },
  {
   "cell_type": "code",
   "execution_count": 31,
   "metadata": {
    "id": "Jf5v5--k0q1J"
   },
   "outputs": [
    {
     "data": {
      "text/plain": [
       "month  plan    \n",
       "1.0    surf        192.840000\n",
       "       ultimate    183.162500\n",
       "2.0    surf        280.851111\n",
       "       ultimate    443.171667\n",
       "3.0    surf        310.970000\n",
       "       ultimate    285.701667\n",
       "4.0    surf        332.380000\n",
       "       ultimate    316.508095\n",
       "5.0    surf        387.108000\n",
       "       ultimate    383.664828\n",
       "6.0    surf        411.450625\n",
       "       ultimate    365.358222\n",
       "7.0    surf        428.060917\n",
       "       ultimate    403.767288\n",
       "8.0    surf        394.474717\n",
       "       ultimate    397.274789\n",
       "9.0    surf        397.133298\n",
       "       ultimate    413.287326\n",
       "10.0   surf        414.435733\n",
       "       ultimate    429.217238\n",
       "11.0   surf        408.255415\n",
       "       ultimate    423.814683\n",
       "12.0   surf        457.547074\n",
       "       ultimate    438.824832\n",
       "Name: calls_duration, dtype: float64"
      ]
     },
     "metadata": {},
     "output_type": "display_data"
    },
    {
     "data": {
      "image/png": "[encoded data removed]",
      "text/plain": [
       "<Figure size 1000x600 with 1 Axes>"
      ]
     },
     "metadata": {},
     "output_type": "display_data"
    }
   ],
   "source": [
    "# Compara la duración promedio de llamadas por cada plan y por cada mes. Traza un gráfico de barras para visualizarla.\n",
    "\n",
    "average_calls = month_data_users.groupby(['month','plan'])['calls_duration'].mean()\n",
    "display(average_calls)\n",
    "\n",
    "\n",
    "plt.figure(figsize=(10, 6))\n",
    "average_calls.plot(x = 'Plan',\n",
    "        kind = 'bar',\n",
    "        title = 'Promedio duración de llamadas por mes',\n",
    "        xlabel = 'Mes',\n",
    "        ylabel = 'Promedio de llamadas')\n",
    "\n",
    "plt.grid(axis = 'y')\n",
    "\n",
    "plt.show()"
   ]
  },
  {
   "cell_type": "code",
   "execution_count": 32,
   "metadata": {
    "id": "QoLqW1S_0q1J"
   },
   "outputs": [
    {
     "data": {
      "image/png": "[encoded data removed]",
      "text/plain": [
       "<Figure size 1000x600 with 1 Axes>"
      ]
     },
     "metadata": {},
     "output_type": "display_data"
    }
   ],
   "source": [
    "# Compara el número de minutos mensuales que necesitan los usuarios de cada plan. Traza un histograma.\n",
    "\n",
    "#Minutos por plan\n",
    "\n",
    "surf_minutes = month_data_users[month_data_users['plan'] == 'surf']['calls_duration']\n",
    "ultimate_minutes = month_data_users[month_data_users['plan'] == 'ultimate']['calls_duration']\n",
    "\n",
    "plt.figure(figsize=(10, 6))\n",
    "surf_minutes.plot(kind = 'hist', bins = 20, title = 'Minutos mensuales por plan', ylabel = 'Frequencia', xlabel = 'Minutos mensuales', alpha = 0.7)\n",
    "\n",
    "ultimate_minutes.plot(kind = 'hist', bins = 20, alpha = 0.5)\n",
    "\n",
    "plt.xlim(left=0)\n",
    "\n",
    "\n",
    "plt.legend(['surf', 'ultimate'])\n",
    "\n",
    "\n",
    "plt.show()\n",
    "\n"
   ]
  },
  {
   "cell_type": "markdown",
   "metadata": {
    "id": "bLS9T8OH0q1K"
   },
   "source": [
    "[Calcula la media y la variable de la duración de las llamadas para averiguar si los usuarios de los distintos planes se comportan de forma diferente al realizar sus llamadas.]"
   ]
  },
  {
   "cell_type": "code",
   "execution_count": 33,
   "metadata": {
    "id": "oSndbAnt0q1K"
   },
   "outputs": [
    {
     "name": "stdout",
     "output_type": "stream",
     "text": [
      "Media: \n"
     ]
    },
    {
     "data": {
      "text/plain": [
       "month  plan    \n",
       "1.0    surf        192.840000\n",
       "       ultimate    183.162500\n",
       "2.0    surf        280.851111\n",
       "       ultimate    443.171667\n",
       "3.0    surf        310.970000\n",
       "       ultimate    285.701667\n",
       "4.0    surf        332.380000\n",
       "       ultimate    316.508095\n",
       "5.0    surf        387.108000\n",
       "       ultimate    383.664828\n",
       "6.0    surf        411.450625\n",
       "       ultimate    365.358222\n",
       "7.0    surf        428.060917\n",
       "       ultimate    403.767288\n",
       "8.0    surf        394.474717\n",
       "       ultimate    397.274789\n",
       "9.0    surf        397.133298\n",
       "       ultimate    413.287326\n",
       "10.0   surf        414.435733\n",
       "       ultimate    429.217238\n",
       "11.0   surf        408.255415\n",
       "       ultimate    423.814683\n",
       "12.0   surf        457.547074\n",
       "       ultimate    438.824832\n",
       "Name: mean, dtype: float64"
      ]
     },
     "metadata": {},
     "output_type": "display_data"
    },
    {
     "name": "stdout",
     "output_type": "stream",
     "text": [
      "\n",
      "Varianza: \n"
     ]
    },
    {
     "data": {
      "text/plain": [
       "month  plan    \n",
       "1.0    surf        14795.440200\n",
       "       ultimate    14991.369958\n",
       "2.0    surf        46959.219961\n",
       "       ultimate    48579.581537\n",
       "3.0    surf        31821.317991\n",
       "       ultimate    54273.917252\n",
       "4.0    surf        45615.666796\n",
       "       ultimate    31057.727496\n",
       "5.0    surf        50778.127459\n",
       "       ultimate    39290.610940\n",
       "6.0    surf        39424.054023\n",
       "       ultimate    33837.770156\n",
       "7.0    surf        53364.540232\n",
       "       ultimate    64844.426958\n",
       "8.0    surf        46639.240873\n",
       "       ultimate    47680.189425\n",
       "9.0    surf        39785.302974\n",
       "       ultimate    50994.505514\n",
       "10.0   surf        44103.681803\n",
       "       ultimate    47081.623851\n",
       "11.0   surf        43560.874928\n",
       "       ultimate    53273.637319\n",
       "12.0   surf        53646.781898\n",
       "       ultimate    53967.731609\n",
       "Name: var, dtype: float64"
      ]
     },
     "metadata": {},
     "output_type": "display_data"
    }
   ],
   "source": [
    "# Calcula la media y la varianza de la duración mensual de llamadas.\n",
    "\n",
    "calls_duration_average = month_data_users.groupby(['month', 'plan'])['calls_duration'].agg(['mean', 'var'])\n",
    "\n",
    "print('Media: ')\n",
    "display(calls_duration_average['mean'])\n",
    "print()\n",
    "print('Varianza: ')\n",
    "display(calls_duration_average['var'])\n"
   ]
  },
  {
   "cell_type": "code",
   "execution_count": 34,
   "metadata": {
    "id": "nZzoRUKc0q1K"
   },
   "outputs": [
    {
     "data": {
      "image/png": "[encoded data removed]",
      "text/plain": [
       "<Figure size 1000x600 with 1 Axes>"
      ]
     },
     "metadata": {},
     "output_type": "display_data"
    }
   ],
   "source": [
    "# Traza un diagrama de caja para visualizar la distribución de la duración mensual de llamadas\n",
    "\n",
    "plt.figure(figsize=(10, 6))\n",
    "\n",
    "sns.boxplot(x = 'calls_duration', data = month_data_users)\n",
    "\n",
    "\n",
    "plt.show()"
   ]
  },
  {
   "cell_type": "markdown",
   "metadata": {
    "id": "r627zBO50q1K"
   },
   "source": [
    "[Elabora las conclusiones sobre el comportamiento de los usuarios con respecto a las llamadas. ¿Su comportamiento varía en función del plan?]\n",
    "\n",
    "\n",
    "La duración promedio de llamadas hechas por los usuarios de ambos planes los primeros meses del años es bajo, comparado con los ultimos meses del año, tendiendo a crecer a medida que avanzan los meses. Esto indica que los usuarios en general están realizando más llamadas con el tiempo.\n",
    "\n",
    "La duración promedio promedio de las llamadas tiende a ser mayor para los usuarios del plan Surf en comparación con los usuarios del plan Ultimate en la mayoría de los meses.\n",
    "\n",
    "En diciembre, la duración promedio de las llamadas alcanza su punto máximo para ambos planes, con el plan Surf superando por poco al plan Ultimate en este mes.\n",
    "\n",
    "En los primeros meses del año, La duración promedio de las llamadas realizadas es generalmente más alta para los usuarios del plan Surf, excepto en febrero, que la cantidad de llamadas hechas por los usuarios del plan ultimate es casi 1/3 mayor que la del plan surf, pero luego se equilibra o incluso se invierte a favor de los usuarios del plan Ultimate en los meses siguientes.\n",
    "\n",
    "\n",
    "La varianza en la duración de las llamadas es más alta para el plan Ultimate en comparación con el plan Surf en la mayoría de los meses. Esto indica que hay una mayor variabilidad en la duración de las llamadas entre los usuarios del plan Ultimate.\n",
    "\n",
    "\n",
    "En resumen, aunque hay algunas diferencias en la duración de las llamadas entre los planes Surf y Ultimate, ambos planes muestran un aumento en la duración de las llamadas a lo largo del año con una variabilidad mayor en el plan Ultimate.\n",
    "\n",
    "\n",
    "Con el histograma se puede evidenciar que los usuarios del plan 'surf' necesitan una mayor cantidad de minutos mensuales para su consumo, comparados con el plan 'ultimate'. Necesitando los ususarios del plan 'surf' una cantidad entre 300 y 600 minutos mensualescon mayor frecuencia. El plan Surf solo tiene 500 minutos incluidos, por lo que en algunos casos los ususarios sobrepasaron los minutos incluidos, por el contrario, esto no pasó con los usuarios Ultimate, los cuales tienen 3000 minutos incluidos en su plan, y necesitan con menos frecuencia entre 300 y 600 minutos.\n",
    "\n",
    "\n",
    "El diagrama de caja (boxplot) nos dice:\n",
    "\n",
    "El valor mínimo es igual a 0 minutos. Se encuentra al final del bigote izquierdo.\n",
    "\n",
    "Primer cuartil Q1: 250 minutos.\n",
    "\n",
    "Segundo cuartil Q2 o mediana: 400 minutos.\n",
    "\n",
    "Tercer cuartil Q3: 550 minutos.\n",
    "\n",
    "El máximo es igual a 950 minutos. Se encuentra al final del bigote derecho.\n",
    "\n",
    "La distancia entre Q1 y Q3 se denomina intervalo intercuartílico (o IQR). Mide la dispersión de los datos situados en la mitad central. En otras palabras, es el intervalo del 50% medio de la muestra.\n",
    "\n",
    "Q3 - Q1 = 300 minutos."
   ]
  },
  {
   "cell_type": "markdown",
   "metadata": {
    "id": "8idKy8Wh0q1L"
   },
   "source": [
    "### Mensajes"
   ]
  },
  {
   "cell_type": "code",
   "execution_count": 35,
   "metadata": {
    "id": "NXLxiTit0q1L"
   },
   "outputs": [
    {
     "data": {
      "image/png": "[encoded data removed]",
      "text/plain": [
       "<Figure size 1000x600 with 1 Axes>"
      ]
     },
     "metadata": {},
     "output_type": "display_data"
    },
    {
     "data": {
      "image/png": "[encoded data removed]",
      "text/plain": [
       "<Figure size 1000x600 with 1 Axes>"
      ]
     },
     "metadata": {},
     "output_type": "display_data"
    }
   ],
   "source": [
    "# Comprara el número de mensajes que tienden a enviar cada mes los usuarios de cada plan\n",
    "\n",
    "average_messages = month_data_users.groupby(['month','plan'])['messages_per_month'].mean()\n",
    "\n",
    "plt.figure(figsize=(10, 6))\n",
    "average_messages.plot(x = 'Plan',\n",
    "        kind = 'bar',\n",
    "        title = 'Promedio mensajes enviados por mes',\n",
    "        xlabel = 'Mes',\n",
    "        ylabel = 'Promedio de Mensajes')\n",
    "\n",
    "plt.grid(axis = 'y')\n",
    "\n",
    "plt.show()\n",
    "\n",
    "\n",
    "# Compara el número de mensajes mensuales que necesitan los usuarios de cada plan. Traza un histograma.\n",
    "\n",
    "\n",
    "surf_messages = month_data_users[month_data_users['plan'] == 'surf']['messages_per_month']\n",
    "ultimate_messages = month_data_users[month_data_users['plan'] == 'ultimate']['messages_per_month']\n",
    "\n",
    "plt.figure(figsize=(10, 6))\n",
    "surf_messages.plot(kind = 'hist', bins = 20, title = 'Mensajes mensuales por plan', ylabel = 'Frequencia', xlabel = 'Mensajes mensuales', alpha = 0.7)\n",
    "\n",
    "ultimate_messages.plot(kind = 'hist', bins = 20, alpha = 0.5)\n",
    "\n",
    "plt.xlim(left=0)\n",
    "\n",
    "\n",
    "plt.legend(['surf', 'ultimate'])\n",
    "\n",
    "\n",
    "plt.show()\n",
    "\n",
    "\n"
   ]
  },
  {
   "cell_type": "code",
   "execution_count": 36,
   "metadata": {
    "id": "GRI_R7xF0q1L"
   },
   "outputs": [
    {
     "name": "stdout",
     "output_type": "stream",
     "text": [
      "Media: \n",
      "month  plan    \n",
      "1.0    surf        21.000000\n",
      "       ultimate    20.666667\n",
      "2.0    surf        21.600000\n",
      "       ultimate    25.166667\n",
      "3.0    surf        21.937500\n",
      "       ultimate    34.714286\n",
      "4.0    surf        24.166667\n",
      "       ultimate    28.937500\n",
      "5.0    surf        33.017857\n",
      "       ultimate    44.333333\n",
      "6.0    surf        33.616438\n",
      "       ultimate    36.289474\n",
      "7.0    surf        35.945055\n",
      "       ultimate    41.212766\n",
      "8.0    surf        37.596774\n",
      "       ultimate    47.929825\n",
      "9.0    surf        39.523179\n",
      "       ultimate    45.901408\n",
      "10.0   surf        42.433862\n",
      "       ultimate    46.977528\n",
      "11.0   surf        40.553097\n",
      "       ultimate    47.601942\n",
      "12.0   surf        48.326772\n",
      "       ultimate    53.936508\n",
      "Name: mean, dtype: float64\n",
      "\n",
      "Varianza: \n",
      "month  plan    \n",
      "1.0    surf                NaN\n",
      "       ultimate     310.333333\n",
      "2.0    surf         512.800000\n",
      "       ultimate     465.366667\n",
      "3.0    surf         352.062500\n",
      "       ultimate     613.904762\n",
      "4.0    surf         534.028571\n",
      "       ultimate     512.862500\n",
      "5.0    surf         867.945130\n",
      "       ultimate    1246.933333\n",
      "6.0    surf         936.406393\n",
      "       ultimate     807.238265\n",
      "7.0    surf         907.985836\n",
      "       ultimate     858.084181\n",
      "8.0    surf        1013.315762\n",
      "       ultimate    1034.387845\n",
      "9.0    surf         943.051126\n",
      "       ultimate     903.375855\n",
      "10.0   surf        1234.491613\n",
      "       ultimate    1099.044944\n",
      "11.0   surf        1002.523835\n",
      "       ultimate    1090.300781\n",
      "12.0   surf        1355.129952\n",
      "       ultimate    1373.803937\n",
      "Name: var, dtype: float64\n"
     ]
    }
   ],
   "source": [
    "# Calcula la media y la varianza de los mensajes que tienden a enviar los usuarios cada mes.\n",
    "\n",
    "var_med_messages = month_data_users.groupby(['month', 'plan'])['messages_per_month'].agg(['mean', 'var'])\n",
    "\n",
    "print('Media: ')\n",
    "print(var_med_messages['mean'])\n",
    "print()\n",
    "print('Varianza: ')\n",
    "print(var_med_messages['var'])"
   ]
  },
  {
   "cell_type": "code",
   "execution_count": 37,
   "metadata": {
    "id": "dtFwCGAp0q1M"
   },
   "outputs": [
    {
     "data": {
      "image/png": "[encoded data removed]",
      "text/plain": [
       "<Figure size 1000x600 with 1 Axes>"
      ]
     },
     "metadata": {},
     "output_type": "display_data"
    }
   ],
   "source": [
    "# Traza un diagrama de caja para visualizar la distribución de los mensajes mensuales\n",
    "\n",
    "plt.figure(figsize=(10, 6))\n",
    "\n",
    "sns.boxplot(x = 'messages_per_month', data = month_data_users)\n",
    "\n",
    "\n",
    "plt.show()"
   ]
  },
  {
   "cell_type": "markdown",
   "metadata": {
    "id": "390SSL480q1M"
   },
   "source": [
    "[Elabora las conclusiones sobre el comportamiento de los usuarios con respecto a los mensajes. ¿Su comportamiento varía en función del plan?]\n",
    "\n",
    "\n",
    "El número de mensajes enviados mensualmente por los usuarios tiende a aumentar a lo largo del año para ambos planes.\n",
    "\n",
    "En la mayoría de los meses, el número de mensajes enviados es un poco mayor para el plan Ultimate en comparación con el plan Surf. Sin embargo, la diferencia no es mucho mayor en la mayoría de los casos.\n",
    "\n",
    "La varianza en el número de mensajes enviados mensualmente es variable a lo largo del año para ambos planes, con algunos meses mostrando una mayor variabilidad que otros.\n",
    "\n",
    "En resumen, aunque hay algunas diferencias en el número de mensajes enviados entre los planes Surf y Ultimate, en general, ambos planes muestran un aumento en el número de mensajes enviados a lo largo del año con cierta variabilidad en la cantidad de mensajes enviados en diferentes meses.\n",
    "\n",
    "Con el histograma se puede evidenciar que los usuarios del plan 'surf' necesitan una mayor cantidad de mensajes mensuales para su consumo, comparados con el plan 'ultimate'. Necesitando los ususarios del plan 'surf' 50 mensajes mensuales con mayor frecuencia. El plan Surf  tiene 50 mensajes incluidos, por lo que en algunos casos los ususarios sobrepasaron los mensajes incluidos, por el contrario, esto no pasó con los usuarios Ultimate, los cuales tienen 1000 minutos incluidos en su plan, y necesitan con menos frecuencia, estos ususarios por lo general necesitaron con mayor frecuencia entre 30 y 40 mensajes mensuales, un valor mucho menor a la cantidad incluida en su plan, por lo que es poco probable que se hayan pasado del limite.\n",
    "\n",
    "\n",
    "El diagrama de caja (boxplot) nos dice:\n",
    "\n",
    "El valor mínimo es igual a 0 minutos. Se encuentra al final del bigote izquierdo.\n",
    "\n",
    "Primer cuartil Q1: 20 mensajes.\n",
    "\n",
    "Segundo cuartil Q2 o mediana: 25 mensajes.\n",
    "\n",
    "Tercer cuartil Q3: 60 mensajes.\n",
    "\n",
    "El máximo es igual a 130 mensajes. Se encuentra al final del bigote derecho.\n",
    "\n",
    "La distancia entre Q1 y Q3 se denomina intervalo intercuartílico (o IQR). Mide la dispersión de los datos situados en la mitad central. En otras palabras, es el intervalo del 50% medio de la muestra.\n",
    "\n",
    "Q3 - Q1 = 40 mensajes."
   ]
  },
  {
   "cell_type": "markdown",
   "metadata": {
    "id": "42YSypXz0q1M"
   },
   "source": [
    "### Internet"
   ]
  },
  {
   "cell_type": "code",
   "execution_count": 38,
   "metadata": {
    "id": "lSuKPtjh0q1M"
   },
   "outputs": [
    {
     "data": {
      "image/png": "[encoded data removed]",
      "text/plain": [
       "<Figure size 1000x600 with 1 Axes>"
      ]
     },
     "metadata": {},
     "output_type": "display_data"
    },
    {
     "data": {
      "image/png": "[encoded data removed]",
      "text/plain": [
       "<Figure size 1000x600 with 1 Axes>"
      ]
     },
     "metadata": {},
     "output_type": "display_data"
    }
   ],
   "source": [
    "# Compara la cantidad de tráfico de Internet consumido por usuarios por plan\n",
    "\n",
    "average_gb = month_data_users.groupby(['month','plan'])['gb_used_per_month'].mean()\n",
    "\n",
    "plt.figure(figsize=(10, 6))\n",
    "average_gb.plot(x = 'Plan',\n",
    "        kind = 'bar',\n",
    "        title = 'Promedio Internet consumido en el mes',\n",
    "        xlabel = 'Mes',\n",
    "        ylabel = 'Promedio Internet')\n",
    "\n",
    "plt.grid(axis = 'y')\n",
    "\n",
    "plt.show()\n",
    "\n",
    "\n",
    "# Compara la cantidad de Gb mensuales que necesitan los usuarios de cada plan. Traza un histograma.\n",
    "\n",
    "\n",
    "surf_internet = month_data_users[month_data_users['plan'] == 'surf']['gb_used_per_month']\n",
    "ultimate_internet = month_data_users[month_data_users['plan'] == 'ultimate']['gb_used_per_month']\n",
    "\n",
    "plt.figure(figsize=(10, 6))\n",
    "surf_internet.plot(kind = 'hist', bins = 20, title = 'Internet necesario por plan', ylabel = 'Frequencia', xlabel = 'Gb', alpha = 0.7)\n",
    "\n",
    "ultimate_internet.plot(kind = 'hist', bins = 20, alpha = 0.5)\n",
    "\n",
    "plt.xlim(left=0)\n",
    "\n",
    "\n",
    "plt.legend(['surf', 'ultimate'])\n",
    "\n",
    "\n",
    "plt.show()\n"
   ]
  },
  {
   "cell_type": "code",
   "execution_count": 39,
   "metadata": {
    "id": "wnh8jYXi0q1N",
    "scrolled": true
   },
   "outputs": [
    {
     "name": "stdout",
     "output_type": "stream",
     "text": [
      "Media: \n",
      "month  plan    \n",
      "1.0    surf         5.000000\n",
      "       ultimate     7.250000\n",
      "2.0    surf        12.222222\n",
      "       ultimate    17.285714\n",
      "3.0    surf        13.565217\n",
      "       ultimate    18.416667\n",
      "4.0    surf        12.469388\n",
      "       ultimate    16.333333\n",
      "5.0    surf        14.302632\n",
      "       ultimate    16.862069\n",
      "6.0    surf        15.810526\n",
      "       ultimate    15.425532\n",
      "7.0    surf        17.016667\n",
      "       ultimate    16.491525\n",
      "8.0    surf        17.201258\n",
      "       ultimate    17.845070\n",
      "9.0    surf        16.777202\n",
      "       ultimate    17.011628\n",
      "10.0   surf        17.632479\n",
      "       ultimate    17.885714\n",
      "11.0   surf        16.548043\n",
      "       ultimate    17.118110\n",
      "12.0   surf        18.296530\n",
      "       ultimate    18.397351\n",
      "Name: mean, dtype: float64\n",
      "\n",
      "Varianza: \n",
      "month  plan    \n",
      "1.0    surf         18.000000\n",
      "       ultimate     14.916667\n",
      "2.0    surf         41.444444\n",
      "       ultimate     37.904762\n",
      "3.0    surf         63.984190\n",
      "       ultimate    138.628788\n",
      "4.0    surf         54.212585\n",
      "       ultimate     85.833333\n",
      "5.0    surf         56.267193\n",
      "       ultimate     54.194581\n",
      "6.0    surf         43.559462\n",
      "       ultimate     68.858464\n",
      "7.0    surf         59.579552\n",
      "       ultimate     64.254237\n",
      "8.0    surf         67.263036\n",
      "       ultimate     58.047082\n",
      "9.0    surf         48.038644\n",
      "       ultimate     47.258687\n",
      "10.0   surf         57.555335\n",
      "       ultimate     52.082967\n",
      "11.0   surf         53.055719\n",
      "       ultimate     54.390701\n",
      "12.0   surf         68.373817\n",
      "       ultimate     58.841060\n",
      "Name: var, dtype: float64\n"
     ]
    }
   ],
   "source": [
    "# Calcula la media y la varianza de la cantidad de internet que consumen los usuarios cada mes\n",
    "var_med_internet = month_data_users.groupby(['month','plan'])['gb_used_per_month'].agg(['mean', 'var'])\n",
    "print('Media: ')\n",
    "print(var_med_internet['mean'])\n",
    "print()\n",
    "print('Varianza: ')\n",
    "print(var_med_internet['var'])"
   ]
  },
  {
   "cell_type": "code",
   "execution_count": 40,
   "metadata": {
    "id": "5VlyJ9ry0q1N"
   },
   "outputs": [
    {
     "data": {
      "image/png": "[encoded data removed]",
      "text/plain": [
       "<Figure size 1000x600 with 1 Axes>"
      ]
     },
     "metadata": {},
     "output_type": "display_data"
    }
   ],
   "source": [
    "# Traza un diagrama de caja para visualizar la distribución de los mensajes mensuales\n",
    "plt.figure(figsize=(10, 6))\n",
    "\n",
    "sns.boxplot(x = 'gb_used_per_month', data = month_data_users)\n",
    "\n",
    "\n",
    "plt.show()"
   ]
  },
  {
   "cell_type": "markdown",
   "metadata": {
    "id": "UN9zwuMP0q1N"
   },
   "source": [
    "[Elabora las conclusiones sobre cómo los usuarios tienden a consumir el tráfico de Internet. ¿Su comportamiento varía en función del plan?]\n",
    "\n",
    "El consumo de internet de los usuarios de ambos planes los primeros meses del años es bajo, comparado con los ultimos meses del año, tendiendo a crecer a medida que avanzan los meses.\n",
    "\n",
    "En los primeros 6 meses los ususarios del plan \"surf\" tendieron a consumir mucha menor cantidad de Gb que los ususarios con el plan de 'ultimate', sobre todo en los meses de febrero y marzo en donde hubo una diferencia de aproximadamente 5 Gb. \n",
    "\n",
    "\n",
    "En los meses a partir de junio (mes 6) los ususarios de ambos planes se comportaron realtivamente igual teniendo una diferencia de consumo aproximadamente de 1 Gb, siempre los usuarios del plan \"ultimate\" teniendo el mayor consumo, exepto en el mes de julio en donde los ususarios del plan \"surf\" tuvieron mayor consumo que los del plan \"ultimate\".\n",
    "\n",
    "En resumen, podemos decir que, en general, el plan \"Ultimate\" tiende a tener un consumo de internet mayor y una varianza más alta en comparación con el plan \"Surf\". Sin embargo, la diferencia entre los dos planes puede variar según el mes.\n",
    "\n",
    "\n",
    "Con el histograma se puede evidenciar que los usuarios del plan 'surf' necesitan una mayor cantidad de Gb mensuales para su consumo, comparados con el plan 'ultimate'. Necesitando los ususarios del plan 'surf' una cantidad entre 15Gb y 25Gb mensales.\n",
    "\n",
    "\n",
    "El diagrama de caja nos dice:\n",
    "\n",
    "El valor mínimo es igual a 0 Gb. Se encuentra al final del bigote izquierdo.\n",
    "\n",
    "Primer cuartil Q1: 13Gb.\n",
    "\n",
    "Segundo cuartil Q2 o mediana: 17 Gb.\n",
    "\n",
    "Tercer cuartil Q3: 21Gb.\n",
    "\n",
    "El máximo es igual a 31Gb. Se encuentra al final del bigote derecho.\n",
    "\n",
    "La distancia entre Q1 y Q3 se denomina intervalo intercuartílico (o IQR). Mide la dispersión de los datos situados en la mitad central. En otras palabras, es el intervalo del 50% medio de la muestra.\n",
    "\n",
    "Q3 - Q1 = 8 Gb."
   ]
  },
  {
   "cell_type": "markdown",
   "metadata": {
    "id": "tCijq3260q1N"
   },
   "source": [
    "## Ingreso"
   ]
  },
  {
   "cell_type": "markdown",
   "metadata": {
    "id": "9nq5IAcy0q1O"
   },
   "source": [
    "[Del mismo modo que has estudiado el comportamiento de los usuarios, describe estadísticamente los ingresos de los planes.]"
   ]
  },
  {
   "cell_type": "code",
   "execution_count": 41,
   "metadata": {
    "id": "tz-dq_V00q1O"
   },
   "outputs": [
    {
     "data": {
      "image/png": "[encoded data removed]",
      "text/plain": [
       "<Figure size 1000x600 with 1 Axes>"
      ]
     },
     "metadata": {},
     "output_type": "display_data"
    }
   ],
   "source": [
    "# Compara el ingreso promedio de cada plan por cada mes. Traza un gráfico de barras para visualizarla.\n",
    "\n",
    "average_plan = month_data_users.groupby(['month','plan'])['total_plan'].mean()\n",
    "\n",
    "plt.figure(figsize=(10, 6))\n",
    "average_plan.plot(x = 'Plan',\n",
    "        kind = 'bar',\n",
    "        title = 'Promedio Ingreso de los planes por mes',\n",
    "        xlabel = 'Mes',\n",
    "        ylabel = 'Promedio $')\n",
    "\n",
    "plt.grid(axis = 'y')\n",
    "\n",
    "plt.show()"
   ]
  },
  {
   "cell_type": "code",
   "execution_count": 42,
   "metadata": {
    "id": "0Y1v8ZUz0q1P"
   },
   "outputs": [
    {
     "name": "stdout",
     "output_type": "stream",
     "text": [
      "Media: \n",
      "month  plan    \n",
      "1.0    surf        20.000000\n",
      "       ultimate    70.000000\n",
      "2.0    surf        23.662120\n",
      "       ultimate    70.000000\n",
      "3.0    surf        38.323500\n",
      "       ultimate    81.428571\n",
      "4.0    surf        40.262346\n",
      "       ultimate    74.375000\n",
      "5.0    surf        50.364445\n",
      "       ultimate    71.428571\n",
      "6.0    surf        51.750469\n",
      "       ultimate    72.972973\n",
      "7.0    surf        61.354021\n",
      "       ultimate    73.404255\n",
      "8.0    surf        64.015463\n",
      "       ultimate    73.508772\n",
      "9.0    surf        56.854326\n",
      "       ultimate    71.971831\n",
      "10.0   surf        64.978578\n",
      "       ultimate    73.068182\n",
      "11.0   surf        56.716289\n",
      "       ultimate    73.039216\n",
      "12.0   surf        68.283588\n",
      "       ultimate    73.920000\n",
      "Name: mean, dtype: float64\n",
      "\n",
      "Varianza: \n",
      "month  plan    \n",
      "1.0    surf                NaN\n",
      "       ultimate       0.000000\n",
      "2.0    surf          25.502614\n",
      "       ultimate       0.000000\n",
      "3.0    surf         539.566833\n",
      "       ultimate     480.952381\n",
      "4.0    surf        1250.859518\n",
      "       ultimate     306.250000\n",
      "5.0    surf        2290.935898\n",
      "       ultimate      42.857143\n",
      "6.0    surf        2414.023428\n",
      "       ultimate     193.693694\n",
      "7.0    surf        3244.753515\n",
      "       ultimate     266.419981\n",
      "8.0    surf        3316.875300\n",
      "       ultimate     258.897243\n",
      "9.0    surf        2019.357203\n",
      "       ultimate     107.484909\n",
      "10.0   surf        3033.046892\n",
      "       ultimate     364.041275\n",
      "11.0   surf        2196.286437\n",
      "       ultimate     239.186566\n",
      "12.0   surf        3958.967299\n",
      "       ultimate     301.445161\n",
      "Name: var, dtype: float64\n",
      "Promedio de ingresos del plan Surf durante todo el año:  60.00973483050847\n",
      "\n",
      "Promedio de ingresos del plan Utimate durante todo el año:  73.21243523316062\n"
     ]
    }
   ],
   "source": [
    "# Calcula la media y la varianza del ingreso de los planes cada mes\n",
    "var_med_plan = month_data_users.groupby(['month','plan'])['total_plan'].agg(['mean', 'var'])\n",
    "print('Media: ')\n",
    "print(var_med_plan['mean'])\n",
    "print()\n",
    "print('Varianza: ')\n",
    "print(var_med_plan['var'])\n",
    "\n",
    "promedio_surf = month_data_users[month_data_users['plan'] == 'surf']['total_plan'].mean()\n",
    "promedio_ultimate = month_data_users[month_data_users['plan'] == 'ultimate']['total_plan'].mean()\n",
    "print('Promedio de ingresos del plan Surf durante todo el año: ', promedio_surf)\n",
    "print()\n",
    "print('Promedio de ingresos del plan Utimate durante todo el año: ', promedio_ultimate)\n"
   ]
  },
  {
   "cell_type": "markdown",
   "metadata": {
    "id": "KAFidcXZ0q1P"
   },
   "source": [
    "[Elabora las conclusiones sobre cómo difiere el ingreso entre los planes.]\n",
    "\n",
    "\n",
    "El ingreso del plan ultimate fue mucho mayor a lo largo del año, sin embargo raras veces los usuarios pagaron valores extras en este plan, a diferencia del plan surf, en la que en todos los meses, excepto enero, los ususarios pagaron tarifas extras, llegando al mes de enero a casi igualar a lo que vale un plan Ultimate ($70).\n",
    "\n",
    "El pago mensual promedio para el plan Ultimate es constante en 70$ durante todo el año.\n",
    "\n",
    "El pago mensual promedio para el plan Surf incrementa a lo largo del año, teniendo un ingreso promedio de $60.\n",
    "\n",
    "La varianza en los pagos mensuales para el plan Surf es bastante alta, lo que indica una gran variabilidad en los pagos de los usuarios. Por otro lado, la varianza en los pagos mensuales para el plan Ultimate es mucho más baja y, incluso 0 en algunos meses, lo que indica una mayor consistencia en los pagos de los usuarios.\n",
    "\n",
    "Aunque el plan Surf puede tener pagos mensuales más bajos, los usuarios pueden experimentar una mayor variabilidad en sus facturas mensuales debido a los cargos adicionales por exceder los límites del paquete. Por otro lado, el plan Ultimate ofrece una tarifa mensual fija más alta pero con una menor variabilidad en los pagos mensuales, por lo que los ingresos por parte de los ususiarios son más predecibles.\n",
    "\n"
   ]
  },
  {
   "cell_type": "markdown",
   "metadata": {
    "id": "ajJ7VKeI0q1Q"
   },
   "source": [
    "## Prueba las hipótesis estadísticas"
   ]
  },
  {
   "cell_type": "markdown",
   "metadata": {
    "id": "AdXAZ-yL0q1Q"
   },
   "source": [
    "[Prueba la hipótesis de que son diferentes los ingresos promedio procedentes de los usuarios de los planes de llamada Ultimate y Surf.]"
   ]
  },
  {
   "cell_type": "markdown",
   "metadata": {
    "id": "IQwa_hsh0q1Q"
   },
   "source": [
    "[Elabora las hipótesis nula y alternativa, escoge la prueba estadística, determina el valor alfa.]"
   ]
  },
  {
   "cell_type": "code",
   "execution_count": 43,
   "metadata": {
    "id": "nFoPNlPq0q1R"
   },
   "outputs": [
    {
     "name": "stdout",
     "output_type": "stream",
     "text": [
      "Valor p:  4.14224252619592e-14\n",
      "Rechazamos la hipótesis nula\n"
     ]
    }
   ],
   "source": [
    "# Prueba las hipótesis\n",
    "\n",
    "#  Hipótesis nula =  los ingresos promedio  procedentes de los usuarios de los planes de llamada Ultimate y Surf son iguales\n",
    "#  Hipótesis alternativa = los ingresos promedio  procedentes de los usuarios de los planes de llamada Ultimate y Surf son diferentes\n",
    "# Hipótesis sobre la igualdad de las medias de dos poblaciones\n",
    "# Prueba estadística = Prueba t\n",
    "month_data_users ['total_plan']= month_data_users['total_plan'].fillna(0)\n",
    "\n",
    "surf = month_data_users[month_data_users['plan'] == 'surf']['total_plan']\n",
    "ultimate = month_data_users[month_data_users['plan'] == 'ultimate']['total_plan']\n",
    "\n",
    "# Significación estadística crítica\n",
    "alpha = 0.05\n",
    "\n",
    "# realiza la prueba t \n",
    "\n",
    "results = st.ttest_ind(surf, ultimate, equal_var = False)\n",
    "\n",
    "print('Valor p: ', results.pvalue)\n",
    "\n",
    "# compara los valores p obtenidos con el nivel de significación estadística\n",
    "\n",
    "if results.pvalue < alpha:\n",
    "    print(\"Rechazamos la hipótesis nula\")\n",
    "else:\n",
    "    print(\"No podemos rechazar la hipótesis nula\")\n",
    "\n",
    "\n",
    "\n"
   ]
  },
  {
   "cell_type": "markdown",
   "metadata": {
    "id": "tCcAruM60q1R"
   },
   "source": [
    "[Prueba la hipótesis de que el ingreso promedio de los usuarios del área NY-NJ es diferente al de los usuarios de otras regiones.]"
   ]
  },
  {
   "cell_type": "markdown",
   "metadata": {
    "id": "LsBgitqj0q1R"
   },
   "source": [
    "[Elabora las hipótesis nula y alternativa, escoge la prueba estadística, determina el valor alfa.]"
   ]
  },
  {
   "cell_type": "code",
   "execution_count": 44,
   "metadata": {
    "id": "Cqcj7wrZ0q1S"
   },
   "outputs": [
    {
     "name": "stdout",
     "output_type": "stream",
     "text": [
      "Valor p:  1.0\n",
      "No podemos rechazar la hipótesis nula\n"
     ]
    }
   ],
   "source": [
    "# Prueba las hipótesis\n",
    "\n",
    "#  Hipótesis nula =  El ingreso promedio de los usuarios del área NY-NJ es igual al de los usuarios de otras regiones.\n",
    "#  Hipótesis alternativa = El ingreso promedio de los usuarios del área NY-NJ es diferente al de los usuarios de otras regiones.\n",
    "# Hipótesis sobre la igualdad de las medias de dos poblaciones\n",
    "# Prueba estadística = Prueba t\n",
    "\n",
    "\n",
    "surf_city = month_data_users[month_data_users['city'] == 'New York-Newark-Jersey City, NY-NJ-PA MSA']['total_plan']\n",
    "ultimate_city = month_data_users[month_data_users['city'] == 'New York-Newark-Jersey City, NY-NJ-PA MSA']['total_plan']\n",
    "\n",
    "# Significación estadística crítica\n",
    "alpha = 0.05\n",
    "\n",
    "# realiza la prueba t \n",
    "\n",
    "results = st.ttest_ind(surf_city, ultimate_city, equal_var = False)\n",
    "\n",
    "\n",
    "\n",
    "print('Valor p: ', results.pvalue)\n",
    "\n",
    "# compara los valores p obtenidos con el nivel de significación estadística\n",
    "\n",
    "if results.pvalue < alpha:\n",
    "    print(\"Rechazamos la hipótesis nula\")\n",
    "else:\n",
    "    print(\"No podemos rechazar la hipótesis nula\")\n",
    "\n"
   ]
  },
  {
   "cell_type": "markdown",
   "metadata": {
    "id": "bbTR8UQO0q1T"
   },
   "source": [
    "## Conclusión general\n",
    "\n",
    "[En esta sección final, enumera tus conclusiones importantes. Asegúrate de que estas abarquen todas las decisiones (suposiciones) importantes que adoptaste y que determinaron la forma elegida para procesar y analizar los datos.]\n",
    "\n",
    "\n",
    "\n",
    "Después de analizar los datos y realizar las pruebas estadísticas necesarias, se pueden extraer las siguientes conclusiones:\n",
    "\n",
    "1. Duración promedio de las llamadas\n",
    "\n",
    "La duración promedio de las llamadas tiende a aumentar a lo largo del año para ambos planes, teniendo el mayor pico en los meses de diciembre.\n",
    "\n",
    "Los usuarios del plan Surf tienden a tener una duración promedio de llamadas ligeramente mayor que los del plan Ultimate en la mayoría de los meses, especialmente en los primeros meses del año, excepto en el mes de febrero, en el que el plan Ultimate tuvo un pico significativo.\n",
    "\n",
    "Así ambos ususarios hayan tenido un consumo similar durante todo el año, los usuarios del plan 'surf' necesitan una mayor cantidad de minutos mensuales para su consumo, dado que su plan solo incluye 500 minutos al mes, comparados con el plan 'ultimate' que incluye 3000 minutos al mes. En algunos casos los ususarios del plan Surf sobrepasaron los minutos incluidos, por el contrario, esto no pasó con los usuarios Ultimate, los cuales tienen una cantidad muchisimo mayor de minutos incluidos.\n",
    "\n",
    "2. Número de mensajes\n",
    "\n",
    "El número de mensajes tiende a aumentar a lo largo del año para ambos planes.\n",
    "\n",
    "\n",
    "En general, los usuarios del plan Ultimate tienden a enviar ligeramente más mensajes que los del plan Surf, pero la diferencia no es significativa.\n",
    "\n",
    "Aunque los ususarios del plan Ultimate tengan un mayor consumo de mensajes de texto que los ususarios del plan Surf, no utilzian los mil mensajes incluidos, estos ususarios necesitan con mayor frecuencia un valor de 30 a 40 mensajes. Por otro lado, los usuarios del plan Surf necesitan mensualmente entre 40 a 50 mensajes, este plan tiene incluidos 50 mensajes, por lo que estos  frecuentemente estarían al limite de su plan y podrían pagar un valor extra por mensase.\n",
    "\n",
    "3. Consumo de internet\n",
    "\n",
    "El consumo de datos tiende a aumentar a lo largo del año para ambos planes, con picos en los meses de diciembre.\n",
    "\n",
    "Los usuarios del plan Ultimate tienden a consumir más datos en promedio que los del plan Surf en la mayoría de los meses.\n",
    "\n",
    "Así los ususarios del plan Ultimate tengan un mayor consumo de internet a lo largo del año, los usuarios del plan 'surf' necesitan una mayor cantidad de datos mensuales, dado que su plan solo incluye 15 Gb al mes, comparados con el plan 'ultimate' que incluye 30 Gb al mes. En gran parte de los casos los ususarios del plan Surf sobrepasaron la cantidad de navegación incluida, por el contrario, esto no pasó con los usuarios Ultimate, los cuales tienen una cantidad muchisimo mayor de data incluida.\n",
    "\n",
    "Los ususarios del plan Surf utilizan mensualmente con mayor frecuencia de 15 a 20 Gb de internet, por lo que en varias ocasiones pagaron un valor extra de 10$ por Gb consumida.\n",
    "\n",
    "\n",
    "4. Ingresos\n",
    "\n",
    "El plan Ultimate tiene una tarifa mensual más alta, genera mayores ingresos promedio a lo largo del año en comparación con el plan Surf.\n",
    "\n",
    "\n",
    "Los usuarios del plan Surf tienden a tener una mayor variabilidad en sus facturas mensuales debido a los cargos adicionales por exceder los límites del paquete, mientras que los usuarios del plan Ultimate tienen pagos mensuales más consistentes.\n",
    "\n",
    "5. Pruebas de hipótesis\n",
    "\n",
    "\n",
    "Se rechaza la hipótesis nula: Los ingresos promedio  procedentes de los usuarios de los planes de llamada Ultimate y Surf son iguales, lo que indica que hay diferencias importantes en los ingresos entre estos dos planes.\n",
    "\n",
    "\n",
    "\n",
    "No hay suficiente evidencia para rechazar la hipótesis nula: dEl ingreso promedio de los usuarios del área NY-NJ es diferente al de los usuarios de otras regiones.\n",
    "\n",
    "\n",
    "\n",
    "En general, el plan Ultimate genera mayores ingresos a lo largo del año en comparación con el plan Surf. Sin embargo, los usuarios del plan Surf tienden a experimentar una mayor variabilidad en sus facturas mensuales debido a los cargos adicionales por exceder los límites del paquete, lo que puede afectar la predictibilidad de los ingresos. Por lo tanto, aunque el plan Ultimate tiene una tarifa mensual más alta, ofrece una mayor estabilidad en los ingresos mensuales.\n",
    "\n"
   ]
  }
 ],
 "metadata": {
  "ExecuteTimeLog": [
   {
    "duration": 828,
    "start_time": "2021-11-16T09:21:11.304Z"
   },
   {
    "duration": 893,
    "start_time": "2021-11-16T09:21:17.728Z"
   },
   {
    "duration": 1150,
    "start_time": "2021-11-16T09:21:29.568Z"
   },
   {
    "duration": 3,
    "start_time": "2021-11-16T09:24:14.495Z"
   },
   {
    "duration": 120,
    "start_time": "2021-11-16T09:24:46.630Z"
   },
   {
    "duration": 3,
    "start_time": "2021-11-16T09:28:27.882Z"
   },
   {
    "duration": 4,
    "start_time": "2021-11-16T09:29:54.281Z"
   },
   {
    "duration": 3,
    "start_time": "2021-11-16T09:30:45.936Z"
   },
   {
    "duration": 4,
    "start_time": "2021-11-16T09:31:06.300Z"
   },
   {
    "duration": 113,
    "start_time": "2021-11-16T09:31:37.208Z"
   },
   {
    "duration": 143,
    "start_time": "2021-11-16T09:31:48.656Z"
   },
   {
    "duration": 98,
    "start_time": "2021-11-16T09:31:55.678Z"
   },
   {
    "duration": 3,
    "start_time": "2021-11-16T09:32:08.535Z"
   },
   {
    "duration": 111,
    "start_time": "2021-11-16T09:32:10.120Z"
   },
   {
    "duration": 3,
    "start_time": "2021-11-16T09:32:15.732Z"
   },
   {
    "duration": 4,
    "start_time": "2021-11-16T09:32:29.423Z"
   },
   {
    "duration": 3,
    "start_time": "2021-11-16T10:03:03.074Z"
   },
   {
    "duration": 3,
    "start_time": "2021-11-16T10:10:01.288Z"
   },
   {
    "duration": 3,
    "start_time": "2021-11-16T10:10:46.923Z"
   },
   {
    "duration": 121,
    "start_time": "2021-11-16T10:37:46.494Z"
   },
   {
    "duration": 125,
    "start_time": "2021-11-16T10:38:20.632Z"
   },
   {
    "duration": 112,
    "start_time": "2021-11-16T10:46:53.001Z"
   },
   {
    "duration": 110,
    "start_time": "2021-11-16T10:48:25.775Z"
   },
   {
    "duration": 3,
    "start_time": "2021-11-16T10:50:18.720Z"
   },
   {
    "duration": 4,
    "start_time": "2021-11-16T10:50:37.649Z"
   },
   {
    "duration": 2,
    "start_time": "2021-11-16T10:50:51.884Z"
   },
   {
    "duration": 3,
    "start_time": "2021-11-16T10:51:56.237Z"
   },
   {
    "duration": 101,
    "start_time": "2021-11-16T10:53:13.791Z"
   },
   {
    "duration": 3,
    "start_time": "2021-11-16T10:55:59.186Z"
   },
   {
    "duration": 3,
    "start_time": "2021-11-16T10:56:10.751Z"
   },
   {
    "duration": 3,
    "start_time": "2021-11-16T10:56:49.038Z"
   },
   {
    "duration": 3,
    "start_time": "2021-11-16T10:56:49.174Z"
   },
   {
    "duration": 4,
    "start_time": "2021-11-16T10:56:49.414Z"
   },
   {
    "duration": 3,
    "start_time": "2021-11-16T10:56:49.680Z"
   },
   {
    "duration": 3,
    "start_time": "2021-11-16T10:56:50.370Z"
   },
   {
    "duration": 114,
    "start_time": "2021-11-16T10:59:34.518Z"
   },
   {
    "duration": 3,
    "start_time": "2021-11-16T11:01:41.201Z"
   },
   {
    "duration": 116,
    "start_time": "2021-11-16T11:01:48.754Z"
   },
   {
    "duration": 3,
    "start_time": "2021-11-16T11:02:16.685Z"
   },
   {
    "duration": 3,
    "start_time": "2021-11-16T11:02:19.479Z"
   },
   {
    "duration": 3,
    "start_time": "2021-11-16T11:02:47.067Z"
   },
   {
    "duration": 3,
    "start_time": "2021-11-16T11:02:49.353Z"
   },
   {
    "duration": 3,
    "start_time": "2021-11-16T11:03:07.835Z"
   },
   {
    "duration": 3,
    "start_time": "2021-11-16T11:03:07.953Z"
   },
   {
    "duration": 112,
    "start_time": "2021-11-16T11:07:52.072Z"
   },
   {
    "duration": 187,
    "start_time": "2021-11-16T11:09:23.468Z"
   },
   {
    "duration": 4,
    "start_time": "2021-11-16T11:10:01.455Z"
   },
   {
    "duration": 3,
    "start_time": "2021-11-16T11:10:05.069Z"
   },
   {
    "duration": 4,
    "start_time": "2021-11-16T11:10:13.376Z"
   },
   {
    "duration": 3,
    "start_time": "2021-11-16T11:10:14.434Z"
   },
   {
    "duration": 3,
    "start_time": "2021-11-16T11:10:22.853Z"
   },
   {
    "duration": 4,
    "start_time": "2021-11-16T11:27:29.279Z"
   },
   {
    "duration": 4,
    "start_time": "2021-11-16T11:29:08.919Z"
   },
   {
    "duration": 118,
    "start_time": "2021-11-16T11:29:46.703Z"
   },
   {
    "duration": 437,
    "start_time": "2021-11-16T11:36:02.181Z"
   },
   {
    "duration": 157,
    "start_time": "2021-11-16T11:36:14.388Z"
   },
   {
    "duration": 207,
    "start_time": "2021-11-16T11:47:15.898Z"
   },
   {
    "duration": 3,
    "start_time": "2021-11-16T11:53:52.092Z"
   },
   {
    "duration": 3,
    "start_time": "2021-11-16T11:53:52.236Z"
   },
   {
    "duration": 3,
    "start_time": "2021-11-16T11:59:12.005Z"
   },
   {
    "duration": 112,
    "start_time": "2021-11-16T12:00:33.446Z"
   },
   {
    "duration": 3,
    "start_time": "2021-11-16T12:02:14.453Z"
   },
   {
    "duration": 3,
    "start_time": "2021-11-16T12:02:39.512Z"
   },
   {
    "duration": 106,
    "start_time": "2021-11-16T12:03:03.460Z"
   },
   {
    "duration": 3,
    "start_time": "2021-11-17T20:37:21.139Z"
   },
   {
    "duration": 3,
    "start_time": "2021-11-17T20:37:22.229Z"
   },
   {
    "duration": 3,
    "start_time": "2021-11-17T20:38:38.806Z"
   },
   {
    "duration": 3,
    "start_time": "2021-11-17T20:38:41.958Z"
   },
   {
    "duration": 3,
    "start_time": "2021-11-17T20:43:46.551Z"
   },
   {
    "duration": 4,
    "start_time": "2021-11-17T20:58:21.835Z"
   },
   {
    "duration": 3,
    "start_time": "2021-11-17T20:59:21.872Z"
   },
   {
    "duration": 4,
    "start_time": "2021-11-17T20:59:45.352Z"
   },
   {
    "duration": 4,
    "start_time": "2021-11-17T20:59:49.646Z"
   },
   {
    "duration": 159,
    "start_time": "2021-11-17T21:02:26.949Z"
   },
   {
    "duration": 3,
    "start_time": "2021-11-17T21:03:53.461Z"
   },
   {
    "duration": 3,
    "start_time": "2021-11-17T21:03:53.694Z"
   },
   {
    "duration": 3,
    "start_time": "2021-11-17T21:05:28.145Z"
   },
   {
    "duration": 116,
    "start_time": "2021-11-17T21:05:57.787Z"
   },
   {
    "duration": 3,
    "start_time": "2021-11-17T21:06:37.993Z"
   },
   {
    "duration": 3,
    "start_time": "2021-11-17T21:06:38.261Z"
   },
   {
    "duration": 3,
    "start_time": "2021-11-17T21:11:54.358Z"
   },
   {
    "duration": 3,
    "start_time": "2021-11-17T21:12:43.846Z"
   },
   {
    "duration": 4,
    "start_time": "2021-11-17T21:13:08.773Z"
   },
   {
    "duration": 3,
    "start_time": "2021-11-17T21:14:44.441Z"
   },
   {
    "duration": 3,
    "start_time": "2021-11-17T21:15:42.059Z"
   },
   {
    "duration": 4,
    "start_time": "2021-11-17T21:15:51.995Z"
   },
   {
    "duration": 3,
    "start_time": "2021-11-17T21:15:53.923Z"
   },
   {
    "duration": 3,
    "start_time": "2021-11-17T21:15:55.282Z"
   },
   {
    "duration": 3,
    "start_time": "2021-11-17T21:16:28.492Z"
   },
   {
    "duration": 3,
    "start_time": "2021-11-17T21:16:32.603Z"
   },
   {
    "duration": 3,
    "start_time": "2021-11-17T21:17:06.941Z"
   },
   {
    "duration": 98,
    "start_time": "2021-11-17T21:18:05.733Z"
   },
   {
    "duration": 4,
    "start_time": "2021-11-17T21:21:35.255Z"
   },
   {
    "duration": 3,
    "start_time": "2021-11-17T21:21:37.804Z"
   },
   {
    "duration": 4,
    "start_time": "2021-11-17T21:23:06.071Z"
   },
   {
    "duration": 3,
    "start_time": "2021-11-17T21:23:24.799Z"
   },
   {
    "duration": 3,
    "start_time": "2021-11-17T21:23:32.591Z"
   },
   {
    "duration": 98,
    "start_time": "2021-11-17T21:28:31.559Z"
   },
   {
    "duration": 3,
    "start_time": "2021-11-17T21:28:45.448Z"
   },
   {
    "duration": 3,
    "start_time": "2021-11-17T21:29:17.303Z"
   },
   {
    "duration": 3,
    "start_time": "2021-11-17T21:29:29.617Z"
   },
   {
    "duration": 3,
    "start_time": "2021-11-17T21:29:32.681Z"
   },
   {
    "duration": 3,
    "start_time": "2021-11-17T21:36:11.474Z"
   },
   {
    "duration": 3,
    "start_time": "2021-11-17T21:36:14.791Z"
   },
   {
    "duration": 3,
    "start_time": "2021-11-17T21:36:53.943Z"
   },
   {
    "duration": 3,
    "start_time": "2021-11-17T21:36:56.165Z"
   },
   {
    "duration": 4,
    "start_time": "2021-11-17T21:37:16.590Z"
   },
   {
    "duration": 3,
    "start_time": "2021-11-17T21:37:22.702Z"
   },
   {
    "duration": 4,
    "start_time": "2021-11-17T21:38:03.479Z"
   },
   {
    "duration": 3,
    "start_time": "2021-11-17T21:38:08.601Z"
   },
   {
    "duration": 3,
    "start_time": "2021-11-17T21:38:12.928Z"
   },
   {
    "duration": 3,
    "start_time": "2021-11-17T21:38:48.896Z"
   },
   {
    "duration": 2,
    "start_time": "2021-11-17T21:38:49.171Z"
   },
   {
    "duration": 4,
    "start_time": "2021-11-17T21:39:57.889Z"
   },
   {
    "duration": 3,
    "start_time": "2021-11-17T21:39:58.057Z"
   },
   {
    "duration": 3,
    "start_time": "2021-11-17T21:41:20.108Z"
   },
   {
    "duration": 3,
    "start_time": "2021-11-17T21:41:20.629Z"
   },
   {
    "duration": 3,
    "start_time": "2021-11-17T21:42:49.136Z"
   },
   {
    "duration": 3,
    "start_time": "2021-11-17T21:43:15.137Z"
   },
   {
    "duration": 4,
    "start_time": "2021-11-17T21:43:16.766Z"
   },
   {
    "duration": 4,
    "start_time": "2021-11-17T21:43:31.711Z"
   },
   {
    "duration": 3,
    "start_time": "2021-11-17T21:43:36.312Z"
   },
   {
    "duration": 4,
    "start_time": "2021-11-17T21:45:08.825Z"
   },
   {
    "duration": 4,
    "start_time": "2021-11-17T21:45:10.119Z"
   },
   {
    "duration": 4,
    "start_time": "2021-11-17T21:45:13.748Z"
   },
   {
    "duration": 3,
    "start_time": "2021-11-17T21:45:22.219Z"
   },
   {
    "duration": 3,
    "start_time": "2021-11-17T21:45:33.412Z"
   },
   {
    "duration": 2,
    "start_time": "2021-11-17T21:46:01.885Z"
   },
   {
    "duration": 3,
    "start_time": "2021-11-17T21:46:03.628Z"
   },
   {
    "duration": 107,
    "start_time": "2021-11-17T21:47:32.512Z"
   },
   {
    "duration": 103,
    "start_time": "2021-11-17T21:50:36.243Z"
   },
   {
    "duration": 3,
    "start_time": "2021-11-18T06:28:31.440Z"
   },
   {
    "duration": 3,
    "start_time": "2021-11-18T06:29:00.168Z"
   },
   {
    "duration": 3,
    "start_time": "2021-11-18T06:31:27.008Z"
   },
   {
    "duration": 2,
    "start_time": "2021-11-18T06:35:34.288Z"
   },
   {
    "duration": 2,
    "start_time": "2021-11-18T06:38:04.527Z"
   },
   {
    "duration": 326,
    "start_time": "2024-05-17T03:03:14.746Z"
   },
   {
    "duration": 4902,
    "start_time": "2024-07-26T01:29:26.389Z"
   },
   {
    "duration": 359,
    "start_time": "2024-07-26T01:29:31.296Z"
   },
   {
    "duration": 18,
    "start_time": "2024-07-26T01:29:31.660Z"
   },
   {
    "duration": 27,
    "start_time": "2024-07-26T01:29:31.683Z"
   },
   {
    "duration": 4,
    "start_time": "2024-07-26T01:29:31.713Z"
   },
   {
    "duration": 18,
    "start_time": "2024-07-26T01:29:31.720Z"
   },
   {
    "duration": 16,
    "start_time": "2024-07-26T01:29:31.740Z"
   },
   {
    "duration": 62,
    "start_time": "2024-07-26T01:29:31.759Z"
   },
   {
    "duration": 23,
    "start_time": "2024-07-26T01:29:31.824Z"
   },
   {
    "duration": 59,
    "start_time": "2024-07-26T01:29:31.852Z"
   },
   {
    "duration": 27,
    "start_time": "2024-07-26T01:29:31.914Z"
   },
   {
    "duration": 265,
    "start_time": "2024-07-26T01:29:31.943Z"
   },
   {
    "duration": 30,
    "start_time": "2024-07-26T01:29:32.212Z"
   },
   {
    "duration": 29,
    "start_time": "2024-07-26T01:29:32.245Z"
   },
   {
    "duration": 50,
    "start_time": "2024-07-26T01:29:32.276Z"
   },
   {
    "duration": 151,
    "start_time": "2024-07-26T01:29:32.329Z"
   },
   {
    "duration": 47,
    "start_time": "2024-07-26T01:29:32.483Z"
   },
   {
    "duration": 22,
    "start_time": "2024-07-26T01:29:32.533Z"
   },
   {
    "duration": 53,
    "start_time": "2024-07-26T01:29:32.557Z"
   },
   {
    "duration": 252,
    "start_time": "2024-07-26T01:29:32.613Z"
   },
   {
    "duration": 48,
    "start_time": "2024-07-26T01:29:32.868Z"
   },
   {
    "duration": 26,
    "start_time": "2024-07-26T01:29:32.920Z"
   },
   {
    "duration": 12,
    "start_time": "2024-07-26T01:29:32.949Z"
   },
   {
    "duration": 121,
    "start_time": "2024-07-26T01:29:32.964Z"
   },
   {
    "duration": 33,
    "start_time": "2024-07-26T01:29:33.088Z"
   },
   {
    "duration": 47,
    "start_time": "2024-07-26T01:29:33.124Z"
   },
   {
    "duration": 103,
    "start_time": "2024-07-26T01:29:33.174Z"
   },
   {
    "duration": 51,
    "start_time": "2024-07-26T01:29:33.286Z"
   },
   {
    "duration": 71,
    "start_time": "2024-07-26T01:29:33.339Z"
   },
   {
    "duration": 257,
    "start_time": "2024-07-26T01:29:33.413Z"
   },
   {
    "duration": 419,
    "start_time": "2024-07-26T01:29:33.673Z"
   },
   {
    "duration": 340,
    "start_time": "2024-07-26T01:29:34.108Z"
   },
   {
    "duration": 22,
    "start_time": "2024-07-26T01:29:34.451Z"
   },
   {
    "duration": 213,
    "start_time": "2024-07-26T01:29:34.477Z"
   },
   {
    "duration": 754,
    "start_time": "2024-07-26T01:29:34.693Z"
   },
   {
    "duration": 16,
    "start_time": "2024-07-26T01:29:35.450Z"
   },
   {
    "duration": 263,
    "start_time": "2024-07-26T01:29:35.469Z"
   },
   {
    "duration": 782,
    "start_time": "2024-07-26T01:29:35.736Z"
   },
   {
    "duration": 16,
    "start_time": "2024-07-26T01:29:36.521Z"
   },
   {
    "duration": 194,
    "start_time": "2024-07-26T01:29:36.540Z"
   },
   {
    "duration": 901,
    "start_time": "2024-07-26T01:29:36.737Z"
   },
   {
    "duration": 75,
    "start_time": "2024-07-26T01:29:37.641Z"
   },
   {
    "duration": 13,
    "start_time": "2024-07-26T01:29:37.719Z"
   },
   {
    "duration": 11,
    "start_time": "2024-07-26T01:29:37.735Z"
   }
  ],
  "colab": {
   "provenance": []
  },
  "kernelspec": {
   "display_name": "Python 3 (ipykernel)",
   "language": "python",
   "name": "python3"
  },
  "language_info": {
   "codemirror_mode": {
    "name": "ipython",
    "version": 3
   },
   "file_extension": ".py",
   "mimetype": "text/x-python",
   "name": "python",
   "nbconvert_exporter": "python",
   "pygments_lexer": "ipython3",
   "version": "3.9.19"
  },
  "toc": {
   "base_numbering": 1,
   "nav_menu": {},
   "number_sections": true,
   "sideBar": true,
   "skip_h1_title": false,
   "title_cell": "Table of Contents",
   "title_sidebar": "Contents",
   "toc_cell": false,
   "toc_position": {
    "height": "calc(100% - 180px)",
    "left": "10px",
    "top": "150px",
    "width": "165px"
   },
   "toc_section_display": true,
   "toc_window_display": true
  }
 },
 "nbformat": 4,
 "nbformat_minor": 1
}
